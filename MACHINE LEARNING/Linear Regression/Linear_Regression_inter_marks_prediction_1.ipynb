{
 "cells": [
  {
   "cell_type": "code",
   "execution_count": 1,
   "id": "cb6485df",
   "metadata": {},
   "outputs": [],
   "source": [
    "# MY LINEAR REGRESSION MODEL-1 "
   ]
  },
  {
   "cell_type": "markdown",
   "id": "a87e8549",
   "metadata": {},
   "source": [
    "# IMPORTING LIBRARIES"
   ]
  },
  {
   "cell_type": "code",
   "execution_count": 2,
   "id": "492a95b1",
   "metadata": {},
   "outputs": [],
   "source": [
    "import pandas as pd\n",
    "import numpy as np\n",
    "import seaborn as seabornInstance\n",
    "import matplotlib.pyplot as plt\n",
    "from sklearn.model_selection import train_test_split\n",
    "from sklearn.linear_model import LinearRegression\n",
    "from sklearn import metrics\n",
    "%matplotlib inline"
   ]
  },
  {
   "cell_type": "markdown",
   "id": "3a677108",
   "metadata": {},
   "source": [
    "# IMPORTING DATASET"
   ]
  },
  {
   "cell_type": "code",
   "execution_count": 8,
   "id": "ba6f5863",
   "metadata": {},
   "outputs": [],
   "source": [
    "dataset = pd.read_excel('linearproject1.xlsx')"
   ]
  },
  {
   "cell_type": "markdown",
   "id": "e886f529",
   "metadata": {},
   "source": [
    "# LEARNING ABOUT THE DATA AND DATA CLEANING"
   ]
  },
  {
   "cell_type": "code",
   "execution_count": 10,
   "id": "9d8e4594",
   "metadata": {},
   "outputs": [
    {
     "data": {
      "text/html": [
       "<div>\n",
       "<style scoped>\n",
       "    .dataframe tbody tr th:only-of-type {\n",
       "        vertical-align: middle;\n",
       "    }\n",
       "\n",
       "    .dataframe tbody tr th {\n",
       "        vertical-align: top;\n",
       "    }\n",
       "\n",
       "    .dataframe thead th {\n",
       "        text-align: right;\n",
       "    }\n",
       "</style>\n",
       "<table border=\"1\" class=\"dataframe\">\n",
       "  <thead>\n",
       "    <tr style=\"text-align: right;\">\n",
       "      <th></th>\n",
       "      <th>Sl.No</th>\n",
       "      <th>Roll Number</th>\n",
       "      <th>Full Name As Per Certificate</th>\n",
       "      <th>Program Name</th>\n",
       "      <th>Contact Number</th>\n",
       "      <th>Personal Email ID\\n</th>\n",
       "      <th>X %</th>\n",
       "      <th>INTER/12th/\\nDIPLOMA\\n%</th>\n",
       "      <th>UG % upto 3-2</th>\n",
       "      <th>PG</th>\n",
       "      <th>Status</th>\n",
       "    </tr>\n",
       "  </thead>\n",
       "  <tbody>\n",
       "    <tr>\n",
       "      <th>0</th>\n",
       "      <td>1</td>\n",
       "      <td>19121A0503</td>\n",
       "      <td>ACHANTA RUPA SRI</td>\n",
       "      <td>BTECH-CSE</td>\n",
       "      <td>9390681006</td>\n",
       "      <td>rupasrikkd147@gmail.com</td>\n",
       "      <td>93.10</td>\n",
       "      <td>97.00</td>\n",
       "      <td>92.00</td>\n",
       "      <td>NaN</td>\n",
       "      <td>Shortlisted for online assessment</td>\n",
       "    </tr>\n",
       "    <tr>\n",
       "      <th>1</th>\n",
       "      <td>2</td>\n",
       "      <td>19121A0504</td>\n",
       "      <td>ADLURU SUDEEPTHI</td>\n",
       "      <td>BTECH-CSE</td>\n",
       "      <td>9652335700</td>\n",
       "      <td>adlurusudeepthi@gmail.com</td>\n",
       "      <td>90.25</td>\n",
       "      <td>94.43</td>\n",
       "      <td>88.34</td>\n",
       "      <td>NaN</td>\n",
       "      <td>Shortlisted for online assessment</td>\n",
       "    </tr>\n",
       "    <tr>\n",
       "      <th>2</th>\n",
       "      <td>3</td>\n",
       "      <td>19121A0507</td>\n",
       "      <td>ARUMULLA TEJASWINI</td>\n",
       "      <td>BTECH-CSE</td>\n",
       "      <td>7673942409</td>\n",
       "      <td>tejaswiniarumulla2002@gmail.com</td>\n",
       "      <td>90.25</td>\n",
       "      <td>97.60</td>\n",
       "      <td>90.20</td>\n",
       "      <td>NaN</td>\n",
       "      <td>Shortlisted for online assessment</td>\n",
       "    </tr>\n",
       "    <tr>\n",
       "      <th>3</th>\n",
       "      <td>4</td>\n",
       "      <td>19121A0509</td>\n",
       "      <td>AVULA HITESH REDDY</td>\n",
       "      <td>BTECH-CSE</td>\n",
       "      <td>7207314567</td>\n",
       "      <td>hiteshreddya@gmail.com</td>\n",
       "      <td>88.35</td>\n",
       "      <td>97.60</td>\n",
       "      <td>85.33</td>\n",
       "      <td>NaN</td>\n",
       "      <td>Shortlisted for online assessment</td>\n",
       "    </tr>\n",
       "    <tr>\n",
       "      <th>4</th>\n",
       "      <td>5</td>\n",
       "      <td>19121A0510</td>\n",
       "      <td>AVULA KARTHIK</td>\n",
       "      <td>BTECH-CSE</td>\n",
       "      <td>9381163560</td>\n",
       "      <td>avulakarthik9@gmail.com</td>\n",
       "      <td>95.00</td>\n",
       "      <td>96.90</td>\n",
       "      <td>87.00</td>\n",
       "      <td>NaN</td>\n",
       "      <td>Shortlisted for online assessment</td>\n",
       "    </tr>\n",
       "  </tbody>\n",
       "</table>\n",
       "</div>"
      ],
      "text/plain": [
       "   Sl.No Roll Number Full Name As Per Certificate Program Name  \\\n",
       "0      1  19121A0503             ACHANTA RUPA SRI    BTECH-CSE   \n",
       "1      2  19121A0504             ADLURU SUDEEPTHI    BTECH-CSE   \n",
       "2      3  19121A0507           ARUMULLA TEJASWINI    BTECH-CSE   \n",
       "3      4  19121A0509           AVULA HITESH REDDY    BTECH-CSE   \n",
       "4      5  19121A0510                AVULA KARTHIK    BTECH-CSE   \n",
       "\n",
       "   Contact Number              Personal Email ID\\n    X %  \\\n",
       "0      9390681006          rupasrikkd147@gmail.com  93.10   \n",
       "1      9652335700        adlurusudeepthi@gmail.com  90.25   \n",
       "2      7673942409  tejaswiniarumulla2002@gmail.com  90.25   \n",
       "3      7207314567           hiteshreddya@gmail.com  88.35   \n",
       "4      9381163560          avulakarthik9@gmail.com  95.00   \n",
       "\n",
       "   INTER/12th/\\nDIPLOMA\\n%  UG % upto 3-2  PG   \\\n",
       "0                    97.00          92.00  NaN   \n",
       "1                    94.43          88.34  NaN   \n",
       "2                    97.60          90.20  NaN   \n",
       "3                    97.60          85.33  NaN   \n",
       "4                    96.90          87.00  NaN   \n",
       "\n",
       "                              Status  \n",
       "0  Shortlisted for online assessment  \n",
       "1  Shortlisted for online assessment  \n",
       "2  Shortlisted for online assessment  \n",
       "3  Shortlisted for online assessment  \n",
       "4  Shortlisted for online assessment  "
      ]
     },
     "execution_count": 10,
     "metadata": {},
     "output_type": "execute_result"
    }
   ],
   "source": [
    "dataset.head()"
   ]
  },
  {
   "cell_type": "code",
   "execution_count": 12,
   "id": "acab01d7",
   "metadata": {},
   "outputs": [
    {
     "data": {
      "text/html": [
       "<div>\n",
       "<style scoped>\n",
       "    .dataframe tbody tr th:only-of-type {\n",
       "        vertical-align: middle;\n",
       "    }\n",
       "\n",
       "    .dataframe tbody tr th {\n",
       "        vertical-align: top;\n",
       "    }\n",
       "\n",
       "    .dataframe thead th {\n",
       "        text-align: right;\n",
       "    }\n",
       "</style>\n",
       "<table border=\"1\" class=\"dataframe\">\n",
       "  <thead>\n",
       "    <tr style=\"text-align: right;\">\n",
       "      <th></th>\n",
       "      <th>Sl.No</th>\n",
       "      <th>Roll Number</th>\n",
       "      <th>Full Name As Per Certificate</th>\n",
       "      <th>Program Name</th>\n",
       "      <th>Contact Number</th>\n",
       "      <th>Personal Email ID\\n</th>\n",
       "      <th>X %</th>\n",
       "      <th>INTER/12th/\\nDIPLOMA\\n%</th>\n",
       "      <th>UG % upto 3-2</th>\n",
       "      <th>PG</th>\n",
       "      <th>Status</th>\n",
       "    </tr>\n",
       "  </thead>\n",
       "  <tbody>\n",
       "    <tr>\n",
       "      <th>164</th>\n",
       "      <td>165</td>\n",
       "      <td>21121F0051</td>\n",
       "      <td>KONDE RAMYASREE</td>\n",
       "      <td>MCA</td>\n",
       "      <td>9391866240</td>\n",
       "      <td>konderamyasree9676@gmail.com</td>\n",
       "      <td>87.40</td>\n",
       "      <td>86.4</td>\n",
       "      <td>87.4</td>\n",
       "      <td>85.500</td>\n",
       "      <td>Shortlisted for online assessment</td>\n",
       "    </tr>\n",
       "    <tr>\n",
       "      <th>165</th>\n",
       "      <td>166</td>\n",
       "      <td>21121F0053</td>\n",
       "      <td>KONGANI RUDRA TEJA</td>\n",
       "      <td>MCA</td>\n",
       "      <td>7013180024</td>\n",
       "      <td>rudrateja0950@gmail.com</td>\n",
       "      <td>90.25</td>\n",
       "      <td>96.6</td>\n",
       "      <td>87.9</td>\n",
       "      <td>85.750</td>\n",
       "      <td>Shortlisted for online assessment</td>\n",
       "    </tr>\n",
       "    <tr>\n",
       "      <th>166</th>\n",
       "      <td>167</td>\n",
       "      <td>21121F0063</td>\n",
       "      <td>MADDU MADHAVI</td>\n",
       "      <td>MCA</td>\n",
       "      <td>9959648483</td>\n",
       "      <td>madhavimaddu72@gmail.com</td>\n",
       "      <td>90.25</td>\n",
       "      <td>93.4</td>\n",
       "      <td>86.0</td>\n",
       "      <td>89.750</td>\n",
       "      <td>Shortlisted for online assessment</td>\n",
       "    </tr>\n",
       "    <tr>\n",
       "      <th>167</th>\n",
       "      <td>168</td>\n",
       "      <td>21121F0071</td>\n",
       "      <td>NADELLA RANGA TIRUMALA GRUHA LAKSHMI</td>\n",
       "      <td>MCA</td>\n",
       "      <td>9110595648</td>\n",
       "      <td>lakshminadella2@gmail.com</td>\n",
       "      <td>92.15</td>\n",
       "      <td>96.5</td>\n",
       "      <td>92.0</td>\n",
       "      <td>89.875</td>\n",
       "      <td>Shortlisted for online assessment</td>\n",
       "    </tr>\n",
       "    <tr>\n",
       "      <th>168</th>\n",
       "      <td>169</td>\n",
       "      <td>21121F00D2</td>\n",
       "      <td>YERRAJODU BHARGAVI</td>\n",
       "      <td>MCA</td>\n",
       "      <td>7794020806</td>\n",
       "      <td>bhargaviy160@gmail.com</td>\n",
       "      <td>88.35</td>\n",
       "      <td>94.5</td>\n",
       "      <td>88.0</td>\n",
       "      <td>88.500</td>\n",
       "      <td>Shortlisted for online assessment</td>\n",
       "    </tr>\n",
       "  </tbody>\n",
       "</table>\n",
       "</div>"
      ],
      "text/plain": [
       "     Sl.No Roll Number          Full Name As Per Certificate Program Name  \\\n",
       "164    165  21121F0051                       KONDE RAMYASREE          MCA   \n",
       "165    166  21121F0053                    KONGANI RUDRA TEJA          MCA   \n",
       "166    167  21121F0063                         MADDU MADHAVI          MCA   \n",
       "167    168  21121F0071  NADELLA RANGA TIRUMALA GRUHA LAKSHMI          MCA   \n",
       "168    169  21121F00D2                    YERRAJODU BHARGAVI          MCA   \n",
       "\n",
       "     Contact Number           Personal Email ID\\n    X %  \\\n",
       "164      9391866240  konderamyasree9676@gmail.com  87.40   \n",
       "165      7013180024       rudrateja0950@gmail.com  90.25   \n",
       "166      9959648483      madhavimaddu72@gmail.com  90.25   \n",
       "167      9110595648     lakshminadella2@gmail.com  92.15   \n",
       "168      7794020806        bhargaviy160@gmail.com  88.35   \n",
       "\n",
       "     INTER/12th/\\nDIPLOMA\\n%  UG % upto 3-2     PG   \\\n",
       "164                     86.4           87.4  85.500   \n",
       "165                     96.6           87.9  85.750   \n",
       "166                     93.4           86.0  89.750   \n",
       "167                     96.5           92.0  89.875   \n",
       "168                     94.5           88.0  88.500   \n",
       "\n",
       "                                Status  \n",
       "164  Shortlisted for online assessment  \n",
       "165  Shortlisted for online assessment  \n",
       "166  Shortlisted for online assessment  \n",
       "167  Shortlisted for online assessment  \n",
       "168  Shortlisted for online assessment  "
      ]
     },
     "execution_count": 12,
     "metadata": {},
     "output_type": "execute_result"
    }
   ],
   "source": [
    "dataset.tail()"
   ]
  },
  {
   "cell_type": "code",
   "execution_count": 14,
   "id": "1cc34337",
   "metadata": {},
   "outputs": [
    {
     "name": "stdout",
     "output_type": "stream",
     "text": [
      "Index(['Sl.No', 'Roll Number', 'Full Name As Per Certificate', 'Program Name',\n",
      "       'Contact Number', 'Personal Email ID\\n', 'X %',\n",
      "       'INTER/12th/\\nDIPLOMA\\n%', 'UG % upto 3-2', 'PG ', 'Status'],\n",
      "      dtype='object')\n"
     ]
    }
   ],
   "source": [
    "print(dataset.columns)"
   ]
  },
  {
   "cell_type": "code",
   "execution_count": 16,
   "id": "db7c2842",
   "metadata": {},
   "outputs": [
    {
     "name": "stdout",
     "output_type": "stream",
     "text": [
      "(169, 11)\n"
     ]
    }
   ],
   "source": [
    "print(dataset.shape)"
   ]
  },
  {
   "cell_type": "code",
   "execution_count": 17,
   "id": "c3035b65",
   "metadata": {},
   "outputs": [
    {
     "data": {
      "text/html": [
       "<div>\n",
       "<style scoped>\n",
       "    .dataframe tbody tr th:only-of-type {\n",
       "        vertical-align: middle;\n",
       "    }\n",
       "\n",
       "    .dataframe tbody tr th {\n",
       "        vertical-align: top;\n",
       "    }\n",
       "\n",
       "    .dataframe thead th {\n",
       "        text-align: right;\n",
       "    }\n",
       "</style>\n",
       "<table border=\"1\" class=\"dataframe\">\n",
       "  <thead>\n",
       "    <tr style=\"text-align: right;\">\n",
       "      <th></th>\n",
       "      <th>Sl.No</th>\n",
       "      <th>Contact Number</th>\n",
       "      <th>X %</th>\n",
       "      <th>INTER/12th/\\nDIPLOMA\\n%</th>\n",
       "      <th>UG % upto 3-2</th>\n",
       "      <th>PG</th>\n",
       "    </tr>\n",
       "  </thead>\n",
       "  <tbody>\n",
       "    <tr>\n",
       "      <th>count</th>\n",
       "      <td>169.000000</td>\n",
       "      <td>1.690000e+02</td>\n",
       "      <td>169.000000</td>\n",
       "      <td>169.000000</td>\n",
       "      <td>169.000000</td>\n",
       "      <td>8.000000</td>\n",
       "    </tr>\n",
       "    <tr>\n",
       "      <th>mean</th>\n",
       "      <td>85.000000</td>\n",
       "      <td>8.494959e+09</td>\n",
       "      <td>91.830473</td>\n",
       "      <td>94.591293</td>\n",
       "      <td>88.935296</td>\n",
       "      <td>88.640625</td>\n",
       "    </tr>\n",
       "    <tr>\n",
       "      <th>std</th>\n",
       "      <td>48.930222</td>\n",
       "      <td>1.106112e+09</td>\n",
       "      <td>3.067131</td>\n",
       "      <td>2.698306</td>\n",
       "      <td>2.497478</td>\n",
       "      <td>2.729990</td>\n",
       "    </tr>\n",
       "    <tr>\n",
       "      <th>min</th>\n",
       "      <td>1.000000</td>\n",
       "      <td>6.281062e+09</td>\n",
       "      <td>85.000000</td>\n",
       "      <td>85.661538</td>\n",
       "      <td>85.000000</td>\n",
       "      <td>85.500000</td>\n",
       "    </tr>\n",
       "    <tr>\n",
       "      <th>25%</th>\n",
       "      <td>43.000000</td>\n",
       "      <td>7.569683e+09</td>\n",
       "      <td>90.250000</td>\n",
       "      <td>93.800000</td>\n",
       "      <td>86.930147</td>\n",
       "      <td>86.125000</td>\n",
       "    </tr>\n",
       "    <tr>\n",
       "      <th>50%</th>\n",
       "      <td>85.000000</td>\n",
       "      <td>8.919416e+09</td>\n",
       "      <td>92.700000</td>\n",
       "      <td>95.000000</td>\n",
       "      <td>88.905109</td>\n",
       "      <td>89.125000</td>\n",
       "    </tr>\n",
       "    <tr>\n",
       "      <th>75%</th>\n",
       "      <td>127.000000</td>\n",
       "      <td>9.390439e+09</td>\n",
       "      <td>95.000000</td>\n",
       "      <td>96.400000</td>\n",
       "      <td>90.974265</td>\n",
       "      <td>89.906250</td>\n",
       "    </tr>\n",
       "    <tr>\n",
       "      <th>max</th>\n",
       "      <td>169.000000</td>\n",
       "      <td>9.959648e+09</td>\n",
       "      <td>95.000000</td>\n",
       "      <td>99.200000</td>\n",
       "      <td>96.500000</td>\n",
       "      <td>93.500000</td>\n",
       "    </tr>\n",
       "  </tbody>\n",
       "</table>\n",
       "</div>"
      ],
      "text/plain": [
       "            Sl.No  Contact Number         X %  INTER/12th/\\nDIPLOMA\\n%  \\\n",
       "count  169.000000    1.690000e+02  169.000000               169.000000   \n",
       "mean    85.000000    8.494959e+09   91.830473                94.591293   \n",
       "std     48.930222    1.106112e+09    3.067131                 2.698306   \n",
       "min      1.000000    6.281062e+09   85.000000                85.661538   \n",
       "25%     43.000000    7.569683e+09   90.250000                93.800000   \n",
       "50%     85.000000    8.919416e+09   92.700000                95.000000   \n",
       "75%    127.000000    9.390439e+09   95.000000                96.400000   \n",
       "max    169.000000    9.959648e+09   95.000000                99.200000   \n",
       "\n",
       "       UG % upto 3-2        PG   \n",
       "count     169.000000   8.000000  \n",
       "mean       88.935296  88.640625  \n",
       "std         2.497478   2.729990  \n",
       "min        85.000000  85.500000  \n",
       "25%        86.930147  86.125000  \n",
       "50%        88.905109  89.125000  \n",
       "75%        90.974265  89.906250  \n",
       "max        96.500000  93.500000  "
      ]
     },
     "execution_count": 17,
     "metadata": {},
     "output_type": "execute_result"
    }
   ],
   "source": [
    "dataset.describe()"
   ]
  },
  {
   "cell_type": "code",
   "execution_count": 18,
   "id": "ce4f4bbc",
   "metadata": {},
   "outputs": [
    {
     "name": "stdout",
     "output_type": "stream",
     "text": [
      "<class 'pandas.core.frame.DataFrame'>\n",
      "RangeIndex: 169 entries, 0 to 168\n",
      "Data columns (total 11 columns):\n",
      " #   Column                        Non-Null Count  Dtype  \n",
      "---  ------                        --------------  -----  \n",
      " 0   Sl.No                         169 non-null    int64  \n",
      " 1   Roll Number                   169 non-null    object \n",
      " 2   Full Name As Per Certificate  169 non-null    object \n",
      " 3   Program Name                  169 non-null    object \n",
      " 4   Contact Number                169 non-null    int64  \n",
      " 5   Personal Email ID\n",
      "            169 non-null    object \n",
      " 6   X %                           169 non-null    float64\n",
      " 7   INTER/12th/\n",
      "DIPLOMA\n",
      "%         169 non-null    float64\n",
      " 8   UG % upto 3-2                 169 non-null    float64\n",
      " 9   PG                            8 non-null      float64\n",
      " 10  Status                        169 non-null    object \n",
      "dtypes: float64(4), int64(2), object(5)\n",
      "memory usage: 14.6+ KB\n"
     ]
    }
   ],
   "source": [
    "dataset.info()"
   ]
  },
  {
   "cell_type": "code",
   "execution_count": 20,
   "id": "2b758b15",
   "metadata": {},
   "outputs": [
    {
     "data": {
      "text/plain": [
       "Sl.No                             0\n",
       "Roll Number                       0\n",
       "Full Name As Per Certificate      0\n",
       "Program Name                      0\n",
       "Contact Number                    0\n",
       "Personal Email ID\\n               0\n",
       "X %                               0\n",
       "INTER/12th/\\nDIPLOMA\\n%           0\n",
       "UG % upto 3-2                     0\n",
       "PG                              161\n",
       "Status                            0\n",
       "dtype: int64"
      ]
     },
     "execution_count": 20,
     "metadata": {},
     "output_type": "execute_result"
    }
   ],
   "source": [
    "dataset.isna().sum()"
   ]
  },
  {
   "cell_type": "code",
   "execution_count": 21,
   "id": "26302830",
   "metadata": {},
   "outputs": [],
   "source": [
    "#column PG contains 161 null values.."
   ]
  },
  {
   "cell_type": "code",
   "execution_count": null,
   "id": "c852669b",
   "metadata": {},
   "outputs": [],
   "source": []
  },
  {
   "cell_type": "markdown",
   "id": "43281316",
   "metadata": {},
   "source": [
    "# Dropping the columns that are unnecessary and columns containing null values"
   ]
  },
  {
   "cell_type": "code",
   "execution_count": null,
   "id": "dabac095",
   "metadata": {},
   "outputs": [],
   "source": [
    "dataset = dataset.drop(dataset.columns[[2,4,5,9]],axis = 1)"
   ]
  },
  {
   "cell_type": "code",
   "execution_count": 29,
   "id": "aca1d74b",
   "metadata": {},
   "outputs": [],
   "source": [
    "dataset.drop(\"Status\",axis = 1,inplace = True)"
   ]
  },
  {
   "cell_type": "code",
   "execution_count": 30,
   "id": "4da38f6b",
   "metadata": {},
   "outputs": [
    {
     "data": {
      "text/html": [
       "<div>\n",
       "<style scoped>\n",
       "    .dataframe tbody tr th:only-of-type {\n",
       "        vertical-align: middle;\n",
       "    }\n",
       "\n",
       "    .dataframe tbody tr th {\n",
       "        vertical-align: top;\n",
       "    }\n",
       "\n",
       "    .dataframe thead th {\n",
       "        text-align: right;\n",
       "    }\n",
       "</style>\n",
       "<table border=\"1\" class=\"dataframe\">\n",
       "  <thead>\n",
       "    <tr style=\"text-align: right;\">\n",
       "      <th></th>\n",
       "      <th>Sl.No</th>\n",
       "      <th>Roll Number</th>\n",
       "      <th>Program Name</th>\n",
       "      <th>X %</th>\n",
       "      <th>INTER/12th/\\nDIPLOMA\\n%</th>\n",
       "    </tr>\n",
       "  </thead>\n",
       "  <tbody>\n",
       "    <tr>\n",
       "      <th>0</th>\n",
       "      <td>1</td>\n",
       "      <td>19121A0503</td>\n",
       "      <td>BTECH-CSE</td>\n",
       "      <td>93.10</td>\n",
       "      <td>97.00</td>\n",
       "    </tr>\n",
       "    <tr>\n",
       "      <th>1</th>\n",
       "      <td>2</td>\n",
       "      <td>19121A0504</td>\n",
       "      <td>BTECH-CSE</td>\n",
       "      <td>90.25</td>\n",
       "      <td>94.43</td>\n",
       "    </tr>\n",
       "    <tr>\n",
       "      <th>2</th>\n",
       "      <td>3</td>\n",
       "      <td>19121A0507</td>\n",
       "      <td>BTECH-CSE</td>\n",
       "      <td>90.25</td>\n",
       "      <td>97.60</td>\n",
       "    </tr>\n",
       "    <tr>\n",
       "      <th>3</th>\n",
       "      <td>4</td>\n",
       "      <td>19121A0509</td>\n",
       "      <td>BTECH-CSE</td>\n",
       "      <td>88.35</td>\n",
       "      <td>97.60</td>\n",
       "    </tr>\n",
       "    <tr>\n",
       "      <th>4</th>\n",
       "      <td>5</td>\n",
       "      <td>19121A0510</td>\n",
       "      <td>BTECH-CSE</td>\n",
       "      <td>95.00</td>\n",
       "      <td>96.90</td>\n",
       "    </tr>\n",
       "    <tr>\n",
       "      <th>...</th>\n",
       "      <td>...</td>\n",
       "      <td>...</td>\n",
       "      <td>...</td>\n",
       "      <td>...</td>\n",
       "      <td>...</td>\n",
       "    </tr>\n",
       "    <tr>\n",
       "      <th>164</th>\n",
       "      <td>165</td>\n",
       "      <td>21121F0051</td>\n",
       "      <td>MCA</td>\n",
       "      <td>87.40</td>\n",
       "      <td>86.40</td>\n",
       "    </tr>\n",
       "    <tr>\n",
       "      <th>165</th>\n",
       "      <td>166</td>\n",
       "      <td>21121F0053</td>\n",
       "      <td>MCA</td>\n",
       "      <td>90.25</td>\n",
       "      <td>96.60</td>\n",
       "    </tr>\n",
       "    <tr>\n",
       "      <th>166</th>\n",
       "      <td>167</td>\n",
       "      <td>21121F0063</td>\n",
       "      <td>MCA</td>\n",
       "      <td>90.25</td>\n",
       "      <td>93.40</td>\n",
       "    </tr>\n",
       "    <tr>\n",
       "      <th>167</th>\n",
       "      <td>168</td>\n",
       "      <td>21121F0071</td>\n",
       "      <td>MCA</td>\n",
       "      <td>92.15</td>\n",
       "      <td>96.50</td>\n",
       "    </tr>\n",
       "    <tr>\n",
       "      <th>168</th>\n",
       "      <td>169</td>\n",
       "      <td>21121F00D2</td>\n",
       "      <td>MCA</td>\n",
       "      <td>88.35</td>\n",
       "      <td>94.50</td>\n",
       "    </tr>\n",
       "  </tbody>\n",
       "</table>\n",
       "<p>169 rows × 5 columns</p>\n",
       "</div>"
      ],
      "text/plain": [
       "     Sl.No Roll Number Program Name    X %  INTER/12th/\\nDIPLOMA\\n%\n",
       "0        1  19121A0503    BTECH-CSE  93.10                    97.00\n",
       "1        2  19121A0504    BTECH-CSE  90.25                    94.43\n",
       "2        3  19121A0507    BTECH-CSE  90.25                    97.60\n",
       "3        4  19121A0509    BTECH-CSE  88.35                    97.60\n",
       "4        5  19121A0510    BTECH-CSE  95.00                    96.90\n",
       "..     ...         ...          ...    ...                      ...\n",
       "164    165  21121F0051          MCA  87.40                    86.40\n",
       "165    166  21121F0053          MCA  90.25                    96.60\n",
       "166    167  21121F0063          MCA  90.25                    93.40\n",
       "167    168  21121F0071          MCA  92.15                    96.50\n",
       "168    169  21121F00D2          MCA  88.35                    94.50\n",
       "\n",
       "[169 rows x 5 columns]"
      ]
     },
     "execution_count": 30,
     "metadata": {},
     "output_type": "execute_result"
    }
   ],
   "source": [
    "dataset"
   ]
  },
  {
   "cell_type": "code",
   "execution_count": 31,
   "id": "16279785",
   "metadata": {},
   "outputs": [],
   "source": [
    "#renaming our dependent and independent column names"
   ]
  },
  {
   "cell_type": "code",
   "execution_count": 32,
   "id": "8b2e3153",
   "metadata": {},
   "outputs": [],
   "source": [
    "dataset.set_axis(['SI_No','Stu_Id_No','Program_Name','Tenth_Std_Marks','Twelfth_Std_Marks'],axis='columns', inplace=True)"
   ]
  },
  {
   "cell_type": "code",
   "execution_count": 34,
   "id": "224cf78c",
   "metadata": {},
   "outputs": [
    {
     "data": {
      "text/html": [
       "<div>\n",
       "<style scoped>\n",
       "    .dataframe tbody tr th:only-of-type {\n",
       "        vertical-align: middle;\n",
       "    }\n",
       "\n",
       "    .dataframe tbody tr th {\n",
       "        vertical-align: top;\n",
       "    }\n",
       "\n",
       "    .dataframe thead th {\n",
       "        text-align: right;\n",
       "    }\n",
       "</style>\n",
       "<table border=\"1\" class=\"dataframe\">\n",
       "  <thead>\n",
       "    <tr style=\"text-align: right;\">\n",
       "      <th></th>\n",
       "      <th>SI_No</th>\n",
       "      <th>Stu_Id_No</th>\n",
       "      <th>Program_Name</th>\n",
       "      <th>Tenth_Std_Marks</th>\n",
       "      <th>Twelfth_Std_Marks</th>\n",
       "    </tr>\n",
       "  </thead>\n",
       "  <tbody>\n",
       "    <tr>\n",
       "      <th>0</th>\n",
       "      <td>1</td>\n",
       "      <td>19121A0503</td>\n",
       "      <td>BTECH-CSE</td>\n",
       "      <td>93.10</td>\n",
       "      <td>97.00</td>\n",
       "    </tr>\n",
       "    <tr>\n",
       "      <th>1</th>\n",
       "      <td>2</td>\n",
       "      <td>19121A0504</td>\n",
       "      <td>BTECH-CSE</td>\n",
       "      <td>90.25</td>\n",
       "      <td>94.43</td>\n",
       "    </tr>\n",
       "    <tr>\n",
       "      <th>2</th>\n",
       "      <td>3</td>\n",
       "      <td>19121A0507</td>\n",
       "      <td>BTECH-CSE</td>\n",
       "      <td>90.25</td>\n",
       "      <td>97.60</td>\n",
       "    </tr>\n",
       "    <tr>\n",
       "      <th>3</th>\n",
       "      <td>4</td>\n",
       "      <td>19121A0509</td>\n",
       "      <td>BTECH-CSE</td>\n",
       "      <td>88.35</td>\n",
       "      <td>97.60</td>\n",
       "    </tr>\n",
       "    <tr>\n",
       "      <th>4</th>\n",
       "      <td>5</td>\n",
       "      <td>19121A0510</td>\n",
       "      <td>BTECH-CSE</td>\n",
       "      <td>95.00</td>\n",
       "      <td>96.90</td>\n",
       "    </tr>\n",
       "    <tr>\n",
       "      <th>...</th>\n",
       "      <td>...</td>\n",
       "      <td>...</td>\n",
       "      <td>...</td>\n",
       "      <td>...</td>\n",
       "      <td>...</td>\n",
       "    </tr>\n",
       "    <tr>\n",
       "      <th>164</th>\n",
       "      <td>165</td>\n",
       "      <td>21121F0051</td>\n",
       "      <td>MCA</td>\n",
       "      <td>87.40</td>\n",
       "      <td>86.40</td>\n",
       "    </tr>\n",
       "    <tr>\n",
       "      <th>165</th>\n",
       "      <td>166</td>\n",
       "      <td>21121F0053</td>\n",
       "      <td>MCA</td>\n",
       "      <td>90.25</td>\n",
       "      <td>96.60</td>\n",
       "    </tr>\n",
       "    <tr>\n",
       "      <th>166</th>\n",
       "      <td>167</td>\n",
       "      <td>21121F0063</td>\n",
       "      <td>MCA</td>\n",
       "      <td>90.25</td>\n",
       "      <td>93.40</td>\n",
       "    </tr>\n",
       "    <tr>\n",
       "      <th>167</th>\n",
       "      <td>168</td>\n",
       "      <td>21121F0071</td>\n",
       "      <td>MCA</td>\n",
       "      <td>92.15</td>\n",
       "      <td>96.50</td>\n",
       "    </tr>\n",
       "    <tr>\n",
       "      <th>168</th>\n",
       "      <td>169</td>\n",
       "      <td>21121F00D2</td>\n",
       "      <td>MCA</td>\n",
       "      <td>88.35</td>\n",
       "      <td>94.50</td>\n",
       "    </tr>\n",
       "  </tbody>\n",
       "</table>\n",
       "<p>169 rows × 5 columns</p>\n",
       "</div>"
      ],
      "text/plain": [
       "     SI_No   Stu_Id_No Program_Name  Tenth_Std_Marks  Twelfth_Std_Marks\n",
       "0        1  19121A0503    BTECH-CSE            93.10              97.00\n",
       "1        2  19121A0504    BTECH-CSE            90.25              94.43\n",
       "2        3  19121A0507    BTECH-CSE            90.25              97.60\n",
       "3        4  19121A0509    BTECH-CSE            88.35              97.60\n",
       "4        5  19121A0510    BTECH-CSE            95.00              96.90\n",
       "..     ...         ...          ...              ...                ...\n",
       "164    165  21121F0051          MCA            87.40              86.40\n",
       "165    166  21121F0053          MCA            90.25              96.60\n",
       "166    167  21121F0063          MCA            90.25              93.40\n",
       "167    168  21121F0071          MCA            92.15              96.50\n",
       "168    169  21121F00D2          MCA            88.35              94.50\n",
       "\n",
       "[169 rows x 5 columns]"
      ]
     },
     "execution_count": 34,
     "metadata": {},
     "output_type": "execute_result"
    }
   ],
   "source": [
    "dataset"
   ]
  },
  {
   "cell_type": "code",
   "execution_count": null,
   "id": "a8664ba1",
   "metadata": {},
   "outputs": [],
   "source": []
  },
  {
   "cell_type": "code",
   "execution_count": 36,
   "id": "3a0f98d0",
   "metadata": {},
   "outputs": [
    {
     "data": {
      "text/plain": [
       "<seaborn.axisgrid.FacetGrid at 0x2590f23b430>"
      ]
     },
     "execution_count": 36,
     "metadata": {},
     "output_type": "execute_result"
    },
    {
     "data": {
      "text/plain": [
       "<Figure size 360x360 with 0 Axes>"
      ]
     },
     "metadata": {},
     "output_type": "display_data"
    },
    {
     "data": {
      "image/png": "[encoded data removed]",
      "text/plain": [
       "<Figure size 360x360 with 1 Axes>"
      ]
     },
     "metadata": {
      "needs_background": "light"
     },
     "output_type": "display_data"
    }
   ],
   "source": [
    "#plotting the Tenth_Std_Marks alone \n",
    "plt.figure(figsize=(5,5))\n",
    "plt.tight_layout()\n",
    "seabornInstance.displot(dataset['Tenth_Std_Marks'])"
   ]
  },
  {
   "cell_type": "code",
   "execution_count": 39,
   "id": "25dc4c7c",
   "metadata": {},
   "outputs": [
    {
     "data": {
      "text/plain": [
       "<seaborn.axisgrid.FacetGrid at 0x259100de190>"
      ]
     },
     "execution_count": 39,
     "metadata": {},
     "output_type": "execute_result"
    },
    {
     "data": {
      "text/plain": [
       "<Figure size 360x360 with 0 Axes>"
      ]
     },
     "metadata": {},
     "output_type": "display_data"
    },
    {
     "data": {
      "image/png": "[encoded data removed]",
      "text/plain": [
       "<Figure size 360x360 with 1 Axes>"
      ]
     },
     "metadata": {
      "needs_background": "light"
     },
     "output_type": "display_data"
    }
   ],
   "source": [
    "#plotting the Twelfth_marks alone \n",
    "plt.figure(figsize=(5,5))\n",
    "plt.tight_layout()\n",
    "seabornInstance.displot(dataset['Twelfth_Std_Marks'])"
   ]
  },
  {
   "cell_type": "code",
   "execution_count": null,
   "id": "f30f4f76",
   "metadata": {},
   "outputs": [],
   "source": []
  },
  {
   "cell_type": "code",
   "execution_count": 41,
   "id": "b51a283d",
   "metadata": {},
   "outputs": [],
   "source": [
    "data = pd.read_excel('linearproject1.xlsx')"
   ]
  },
  {
   "cell_type": "code",
   "execution_count": 42,
   "id": "5c855f97",
   "metadata": {},
   "outputs": [
    {
     "data": {
      "text/html": [
       "<div>\n",
       "<style scoped>\n",
       "    .dataframe tbody tr th:only-of-type {\n",
       "        vertical-align: middle;\n",
       "    }\n",
       "\n",
       "    .dataframe tbody tr th {\n",
       "        vertical-align: top;\n",
       "    }\n",
       "\n",
       "    .dataframe thead th {\n",
       "        text-align: right;\n",
       "    }\n",
       "</style>\n",
       "<table border=\"1\" class=\"dataframe\">\n",
       "  <thead>\n",
       "    <tr style=\"text-align: right;\">\n",
       "      <th></th>\n",
       "      <th>Sl.No</th>\n",
       "      <th>Contact Number</th>\n",
       "      <th>X %</th>\n",
       "      <th>INTER/12th/\\nDIPLOMA\\n%</th>\n",
       "      <th>UG % upto 3-2</th>\n",
       "      <th>PG</th>\n",
       "    </tr>\n",
       "  </thead>\n",
       "  <tbody>\n",
       "    <tr>\n",
       "      <th>Sl.No</th>\n",
       "      <td>1.000000</td>\n",
       "      <td>-0.066428</td>\n",
       "      <td>0.023677</td>\n",
       "      <td>-0.215707</td>\n",
       "      <td>-0.231209</td>\n",
       "      <td>-0.185592</td>\n",
       "    </tr>\n",
       "    <tr>\n",
       "      <th>Contact Number</th>\n",
       "      <td>-0.066428</td>\n",
       "      <td>1.000000</td>\n",
       "      <td>0.223457</td>\n",
       "      <td>-0.126106</td>\n",
       "      <td>0.030935</td>\n",
       "      <td>0.434628</td>\n",
       "    </tr>\n",
       "    <tr>\n",
       "      <th>X %</th>\n",
       "      <td>0.023677</td>\n",
       "      <td>0.223457</td>\n",
       "      <td>1.000000</td>\n",
       "      <td>0.008432</td>\n",
       "      <td>0.139546</td>\n",
       "      <td>0.230541</td>\n",
       "    </tr>\n",
       "    <tr>\n",
       "      <th>INTER/12th/\\nDIPLOMA\\n%</th>\n",
       "      <td>-0.215707</td>\n",
       "      <td>-0.126106</td>\n",
       "      <td>0.008432</td>\n",
       "      <td>1.000000</td>\n",
       "      <td>0.257326</td>\n",
       "      <td>0.511883</td>\n",
       "    </tr>\n",
       "    <tr>\n",
       "      <th>UG % upto 3-2</th>\n",
       "      <td>-0.231209</td>\n",
       "      <td>0.030935</td>\n",
       "      <td>0.139546</td>\n",
       "      <td>0.257326</td>\n",
       "      <td>1.000000</td>\n",
       "      <td>0.514434</td>\n",
       "    </tr>\n",
       "    <tr>\n",
       "      <th>PG</th>\n",
       "      <td>-0.185592</td>\n",
       "      <td>0.434628</td>\n",
       "      <td>0.230541</td>\n",
       "      <td>0.511883</td>\n",
       "      <td>0.514434</td>\n",
       "      <td>1.000000</td>\n",
       "    </tr>\n",
       "  </tbody>\n",
       "</table>\n",
       "</div>"
      ],
      "text/plain": [
       "                            Sl.No  Contact Number       X %  \\\n",
       "Sl.No                    1.000000       -0.066428  0.023677   \n",
       "Contact Number          -0.066428        1.000000  0.223457   \n",
       "X %                      0.023677        0.223457  1.000000   \n",
       "INTER/12th/\\nDIPLOMA\\n% -0.215707       -0.126106  0.008432   \n",
       "UG % upto 3-2           -0.231209        0.030935  0.139546   \n",
       "PG                      -0.185592        0.434628  0.230541   \n",
       "\n",
       "                         INTER/12th/\\nDIPLOMA\\n%  UG % upto 3-2       PG   \n",
       "Sl.No                                  -0.215707      -0.231209 -0.185592  \n",
       "Contact Number                         -0.126106       0.030935  0.434628  \n",
       "X %                                     0.008432       0.139546  0.230541  \n",
       "INTER/12th/\\nDIPLOMA\\n%                 1.000000       0.257326  0.511883  \n",
       "UG % upto 3-2                           0.257326       1.000000  0.514434  \n",
       "PG                                      0.511883       0.514434  1.000000  "
      ]
     },
     "execution_count": 42,
     "metadata": {},
     "output_type": "execute_result"
    }
   ],
   "source": [
    "data.corr()"
   ]
  },
  {
   "cell_type": "code",
   "execution_count": 44,
   "id": "a0cb7f45",
   "metadata": {},
   "outputs": [
    {
     "data": {
      "text/plain": [
       "<AxesSubplot:>"
      ]
     },
     "execution_count": 44,
     "metadata": {},
     "output_type": "execute_result"
    },
    {
     "data": {
      "image/png": "[encoded data removed]",
      "text/plain": [
       "<Figure size 432x288 with 2 Axes>"
      ]
     },
     "metadata": {
      "needs_background": "light"
     },
     "output_type": "display_data"
    }
   ],
   "source": [
    "seabornInstance.heatmap(data.corr(), cmap=\"YlGnBu\", annot=True)"
   ]
  },
  {
   "cell_type": "markdown",
   "id": "e254bbfe",
   "metadata": {},
   "source": [
    "I THOUGHT OF DESIGNING A MODEL WHERE IT PREDICTS THE LABEL:\"TWELFTH MARKS\" USING FEATURE:\"TENTH MARKS\" BUT THE CO-RELATION BETWEEN THE VARIBLES IS VERY LESS(0.0084) WHICH IS NEARLY ZERO, WHICH IS NEUTRAL. SO LINEAR REGRESSION MODEL IS NOT POSSIBLE."
   ]
  },
  {
   "cell_type": "markdown",
   "id": "0d9cac1c",
   "metadata": {},
   "source": [
    "# THIS IS MY FIRST OWN HANDS-ON SMALL PROJECT WITH MY DATA :)"
   ]
  },
  {
   "cell_type": "code",
   "execution_count": null,
   "id": "30d29226",
   "metadata": {},
   "outputs": [],
   "source": []
  }
 ],
 "metadata": {
  "kernelspec": {
   "display_name": "Python 3 (ipykernel)",
   "language": "python",
   "name": "python3"
  },
  "language_info": {
   "codemirror_mode": {
    "name": "ipython",
    "version": 3
   },
   "file_extension": ".py",
   "mimetype": "text/x-python",
   "name": "python",
   "nbconvert_exporter": "python",
   "pygments_lexer": "ipython3",
   "version": "3.9.7"
  }
 },
 "nbformat": 4,
 "nbformat_minor": 5
}
