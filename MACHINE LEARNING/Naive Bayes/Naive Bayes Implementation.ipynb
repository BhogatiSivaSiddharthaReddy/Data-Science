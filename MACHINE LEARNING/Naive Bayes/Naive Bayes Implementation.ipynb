{
 "cells": [
  {
   "cell_type": "markdown",
   "id": "0f6932c8",
   "metadata": {},
   "source": [
    "# Using inbuilt dataset"
   ]
  },
  {
   "cell_type": "markdown",
   "id": "05feb3c4",
   "metadata": {},
   "source": [
    "## Import Dataset"
   ]
  },
  {
   "cell_type": "code",
   "execution_count": 9,
   "id": "375bce33",
   "metadata": {},
   "outputs": [],
   "source": [
    "from sklearn.datasets import load_iris\n",
    "from sklearn.model_selection import train_test_split\n",
    "from sklearn.naive_bayes import GaussianNB\n",
    "X, y = load_iris(return_X_y=True)"
   ]
  },
  {
   "cell_type": "markdown",
   "id": "c8db61da",
   "metadata": {},
   "source": [
    "## Train Test Split"
   ]
  },
  {
   "cell_type": "code",
   "execution_count": 32,
   "id": "59621753",
   "metadata": {},
   "outputs": [],
   "source": [
    "X_train, X_test, y_train, y_test = train_test_split(X, y, test_size=0.2, random_state=0)"
   ]
  },
  {
   "cell_type": "code",
   "execution_count": 33,
   "id": "0ce89b8b",
   "metadata": {},
   "outputs": [
    {
     "data": {
      "text/plain": [
       "GaussianNB()"
      ]
     },
     "execution_count": 33,
     "metadata": {},
     "output_type": "execute_result"
    }
   ],
   "source": [
    "gnb = GaussianNB()\n",
    "gnb.fit(X_train, y_train)"
   ]
  },
  {
   "cell_type": "markdown",
   "id": "c6770134",
   "metadata": {},
   "source": [
    "## Predict the new sample"
   ]
  },
  {
   "cell_type": "code",
   "execution_count": 34,
   "id": "f2d854ec",
   "metadata": {},
   "outputs": [],
   "source": [
    "y_pred = gnb.predict(X_test)"
   ]
  },
  {
   "cell_type": "code",
   "execution_count": 35,
   "id": "6d5ed2f0",
   "metadata": {},
   "outputs": [
    {
     "name": "stdout",
     "output_type": "stream",
     "text": [
      "Classification Report: \n",
      " ########################################################################### \n",
      "               precision    recall  f1-score   support\n",
      "\n",
      "           0       1.00      1.00      1.00        11\n",
      "           1       0.93      1.00      0.96        13\n",
      "           2       1.00      0.83      0.91         6\n",
      "\n",
      "    accuracy                           0.97        30\n",
      "   macro avg       0.98      0.94      0.96        30\n",
      "weighted avg       0.97      0.97      0.97        30\n",
      " \n",
      " ########################################################################### \n",
      "\n",
      "Confusion Matrix: \n",
      " ########################################################################### \n",
      " [[11  0  0]\n",
      " [ 0 13  0]\n",
      " [ 0  1  5]] \n",
      " ########################################################################### \n",
      "\n",
      "Accuracy: 0.9666666666666667\n"
     ]
    }
   ],
   "source": [
    "from sklearn.metrics import classification_report, confusion_matrix, accuracy_score\n",
    "print(\"Classification Report: \\n ########################################################################### \\n\", classification_report(y_test,y_pred),\"\\n ########################################################################### \\n\")\n",
    "print(\"Confusion Matrix: \\n ########################################################################### \\n\",confusion_matrix(y_test,y_pred),\"\\n ########################################################################### \\n\")\n",
    "print(\"Accuracy:\",accuracy_score(y_test,y_pred))"
   ]
  },
  {
   "cell_type": "markdown",
   "id": "02f042e9",
   "metadata": {},
   "source": [
    "## Feature Scaling"
   ]
  },
  {
   "cell_type": "code",
   "execution_count": 36,
   "id": "fd69509f",
   "metadata": {},
   "outputs": [],
   "source": [
    "from sklearn.pipeline import make_pipeline\n",
    "from sklearn.preprocessing import MinMaxScaler"
   ]
  },
  {
   "cell_type": "code",
   "execution_count": 37,
   "id": "9336666b",
   "metadata": {},
   "outputs": [],
   "source": [
    "clf = make_pipeline(MinMaxScaler(), GaussianNB())"
   ]
  },
  {
   "cell_type": "code",
   "execution_count": 38,
   "id": "1bd1898f",
   "metadata": {},
   "outputs": [
    {
     "data": {
      "text/plain": [
       "Pipeline(steps=[('minmaxscaler', MinMaxScaler()), ('gaussiannb', GaussianNB())])"
      ]
     },
     "execution_count": 38,
     "metadata": {},
     "output_type": "execute_result"
    }
   ],
   "source": [
    "clf.fit(X_train, y_train) "
   ]
  },
  {
   "cell_type": "code",
   "execution_count": 39,
   "id": "35f61d1c",
   "metadata": {},
   "outputs": [],
   "source": [
    "y_pred = clf.predict(X_test)"
   ]
  },
  {
   "cell_type": "code",
   "execution_count": 40,
   "id": "103c1419",
   "metadata": {},
   "outputs": [
    {
     "name": "stdout",
     "output_type": "stream",
     "text": [
      "Classification Report: \n",
      " ########################################################################### \n",
      "               precision    recall  f1-score   support\n",
      "\n",
      "           0       1.00      1.00      1.00        11\n",
      "           1       0.93      1.00      0.96        13\n",
      "           2       1.00      0.83      0.91         6\n",
      "\n",
      "    accuracy                           0.97        30\n",
      "   macro avg       0.98      0.94      0.96        30\n",
      "weighted avg       0.97      0.97      0.97        30\n",
      " \n",
      " ########################################################################### \n",
      "\n",
      "Confusion Matrix: \n",
      " ########################################################################### \n",
      " [[11  0  0]\n",
      " [ 0 13  0]\n",
      " [ 0  1  5]] \n",
      " ########################################################################### \n",
      "\n",
      "Accuracy: 0.9666666666666667\n"
     ]
    }
   ],
   "source": [
    "from sklearn.metrics import classification_report, confusion_matrix, accuracy_score\n",
    "print(\"Classification Report: \\n ########################################################################### \\n\", classification_report(y_test,y_pred),\"\\n ########################################################################### \\n\")\n",
    "print(\"Confusion Matrix: \\n ########################################################################### \\n\",confusion_matrix(y_test,y_pred),\"\\n ########################################################################### \\n\")\n",
    "print(\"Accuracy:\",accuracy_score(y_test,y_pred))"
   ]
  },
  {
   "cell_type": "markdown",
   "id": "268f0659",
   "metadata": {},
   "source": [
    "# Using User_data.csv"
   ]
  },
  {
   "cell_type": "markdown",
   "id": "9d4a4dbd",
   "metadata": {},
   "source": [
    "## Importing the dataset"
   ]
  },
  {
   "cell_type": "code",
   "execution_count": 51,
   "id": "6e9ce7d5",
   "metadata": {
    "scrolled": true
   },
   "outputs": [],
   "source": [
    "import numpy as np  \n",
    "import matplotlib.pyplot as mtp  \n",
    "import pandas as pd  \n",
    "  \n",
    "# Importing the dataset  \n",
    "dataset = pd.read_csv('User_data.csv')  \n",
    "x = dataset.iloc[:, [2, 3]].values  \n",
    "y = dataset.iloc[:, 4].values  "
   ]
  },
  {
   "cell_type": "markdown",
   "id": "dfd15e3b",
   "metadata": {},
   "source": [
    "## Splitting data and Training"
   ]
  },
  {
   "cell_type": "code",
   "execution_count": 52,
   "id": "2c8c1f43",
   "metadata": {},
   "outputs": [],
   "source": [
    "# Splitting the dataset into the Training set and Test set  \n",
    "from sklearn.model_selection import train_test_split  \n",
    "x_train, x_test, y_train, y_test = train_test_split(x, y, test_size = 0.25, random_state = 0)  \n",
    "  \n",
    "# Feature Scaling  \n",
    "from sklearn.preprocessing import StandardScaler  \n",
    "sc = StandardScaler()  \n",
    "x_train = sc.fit_transform(x_train)  \n",
    "x_test = sc.transform(x_test)  "
   ]
  },
  {
   "cell_type": "code",
   "execution_count": 53,
   "id": "1c60e026",
   "metadata": {},
   "outputs": [],
   "source": [
    "# # Feature Scaling  \n",
    "# from sklearn.preprocessing import MinMaxScaler  \n",
    "# sc = MinMaxScaler()  \n",
    "# x_train = sc.fit_transform(x_train)  \n",
    "# x_test = sc.transform(x_test)  "
   ]
  },
  {
   "cell_type": "code",
   "execution_count": 54,
   "id": "96774e51",
   "metadata": {},
   "outputs": [
    {
     "data": {
      "text/plain": [
       "GaussianNB()"
      ]
     },
     "execution_count": 54,
     "metadata": {},
     "output_type": "execute_result"
    }
   ],
   "source": [
    "# Fitting Naive Bayes to the Training set  \n",
    "from sklearn.naive_bayes import GaussianNB  \n",
    "classifier = GaussianNB()  \n",
    "classifier.fit(x_train, y_train)  "
   ]
  },
  {
   "cell_type": "markdown",
   "id": "b4d83bbf",
   "metadata": {},
   "source": [
    "## Prediction and Evaluation"
   ]
  },
  {
   "cell_type": "code",
   "execution_count": 55,
   "id": "5023edf1",
   "metadata": {},
   "outputs": [],
   "source": [
    "# Predicting the Test set results  \n",
    "y_pred = classifier.predict(x_test)  "
   ]
  },
  {
   "cell_type": "code",
   "execution_count": 56,
   "id": "e4efe0b2",
   "metadata": {},
   "outputs": [
    {
     "name": "stdout",
     "output_type": "stream",
     "text": [
      "Classification Report: \n",
      " ########################################################################### \n",
      "               precision    recall  f1-score   support\n",
      "\n",
      "           0       0.90      0.96      0.93        68\n",
      "           1       0.89      0.78      0.83        32\n",
      "\n",
      "    accuracy                           0.90       100\n",
      "   macro avg       0.90      0.87      0.88       100\n",
      "weighted avg       0.90      0.90      0.90       100\n",
      " \n",
      " ########################################################################### \n",
      "\n",
      "Confusion Matrix: \n",
      " ########################################################################### \n",
      " [[65  3]\n",
      " [ 7 25]] \n",
      " ########################################################################### \n",
      "\n",
      "Accuracy: 0.9\n"
     ]
    }
   ],
   "source": [
    "from sklearn.metrics import classification_report, confusion_matrix, accuracy_score\n",
    "print(\"Classification Report: \\n ########################################################################### \\n\", classification_report(y_test,y_pred),\"\\n ########################################################################### \\n\")\n",
    "print(\"Confusion Matrix: \\n ########################################################################### \\n\",confusion_matrix(y_test,y_pred),\"\\n ########################################################################### \\n\")\n",
    "print(\"Accuracy:\",accuracy_score(y_test,y_pred))"
   ]
  }
 ],
 "metadata": {
  "kernelspec": {
   "display_name": "Python 3",
   "language": "python",
   "name": "python3"
  },
  "language_info": {
   "codemirror_mode": {
    "name": "ipython",
    "version": 3
   },
   "file_extension": ".py",
   "mimetype": "text/x-python",
   "name": "python",
   "nbconvert_exporter": "python",
   "pygments_lexer": "ipython3",
   "version": "3.6.8"
  }
 },
 "nbformat": 4,
 "nbformat_minor": 5
}
