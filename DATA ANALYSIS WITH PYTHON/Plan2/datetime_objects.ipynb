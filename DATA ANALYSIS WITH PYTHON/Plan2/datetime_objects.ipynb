{
 "cells": [
  {
   "cell_type": "markdown",
   "metadata": {},
   "source": [
    "<h1>datetime library</h1>"
   ]
  },
  {
   "cell_type": "markdown",
   "metadata": {},
   "source": [
    "<li>Time is linear\n",
    "<li>progresses as a straightline trajectory from the big bag\n",
    "<li>to now and into the future"
   ]
  },
  {
   "cell_type": "markdown",
   "metadata": {},
   "source": [
    "<h3>Reasoning about time is important in data analysis</h3>\n",
    "<li>Analyzing financial timeseries data\n",
    "<li>Looking at commuter transit passenger flows by time of day \n",
    "<li>Understanding web traffic by time of day \n",
    "<li>Examining seaonality in department store purchases"
   ]
  },
  {
   "cell_type": "markdown",
   "metadata": {},
   "source": [
    "<h3>The datetime library</h3>\n",
    "<li>understands the relationship between different points of time\n",
    "<li>understands how to do operations on time"
   ]
  },
  {
   "cell_type": "markdown",
   "metadata": {},
   "source": [
    "# Python datetime module\n",
    "\n",
    "In Python, date and time are not a data type of their own, but a module named datetime can be imported to work with the date\n",
    "as well as time. Python Datetime module comes built into Python, so there is no need to install it externally. \n",
    "\n",
    "Python Datetime module supplies classes to work with date and time. These classes provide a number of functions to deal with dates, times and time intervals. Date and datetime are an object in Python, so when you manipulate them, you are actually manipulating objects and not string or timestamps. \n",
    "\n",
    "The DateTime module is categorized into 6 main classes – \n",
    "\n",
    "date – An idealized naive date, assuming the current Gregorian calendar always was, and always will be, in effect. Its attributes are year, month and day.\n",
    "\n",
    "\n",
    "time – An idealized time, independent of any particular day, assuming that every day has exactly 24*60*60 seconds. Its attributes are hour, minute, second, microsecond, and tzinfo.\n",
    "\n",
    "\n",
    "datetime – Its a combination of date and time along with the attributes year, month, day, hour, minute, second, microsecond,\n",
    "and tzinfo.\n",
    "\n",
    "\n",
    "timedelta – A duration expressing the difference between two date, time, or datetime instances to microsecond resolution.\n",
    "\n",
    "\n",
    "tzinfo – It provides time zone information objects.\n",
    "\n",
    "\n",
    "timezone – A class that implements the tzinfo abstract base class as a fixed offset from the UTC (New in version 3.2)."
   ]
  },
  {
   "cell_type": "code",
   "execution_count": null,
   "metadata": {},
   "outputs": [],
   "source": []
  },
  {
   "cell_type": "markdown",
   "metadata": {},
   "source": [
    "Date class\n",
    "\n",
    "The date class is used to instantiate date objects in Python. When an object of this class is instantiated,\n",
    "it represents a date in the format YYYY-MM-DD. Constructor of this class needs three mandatory arguments year, \n",
    "month and date.\n",
    "\n",
    "Constructor syntax:  \n",
    "\n",
    "class datetime.date(year, month, day)\n",
    "The arguments must be in the following range –  \n",
    "\n",
    "MINYEAR <= year <= MAXYEAR\n",
    "1 <= month <= 12\n",
    "1 <= day <= number of days in the given month and year\n",
    "Note – If the argument is not an integer it will raise a TypeError and if it is outside the range a ValueError will be raised. "
   ]
  },
  {
   "cell_type": "code",
   "execution_count": 24,
   "metadata": {},
   "outputs": [
    {
     "name": "stdout",
     "output_type": "stream",
     "text": [
      "the date of today is: 2001-05-16\n",
      "2001\n",
      "5\n",
      "16\n",
      "2022-05-18\n"
     ]
    }
   ],
   "source": [
    "from datetime import date as d\n",
    "myday = d(2001,5,16)\n",
    "print(\"the date of today is:\",myday)\n",
    "print(myday.year)\n",
    "print(myday.month)\n",
    "print(myday.day)\n",
    "print(d.today())\n"
   ]
  },
  {
   "cell_type": "markdown",
   "metadata": {},
   "source": [
    "# Function Name \tDescription\n",
    "\n",
    "ctime()\tReturn a string representing the date\n",
    "\n",
    "fromisocalendar()\tReturns a date corresponding to the ISO calendar\n",
    "\n",
    "fromisoformat()\tReturns a date object from the string representation of the date\n",
    "\n",
    "fromordinal()\tReturns a date object from the proleptic Gregorian ordinal, where January 1 of year 1 has ordinal 1\n",
    "\n",
    "fromtimestamp()\tReturns a date object from the POSIX timestamp\n",
    "\n",
    "isocalendar()\tReturns a tuple year, week, and weekday\n",
    "\n",
    "isoformat()\tReturns the string representation of the date\n",
    "\n",
    "isoweekday()\tReturns the day of the week as integer where Monday is 1 and Sunday is 7\n",
    "\n",
    "replace()\tChanges the value of the date object with the given parameter\n",
    "\n",
    "strftime()\tReturns a string representation of the date with the given format\n",
    "\n",
    "timetuple()\tReturns an object of type time.struct_time\n",
    "\n",
    "today()\tReturns the current local date\n",
    "\n",
    "toordinal()\tReturn the proleptic Gregorian ordinal of the date, where January 1 of year 1 has ordinal 1\n",
    "\n",
    "weekday()\tReturns the day of the week as integer where Monday is 0 and Sunday is 6"
   ]
  },
  {
   "cell_type": "code",
   "execution_count": 44,
   "metadata": {},
   "outputs": [
    {
     "name": "stdout",
     "output_type": "stream",
     "text": [
      "Wed May 16 00:00:00 2001 / 24 / <class 'str'>\n",
      "\n",
      "1998-12-02 <class 'datetime.date'>\n",
      "\n",
      "in iso calendar 1999-06-09\n",
      "\n"
     ]
    }
   ],
   "source": [
    "Str = d.ctime(myday)\n",
    "print(Str,len(Str),type(Str),sep = \" / \")\n",
    "print()\n",
    "da = d.fromisoformat(\"1998-12-02\")\n",
    "print(da,type(da))\n",
    "print()\n",
    "Str = d.fromisocalendar(1999,23,3) #date.fromisocalendar(year, week, day) <- syntax\n",
    "print(\"in iso calendar\",Str)\n",
    "print()\n",
    "\n"
   ]
  },
  {
   "cell_type": "code",
   "execution_count": null,
   "metadata": {},
   "outputs": [],
   "source": []
  },
  {
   "cell_type": "code",
   "execution_count": 1,
   "metadata": {},
   "outputs": [
    {
     "data": {
      "text/plain": [
       "'11/24/2016'"
      ]
     },
     "execution_count": 1,
     "metadata": {},
     "output_type": "execute_result"
    }
   ],
   "source": [
    "d1 = \"10/24/2017\"\n",
    "d2 = \"11/24/2016\"\n",
    "max(d1,d2)"
   ]
  },
  {
   "cell_type": "markdown",
   "metadata": {},
   "source": [
    "<h3>Example:</h3>\n",
    "<li>Which is greater? \"10/24/2017\" or \"11/24/2016\""
   ]
  },
  {
   "cell_type": "code",
   "execution_count": null,
   "metadata": {},
   "outputs": [],
   "source": []
  },
  {
   "cell_type": "markdown",
   "metadata": {},
   "source": [
    "<li>How much time has passed?"
   ]
  },
  {
   "cell_type": "code",
   "execution_count": 4,
   "metadata": {},
   "outputs": [
    {
     "ename": "TypeError",
     "evalue": "unsupported operand type(s) for -: 'str' and 'str'",
     "output_type": "error",
     "traceback": [
      "\u001b[1;31m---------------------------------------------------------------------------\u001b[0m",
      "\u001b[1;31mTypeError\u001b[0m                                 Traceback (most recent call last)",
      "\u001b[1;32m<ipython-input-4-71266302b8e3>\u001b[0m in \u001b[0;36m<module>\u001b[1;34m\u001b[0m\n\u001b[1;32m----> 1\u001b[1;33m \u001b[0md1\u001b[0m \u001b[1;33m-\u001b[0m \u001b[0md2\u001b[0m\u001b[1;33m\u001b[0m\u001b[1;33m\u001b[0m\u001b[0m\n\u001b[0m",
      "\u001b[1;31mTypeError\u001b[0m: unsupported operand type(s) for -: 'str' and 'str'"
     ]
    }
   ],
   "source": [
    "d1 - d2"
   ]
  },
  {
   "cell_type": "markdown",
   "metadata": {},
   "source": [
    "<h4>Obviously that's not going to work. </h4>\n",
    "<h4>We can't do date operations on strings</h4>\n",
    "<h4>Let's see what happens with datetime</h4>"
   ]
  },
  {
   "cell_type": "code",
   "execution_count": 6,
   "metadata": {},
   "outputs": [
    {
     "data": {
      "text/plain": [
       "datetime.date(2017, 10, 24)"
      ]
     },
     "execution_count": 6,
     "metadata": {},
     "output_type": "execute_result"
    }
   ],
   "source": [
    "import datetime\n",
    "d1 = datetime.date(2016,11,24)\n",
    "d2 = datetime.date(2017,10,24)\n",
    "\n",
    "#print(type(d1))\n",
    "#print(type(d2))\n",
    "max(d1,d2)"
   ]
  },
  {
   "cell_type": "code",
   "execution_count": 7,
   "metadata": {},
   "outputs": [
    {
     "name": "stdout",
     "output_type": "stream",
     "text": [
      "334 days, 0:00:00\n"
     ]
    }
   ],
   "source": [
    "print(d2 - d1)"
   ]
  },
  {
   "cell_type": "markdown",
   "metadata": {},
   "source": [
    "<li>datetime objects understand time"
   ]
  },
  {
   "cell_type": "markdown",
   "metadata": {},
   "source": [
    "<h3>The datetime library contains several useful types</h3>\n",
    "<li>date: stores the date (month,day,year)\n",
    "<li>time: stores the time (hours,minutes,seconds)\n",
    "<li>datetime: stores the date as well as the time (month,day,year,hours,minutes,seconds)\n",
    "<li>timedelta: duration between two datetime or date objects"
   ]
  },
  {
   "cell_type": "markdown",
   "metadata": {},
   "source": [
    "<h3>datetime.date</h3>"
   ]
  },
  {
   "cell_type": "code",
   "execution_count": 8,
   "metadata": {},
   "outputs": [
    {
     "name": "stdout",
     "output_type": "stream",
     "text": [
      "2000-01-01 2022-05-12\n",
      "We are 8167 days, 0:00:00 days into this century\n"
     ]
    }
   ],
   "source": [
    "import datetime\n",
    "century_start = datetime.date(2000,1,1)\n",
    "today = datetime.date.today()\n",
    "print(century_start,today)\n",
    "print(\"We are\",today-century_start,\"days into this century\")"
   ]
  },
  {
   "cell_type": "markdown",
   "metadata": {},
   "source": [
    "<h3>For a cleaner output</h3>"
   ]
  },
  {
   "cell_type": "code",
   "execution_count": 9,
   "metadata": {},
   "outputs": [
    {
     "name": "stdout",
     "output_type": "stream",
     "text": [
      "We are 8167 days into this century\n"
     ]
    }
   ],
   "source": [
    "print(\"We are\",(today-century_start).days,\"days into this century\")"
   ]
  },
  {
   "cell_type": "markdown",
   "metadata": {},
   "source": [
    "<h3>datetime.datetime</h3>"
   ]
  },
  {
   "cell_type": "code",
   "execution_count": 12,
   "metadata": {},
   "outputs": [
    {
     "name": "stdout",
     "output_type": "stream",
     "text": [
      "2000-01-01 00:00:00 2022-05-12 19:50:53.990269\n",
      "we are 8167 days, 19:50:53.990269 days, hour, minutes and seconds into this century\n",
      "We are 8167 days into this century\n"
     ]
    }
   ],
   "source": [
    "century_start = datetime.datetime(2000,1,1,0,0,0)\n",
    "time_now = datetime.datetime.now()\n",
    "print(century_start,time_now)\n",
    "print(\"we are\",time_now - century_start,\"days, hour, minutes and seconds into this century\")\n",
    "print(\"We are\",(time_now - century_start).days,\"days into this century\")"
   ]
  },
  {
   "cell_type": "markdown",
   "metadata": {},
   "source": [
    "<h4>datetime objects can check validity</h4>\n",
    "<li>A ValueError exception is raised if the object is invalid</li>"
   ]
  },
  {
   "cell_type": "code",
   "execution_count": 18,
   "metadata": {},
   "outputs": [
    {
     "ename": "ValueError",
     "evalue": "second must be in 0..59",
     "output_type": "error",
     "traceback": [
      "\u001b[1;31m---------------------------------------------------------------------------\u001b[0m",
      "\u001b[1;31mValueError\u001b[0m                                Traceback (most recent call last)",
      "\u001b[1;32m<ipython-input-18-74d8c3d14953>\u001b[0m in \u001b[0;36m<module>\u001b[1;34m\u001b[0m\n\u001b[0;32m      1\u001b[0m \u001b[1;31m#some_date=datetime.date(2015,2,29)\u001b[0m\u001b[1;33m\u001b[0m\u001b[1;33m\u001b[0m\u001b[1;33m\u001b[0m\u001b[0m\n\u001b[0;32m      2\u001b[0m \u001b[1;31m#some_date =datetime.date(2016,2,29)\u001b[0m\u001b[1;33m\u001b[0m\u001b[1;33m\u001b[0m\u001b[1;33m\u001b[0m\u001b[0m\n\u001b[1;32m----> 3\u001b[1;33m \u001b[0msome_time\u001b[0m\u001b[1;33m=\u001b[0m\u001b[0mdatetime\u001b[0m\u001b[1;33m.\u001b[0m\u001b[0mdatetime\u001b[0m\u001b[1;33m(\u001b[0m\u001b[1;36m2015\u001b[0m\u001b[1;33m,\u001b[0m\u001b[1;36m2\u001b[0m\u001b[1;33m,\u001b[0m\u001b[1;36m28\u001b[0m\u001b[1;33m,\u001b[0m\u001b[1;36m23\u001b[0m\u001b[1;33m,\u001b[0m\u001b[1;36m59\u001b[0m\u001b[1;33m,\u001b[0m\u001b[1;36m60\u001b[0m\u001b[1;33m)\u001b[0m\u001b[1;33m\u001b[0m\u001b[1;33m\u001b[0m\u001b[0m\n\u001b[0m",
      "\u001b[1;31mValueError\u001b[0m: second must be in 0..59"
     ]
    }
   ],
   "source": [
    "#some_date=datetime.date(2015,2,29)\n",
    "#some_date =datetime.date(2016,2,29)\n",
    "some_time=datetime.datetime(2015,2,28,23,59,60)"
   ]
  },
  {
   "cell_type": "markdown",
   "metadata": {},
   "source": [
    "<h3>datetime.timedelta</h3>\n",
    "<h4>Used to store the duration between two points in time</h4>"
   ]
  },
  {
   "cell_type": "code",
   "execution_count": 19,
   "metadata": {},
   "outputs": [
    {
     "name": "stdout",
     "output_type": "stream",
     "text": [
      "days since century start 8167\n",
      "seconds since century start 705700587.027658\n",
      "minutes since century start 11761676.450460967\n",
      "hours since century start 196027.9408410161\n"
     ]
    }
   ],
   "source": [
    "century_start = datetime.datetime(2000,1,1,0,0,0)\n",
    "time_now = datetime.datetime.now()\n",
    "time_since_century_start = time_now - century_start\n",
    "print(\"days since century start\",time_since_century_start.days)\n",
    "print(\"seconds since century start\",time_since_century_start.total_seconds())\n",
    "print(\"minutes since century start\",time_since_century_start.total_seconds()/60)\n",
    "print(\"hours since century start\",time_since_century_start.total_seconds()/60/60)"
   ]
  },
  {
   "cell_type": "markdown",
   "metadata": {},
   "source": [
    "<h3>datetime.time</h3>"
   ]
  },
  {
   "cell_type": "code",
   "execution_count": 20,
   "metadata": {},
   "outputs": [
    {
     "name": "stdout",
     "output_type": "stream",
     "text": [
      "19:59:48.212520\n"
     ]
    }
   ],
   "source": [
    "date_and_time_now = datetime.datetime.now()\n",
    "time_now = date_and_time_now.time()\n",
    "print(time_now)"
   ]
  },
  {
   "cell_type": "markdown",
   "metadata": {},
   "source": [
    "<h4>You can do arithmetic operations on datetime objects</h4>\n",
    "<li>You can use timedelta objects to calculate new dates or times from a given date"
   ]
  },
  {
   "cell_type": "code",
   "execution_count": 21,
   "metadata": {},
   "outputs": [
    {
     "name": "stdout",
     "output_type": "stream",
     "text": [
      "2022-05-17\n"
     ]
    }
   ],
   "source": [
    "\n",
    "today=datetime.date.today()\n",
    "five_days_later=today+datetime.timedelta(days=5)\n",
    "print(five_days_later)\n"
   ]
  },
  {
   "cell_type": "code",
   "execution_count": 22,
   "metadata": {},
   "outputs": [
    {
     "name": "stdout",
     "output_type": "stream",
     "text": [
      "2022-05-12 20:06:34.442956\n"
     ]
    }
   ],
   "source": [
    "now=datetime.datetime.today()\n",
    "five_minutes_and_five_seconds_later = now + datetime.timedelta(minutes=5,seconds=5)\n",
    "print(five_minutes_and_five_seconds_later)"
   ]
  },
  {
   "cell_type": "code",
   "execution_count": 23,
   "metadata": {},
   "outputs": [
    {
     "name": "stdout",
     "output_type": "stream",
     "text": [
      "2022-05-12 19:56:51.254847\n"
     ]
    }
   ],
   "source": [
    "now=datetime.datetime.today()\n",
    "five_minutes_and_five_seconds_earlier = now+datetime.timedelta(minutes=-5,seconds=-5)\n",
    "print(five_minutes_and_five_seconds_earlier)"
   ]
  },
  {
   "cell_type": "markdown",
   "metadata": {},
   "source": [
    "<li>But you can't use timedelta on time objects. If you do, you'll get a TypeError exception"
   ]
  },
  {
   "cell_type": "code",
   "execution_count": 27,
   "metadata": {},
   "outputs": [
    {
     "name": "stdout",
     "output_type": "stream",
     "text": [
      "<class 'datetime.time'>\n"
     ]
    },
    {
     "ename": "TypeError",
     "evalue": "unsupported operand type(s) for +: 'datetime.time' and 'datetime.timedelta'",
     "output_type": "error",
     "traceback": [
      "\u001b[1;31m---------------------------------------------------------------------------\u001b[0m",
      "\u001b[1;31mTypeError\u001b[0m                                 Traceback (most recent call last)",
      "\u001b[1;32m<ipython-input-27-cc4fcf3cd580>\u001b[0m in \u001b[0;36m<module>\u001b[1;34m\u001b[0m\n\u001b[0;32m      2\u001b[0m \u001b[0mprint\u001b[0m\u001b[1;33m(\u001b[0m\u001b[0mtype\u001b[0m\u001b[1;33m(\u001b[0m\u001b[0mtime_now\u001b[0m\u001b[1;33m)\u001b[0m\u001b[1;33m)\u001b[0m\u001b[1;33m\u001b[0m\u001b[1;33m\u001b[0m\u001b[0m\n\u001b[0;32m      3\u001b[0m \u001b[0mthirty_seconds\u001b[0m\u001b[1;33m=\u001b[0m\u001b[0mdatetime\u001b[0m\u001b[1;33m.\u001b[0m\u001b[0mtimedelta\u001b[0m\u001b[1;33m(\u001b[0m\u001b[0mseconds\u001b[0m\u001b[1;33m=\u001b[0m\u001b[1;36m30\u001b[0m\u001b[1;33m)\u001b[0m\u001b[1;33m\u001b[0m\u001b[1;33m\u001b[0m\u001b[0m\n\u001b[1;32m----> 4\u001b[1;33m \u001b[0mtime_later\u001b[0m\u001b[1;33m=\u001b[0m\u001b[0mtime_now\u001b[0m\u001b[1;33m+\u001b[0m\u001b[0mthirty_seconds\u001b[0m\u001b[1;33m\u001b[0m\u001b[1;33m\u001b[0m\u001b[0m\n\u001b[0m\u001b[0;32m      5\u001b[0m \u001b[1;31m#Bug or feature?\u001b[0m\u001b[1;33m\u001b[0m\u001b[1;33m\u001b[0m\u001b[1;33m\u001b[0m\u001b[0m\n",
      "\u001b[1;31mTypeError\u001b[0m: unsupported operand type(s) for +: 'datetime.time' and 'datetime.timedelta'"
     ]
    }
   ],
   "source": [
    "time_now=datetime.datetime.now().time() #Returns the time component (drops the day)\n",
    "print(type(time_now))\n",
    "thirty_seconds=datetime.timedelta(seconds=30)\n",
    "time_later=time_now+thirty_seconds\n",
    "#Bug or feature?"
   ]
  },
  {
   "cell_type": "code",
   "execution_count": 28,
   "metadata": {},
   "outputs": [],
   "source": [
    "#But this is Python\n",
    "#And we can always get around something by writing a new function!\n",
    "#Let's write a small function to get around this problem\n",
    "def add_to_time(time_object,time_delta):\n",
    "    import datetime\n",
    "    temp_datetime_object = datetime.datetime(500,1,1,time_object.hour,time_object.minute,time_object.second)\n",
    "    #print(temp_datetime_object)\n",
    "    return (temp_datetime_object+time_delta).time()\n",
    "    \n",
    "    \n"
   ]
  },
  {
   "cell_type": "code",
   "execution_count": 30,
   "metadata": {},
   "outputs": [
    {
     "name": "stdout",
     "output_type": "stream",
     "text": [
      "20:07:27.412774\n",
      "20:07:27.412774 20:07:57\n"
     ]
    }
   ],
   "source": [
    "#And test it\n",
    "time_now=datetime.datetime.now().time()\n",
    "print(time_now)\n",
    "thirty_seconds=datetime.timedelta(seconds=30)\n",
    "print(time_now,add_to_time(time_now,thirty_seconds))"
   ]
  },
  {
   "cell_type": "markdown",
   "metadata": {},
   "source": [
    "<h2>datetime and strings</h2>"
   ]
  },
  {
   "cell_type": "raw",
   "metadata": {},
   "source": [
    "More often than not, the program will need to get the date or time from a string:\n",
    "    From a website (bus/train timings)\n",
    "    From a file (date or datetime associated with a stock price)\n",
    "    From the user (from the input statement)\n",
    "\n",
    "Python needs to parse the string so that it correctly creates a date or time object\n"
   ]
  },
  {
   "cell_type": "markdown",
   "metadata": {},
   "source": [
    "<h4>datetime.strptime</h4>\n",
    "<li>datetime.strptime(): grabs time from a string and creates a date or datetime or time object\n",
    "<li>The programmer needs to tell the function what format the string is using\n",
    "<li> See http://pubs.opengroup.org/onlinepubs/009695399/functions/strptime.html for how to specify the format"
   ]
  },
  {
   "cell_type": "code",
   "execution_count": 31,
   "metadata": {},
   "outputs": [
    {
     "name": "stdout",
     "output_type": "stream",
     "text": [
      "2003-04-01 00:00:00\n"
     ]
    }
   ],
   "source": [
    "date='01-Apr-03'\n",
    "date_object=datetime.datetime.strptime(date,'%d-%b-%y')\n",
    "print(date_object)"
   ]
  },
  {
   "cell_type": "code",
   "execution_count": 34,
   "metadata": {},
   "outputs": [
    {
     "name": "stdout",
     "output_type": "stream",
     "text": [
      "2003-04-01 00:00:00\n"
     ]
    }
   ],
   "source": [
    "date='01/Apr/2003'\n",
    "date_object=datetime.datetime.strptime(date,'%d/%b/%Y')\n",
    "print(date_object)"
   ]
  },
  {
   "cell_type": "code",
   "execution_count": 36,
   "metadata": {},
   "outputs": [
    {
     "name": "stdout",
     "output_type": "stream",
     "text": [
      "2:15:30\n",
      "<class 'datetime.timedelta'>\n"
     ]
    }
   ],
   "source": [
    "#Unfortunately, there is no similar thing for time delta\n",
    "#So we have to be creative!\n",
    "bus_travel_time='2:15:30'\n",
    "hours,minutes,seconds=bus_travel_time.split(':')\n",
    "x=datetime.timedelta(hours=int(hours),minutes=int(minutes),seconds=int(seconds))\n",
    "print(x)\n",
    "print(type(x))"
   ]
  },
  {
   "cell_type": "code",
   "execution_count": 37,
   "metadata": {},
   "outputs": [],
   "source": [
    "#Or write a function that will do this for a particular format\n",
    "def get_timedelta(time_string):\n",
    "    hours,minutes,seconds = time_string.split(':')\n",
    "    import datetime\n",
    "    return datetime.timedelta(hours=int(hours),minutes=int(minutes),seconds=int(seconds))"
   ]
  },
  {
   "cell_type": "markdown",
   "metadata": {},
   "source": [
    "<h4>datetime.strftime</h4>\n",
    "<li>The strftime function flips the strptime function. It converts a datetime object to a string \n",
    "<li>with the specified format"
   ]
  },
  {
   "cell_type": "code",
   "execution_count": 38,
   "metadata": {},
   "outputs": [
    {
     "name": "stdout",
     "output_type": "stream",
     "text": [
      "2022-05-12 20:17:51.358216 05/12/22 20:17:51\n",
      "2022-05-12 20:17:51.358216\n"
     ]
    }
   ],
   "source": [
    "now = datetime.datetime.now()\n",
    "string_now = datetime.datetime.strftime(now,'%m/%d/%y %H:%M:%S')\n",
    "print(now,string_now)\n",
    "print(str(now)) #Or you can use the default conversion\n"
   ]
  },
  {
   "cell_type": "code",
   "execution_count": null,
   "metadata": {
    "collapsed": true
   },
   "outputs": [],
   "source": []
  }
 ],
 "metadata": {
  "kernelspec": {
   "display_name": "Python 3 (ipykernel)",
   "language": "python",
   "name": "python3"
  },
  "language_info": {
   "codemirror_mode": {
    "name": "ipython",
    "version": 3
   },
   "file_extension": ".py",
   "mimetype": "text/x-python",
   "name": "python",
   "nbconvert_exporter": "python",
   "pygments_lexer": "ipython3",
   "version": "3.9.7"
  }
 },
 "nbformat": 4,
 "nbformat_minor": 1
}
