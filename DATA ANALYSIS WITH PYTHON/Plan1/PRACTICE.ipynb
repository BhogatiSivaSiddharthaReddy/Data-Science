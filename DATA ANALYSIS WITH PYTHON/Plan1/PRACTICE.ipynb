{
 "cells": [
  {
   "cell_type": "code",
   "execution_count": 5,
   "id": "f42b4281",
   "metadata": {},
   "outputs": [
    {
     "name": "stdout",
     "output_type": "stream",
     "text": [
      "2017-10-24\n",
      "334 days, 0:00:00\n"
     ]
    }
   ],
   "source": [
    "import datetime\n",
    "d1 = datetime.date(2016,11,24)\n",
    "d2 = datetime.date(2017,10,24)\n",
    "print(max(d1,d2))\n",
    "print(d2 - d1)"
   ]
  },
  {
   "cell_type": "code",
   "execution_count": 7,
   "id": "9f0fc068",
   "metadata": {},
   "outputs": [],
   "source": [
    "some_time = datetime.datetime(2015,2,28,23,59,0)"
   ]
  },
  {
   "cell_type": "code",
   "execution_count": 10,
   "id": "2d604498",
   "metadata": {},
   "outputs": [
    {
     "name": "stdout",
     "output_type": "stream",
     "text": [
      "2022-05-12 19:56:46.818042\n"
     ]
    }
   ],
   "source": [
    "print(datetime.datetime.now())"
   ]
  },
  {
   "cell_type": "code",
   "execution_count": 11,
   "id": "d7fb8608",
   "metadata": {},
   "outputs": [
    {
     "name": "stdout",
     "output_type": "stream",
     "text": [
      "2022-05-12\n"
     ]
    }
   ],
   "source": [
    "print(datetime.date.today())"
   ]
  },
  {
   "cell_type": "code",
   "execution_count": 12,
   "id": "3f1f0721",
   "metadata": {},
   "outputs": [
    {
     "name": "stdout",
     "output_type": "stream",
     "text": [
      "<class 'datetime.date'>\n"
     ]
    }
   ],
   "source": [
    "print(type(d1))"
   ]
  },
  {
   "cell_type": "code",
   "execution_count": null,
   "id": "eba56424",
   "metadata": {},
   "outputs": [],
   "source": []
  }
 ],
 "metadata": {
  "kernelspec": {
   "display_name": "Python 3 (ipykernel)",
   "language": "python",
   "name": "python3"
  },
  "language_info": {
   "codemirror_mode": {
    "name": "ipython",
    "version": 3
   },
   "file_extension": ".py",
   "mimetype": "text/x-python",
   "name": "python",
   "nbconvert_exporter": "python",
   "pygments_lexer": "ipython3",
   "version": "3.9.7"
  }
 },
 "nbformat": 4,
 "nbformat_minor": 5
}
