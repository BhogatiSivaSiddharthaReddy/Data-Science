{
 "cells": [
  {
   "cell_type": "markdown",
   "metadata": {},
   "source": [
    "<h1>numpy</h1>"
   ]
  },
  {
   "cell_type": "code",
   "execution_count": 1,
   "metadata": {},
   "outputs": [],
   "source": [
    "x = [1,'a',[1,2,4,5],\"lfakgbi\"]"
   ]
  },
  {
   "cell_type": "code",
   "execution_count": 2,
   "metadata": {},
   "outputs": [
    {
     "data": {
      "text/plain": [
       "4"
      ]
     },
     "execution_count": 2,
     "metadata": {},
     "output_type": "execute_result"
    }
   ],
   "source": [
    "x[2][2]"
   ]
  },
  {
   "cell_type": "markdown",
   "metadata": {},
   "source": [
    "<h2>Creating a numpy array</h2>"
   ]
  },
  {
   "cell_type": "code",
   "execution_count": 4,
   "metadata": {},
   "outputs": [
    {
     "name": "stdout",
     "output_type": "stream",
     "text": [
      "[1 2 3 4 5] 1371518317072 5\n"
     ]
    }
   ],
   "source": [
    "import numpy as np\n",
    "ax = np.array([1,2,3,4,5])\n",
    "print(ax,id(ax),len(ax))"
   ]
  },
  {
   "cell_type": "markdown",
   "metadata": {},
   "source": [
    "<h2>Specifying the type</h2>\n",
    "<h3>Useful when reading a text stream directly into a numerical array</h3>"
   ]
  },
  {
   "cell_type": "code",
   "execution_count": 7,
   "metadata": {},
   "outputs": [
    {
     "name": "stdout",
     "output_type": "stream",
     "text": [
      "[1 2 3]\n",
      "[1.  2.2 3. ]\n",
      "['1' '2.2' '3']\n"
     ]
    }
   ],
   "source": [
    "x=['1','2.2','3']\n",
    "#xi = np.array(x,'int')\n",
    "xf = np.array(x,'float')\n",
    "xs = np.array(x,'str')\n",
    "print(xi,xf,xs,sep='\\n')"
   ]
  },
  {
   "cell_type": "markdown",
   "metadata": {},
   "source": [
    "<h2>Basic operations</h2>"
   ]
  },
  {
   "cell_type": "code",
   "execution_count": 8,
   "metadata": {},
   "outputs": [
    {
     "name": "stdout",
     "output_type": "stream",
     "text": [
      "97.50000000000001\n",
      "19.500000000000004\n",
      "3.8429155598321434\n"
     ]
    }
   ],
   "source": [
    "x = np.array([13,24,21.2,17.6,21.7],'float')\n",
    "print(x.sum(),x.mean(),x.std(),sep='\\n')"
   ]
  },
  {
   "cell_type": "markdown",
   "metadata": {},
   "source": [
    "<h2>Multi-dimensional arrays</h2>"
   ]
  },
  {
   "cell_type": "code",
   "execution_count": 12,
   "metadata": {},
   "outputs": [
    {
     "name": "stdout",
     "output_type": "stream",
     "text": [
      "[[ 0.  1.  2.  3.  4.  5.]\n",
      " [10. 11. 12. 13. 14. 15.]\n",
      " [20. 21. 22. 23. 24. 25.]]\n"
     ]
    }
   ],
   "source": [
    "x=[[0,1,2,3,4,5],[10,11,12,13,14,15],[20,21,22,23,24,25]]\n",
    "ax=np.array(x,float)\n",
    "print(ax)"
   ]
  },
  {
   "cell_type": "markdown",
   "metadata": {},
   "source": [
    "<h3>Indexing</h3>"
   ]
  },
  {
   "cell_type": "code",
   "execution_count": 13,
   "metadata": {},
   "outputs": [
    {
     "data": {
      "text/plain": [
       "13.0"
      ]
     },
     "execution_count": 13,
     "metadata": {},
     "output_type": "execute_result"
    }
   ],
   "source": [
    "ax[1,3] #indexing"
   ]
  },
  {
   "cell_type": "markdown",
   "metadata": {},
   "source": [
    "<h3>Slicing</h3>"
   ]
  },
  {
   "cell_type": "code",
   "execution_count": 14,
   "metadata": {},
   "outputs": [
    {
     "data": {
      "text/plain": [
       "array([[12., 13.],\n",
       "       [22., 23.]])"
      ]
     },
     "execution_count": 14,
     "metadata": {},
     "output_type": "execute_result"
    }
   ],
   "source": [
    "ax[1:3,2:4]\n",
    "#ax[:,2:]"
   ]
  },
  {
   "cell_type": "markdown",
   "metadata": {},
   "source": [
    "<h3>Reshaping</h3>\n"
   ]
  },
  {
   "cell_type": "code",
   "execution_count": 18,
   "metadata": {},
   "outputs": [
    {
     "name": "stdout",
     "output_type": "stream",
     "text": [
      "(3, 6)\n"
     ]
    },
    {
     "data": {
      "text/plain": [
       "array([[ 0.,  1.,  2.,  3.,  4.,  5., 10., 11., 12.],\n",
       "       [13., 14., 15., 20., 21., 22., 23., 24., 25.]])"
      ]
     },
     "execution_count": 18,
     "metadata": {},
     "output_type": "execute_result"
    }
   ],
   "source": [
    "print(ax.shape)\n",
    "ax.reshape(2,9)\n",
    "#ax.reshape(10,3)"
   ]
  },
  {
   "cell_type": "markdown",
   "metadata": {},
   "source": [
    "<h3>Creating initialized arrays</h3>"
   ]
  },
  {
   "cell_type": "code",
   "execution_count": 21,
   "metadata": {},
   "outputs": [
    {
     "name": "stdout",
     "output_type": "stream",
     "text": [
      "[[0 1 2 3 4 5 6 7 8 9]\n",
      " [0 1 2 3 4 5 6 7 8 9]]\n"
     ]
    }
   ],
   "source": [
    "ax = np.arange(10)\n",
    "#print(ax)\n",
    "ay = np.array([np.arange(10),np.arange(10)])\n",
    "print(ay)"
   ]
  },
  {
   "cell_type": "code",
   "execution_count": 24,
   "metadata": {},
   "outputs": [
    {
     "name": "stdout",
     "output_type": "stream",
     "text": [
      "[1. 1. 1. 1. 1. 1. 1. 1. 1. 1.]\n"
     ]
    }
   ],
   "source": [
    "ax = np.ones(10)\n",
    "print(ax)"
   ]
  },
  {
   "cell_type": "code",
   "execution_count": 25,
   "metadata": {},
   "outputs": [
    {
     "name": "stdout",
     "output_type": "stream",
     "text": [
      "[ 0  1  4  9 16 25 36 49 64 81]\n"
     ]
    }
   ],
   "source": [
    "ax = np.arange(10)**2\n",
    "print(ax)"
   ]
  },
  {
   "cell_type": "code",
   "execution_count": 26,
   "metadata": {},
   "outputs": [
    {
     "data": {
      "text/plain": [
       "array([[1., 0., 0., 0., 0., 0., 0., 0., 0., 0.],\n",
       "       [0., 1., 0., 0., 0., 0., 0., 0., 0., 0.],\n",
       "       [0., 0., 1., 0., 0., 0., 0., 0., 0., 0.],\n",
       "       [0., 0., 0., 1., 0., 0., 0., 0., 0., 0.],\n",
       "       [0., 0., 0., 0., 1., 0., 0., 0., 0., 0.],\n",
       "       [0., 0., 0., 0., 0., 1., 0., 0., 0., 0.],\n",
       "       [0., 0., 0., 0., 0., 0., 1., 0., 0., 0.],\n",
       "       [0., 0., 0., 0., 0., 0., 0., 1., 0., 0.],\n",
       "       [0., 0., 0., 0., 0., 0., 0., 0., 1., 0.],\n",
       "       [0., 0., 0., 0., 0., 0., 0., 0., 0., 1.]])"
      ]
     },
     "execution_count": 26,
     "metadata": {},
     "output_type": "execute_result"
    }
   ],
   "source": [
    "np.identity(10)"
   ]
  },
  {
   "cell_type": "markdown",
   "metadata": {},
   "source": [
    "<h3>Matrix multiplication</h3>\n"
   ]
  },
  {
   "cell_type": "code",
   "execution_count": 29,
   "metadata": {},
   "outputs": [
    {
     "data": {
      "text/plain": [
       "array([[ 0,  2,  4,  6,  8, 10, 12, 14, 16, 18],\n",
       "       [ 0,  2,  4,  6,  8, 10, 12, 14, 16, 18]])"
      ]
     },
     "execution_count": 29,
     "metadata": {},
     "output_type": "execute_result"
    }
   ],
   "source": [
    "ax = np.arange(10)\n",
    "ay = np.array([ax,ax])\n",
    "#Scalar multiplication\n",
    "ay*2"
   ]
  },
  {
   "cell_type": "code",
   "execution_count": 31,
   "metadata": {},
   "outputs": [
    {
     "data": {
      "text/plain": [
       "array([[0, 1],\n",
       "       [2, 3],\n",
       "       [4, 5],\n",
       "       [6, 7],\n",
       "       [8, 9],\n",
       "       [0, 1],\n",
       "       [2, 3],\n",
       "       [4, 5],\n",
       "       [6, 7],\n",
       "       [8, 9]])"
      ]
     },
     "execution_count": 31,
     "metadata": {},
     "output_type": "execute_result"
    }
   ],
   "source": [
    "ay.reshape(10,2)"
   ]
  },
  {
   "cell_type": "code",
   "execution_count": 32,
   "metadata": {},
   "outputs": [
    {
     "data": {
      "text/plain": [
       "array([[0, 1, 2, 3, 4, 5, 6, 7, 8, 9],\n",
       "       [0, 1, 2, 3, 4, 5, 6, 7, 8, 9]])"
      ]
     },
     "execution_count": 32,
     "metadata": {},
     "output_type": "execute_result"
    }
   ],
   "source": [
    "ay"
   ]
  },
  {
   "cell_type": "code",
   "execution_count": 30,
   "metadata": {},
   "outputs": [
    {
     "data": {
      "text/plain": [
       "array([[220, 265],\n",
       "       [220, 265]])"
      ]
     },
     "execution_count": 30,
     "metadata": {},
     "output_type": "execute_result"
    }
   ],
   "source": [
    "np.dot(ay,ay.reshape(10,2)) #Dot product"
   ]
  },
  {
   "cell_type": "code",
   "execution_count": 33,
   "metadata": {},
   "outputs": [
    {
     "data": {
      "text/plain": [
       "array([[220, 265],\n",
       "       [220, 265]])"
      ]
     },
     "execution_count": 33,
     "metadata": {},
     "output_type": "execute_result"
    }
   ],
   "source": [
    "ay @ ay.reshape(10,2)"
   ]
  },
  {
   "cell_type": "markdown",
   "metadata": {},
   "source": [
    "<h3>Comparing numpy arrays with lists</h3>"
   ]
  },
  {
   "cell_type": "code",
   "execution_count": 38,
   "metadata": {},
   "outputs": [
    {
     "name": "stdout",
     "output_type": "stream",
     "text": [
      "[[  0   1   4   9  16  25  36  49  64  81]\n",
      " [  0   1   8  27  64 125 216 343 512 729]]\n",
      "[[  0   0]\n",
      " [  1   1]\n",
      " [  4   8]\n",
      " [  9  27]\n",
      " [ 16  64]\n",
      " [ 25 125]\n",
      " [ 36 216]\n",
      " [ 49 343]\n",
      " [ 64 512]\n",
      " [ 81 729]]\n"
     ]
    },
    {
     "data": {
      "text/plain": [
       "array([[ 15333, 120825],\n",
       "       [120825, 978405]], dtype=int32)"
      ]
     },
     "execution_count": 38,
     "metadata": {},
     "output_type": "execute_result"
    }
   ],
   "source": [
    "n=10\n",
    "ax = np.array([np.arange(n)**2,np.arange(n)**3])\n",
    "ay = ax.transpose()\n",
    "print(ax)\n",
    "print(ay)\n",
    "np.dot(ax,ay)"
   ]
  },
  {
   "cell_type": "markdown",
   "metadata": {},
   "source": [
    "<h4>Functionalize this</h4>\n"
   ]
  },
  {
   "cell_type": "code",
   "execution_count": 43,
   "metadata": {},
   "outputs": [
    {
     "data": {
      "text/plain": [
       "datetime.timedelta(microseconds=996)"
      ]
     },
     "execution_count": 43,
     "metadata": {},
     "output_type": "execute_result"
    }
   ],
   "source": [
    "def dotproduct(n):\n",
    "    ax = np.array([np.arange(n)**2,np.arange(n)**3])\n",
    "    ay = ax.transpose()\n",
    "    import datetime\n",
    "    start = datetime.datetime.now()\n",
    "    np.dot(ax,ay)\n",
    "    end = datetime.datetime.now()\n",
    "    return end-start\n",
    "    \n",
    "dotproduct(100000)    "
   ]
  },
  {
   "cell_type": "markdown",
   "metadata": {},
   "source": [
    "<h4>Do the same with python lists</h4>\n"
   ]
  },
  {
   "cell_type": "code",
   "execution_count": 44,
   "metadata": {},
   "outputs": [
    {
     "data": {
      "text/plain": [
       "datetime.timedelta(microseconds=42176)"
      ]
     },
     "execution_count": 44,
     "metadata": {},
     "output_type": "execute_result"
    }
   ],
   "source": [
    "\n",
    "def dot_product_lists(n):\n",
    "    x = [x**2 for x in range(n)]\n",
    "    y = [x**3 for x in range(n)]\n",
    "    ax = [x,y]\n",
    "    ay = [list(i) for i in zip(*ax)]\n",
    "    import datetime\n",
    "    start = datetime.datetime.now()\n",
    "    [[sum(a*b for a,b in zip(X_row,Y_col)) for Y_col in zip(*ay)] for X_row in ax]\n",
    "    end = datetime.datetime.now()\n",
    "    return end-start\n",
    "    \n",
    "dot_product_lists(10000)"
   ]
  },
  {
   "cell_type": "code",
   "execution_count": 45,
   "metadata": {},
   "outputs": [
    {
     "name": "stdout",
     "output_type": "stream",
     "text": [
      "10\t0:00:00.000337\t0:00:00\n",
      "100\t0:00:00.000025\t0:00:00\n",
      "1000\t0:00:00\t0:00:00.002923\n",
      "10000\t0:00:00.001994\t0:00:00.256583\n"
     ]
    }
   ],
   "source": [
    "for n in [10,100,1000,10000]:\n",
    "    numpy_result = dotproduct(n)\n",
    "    list_result = dot_product_lists(n)\n",
    "    print(n,numpy_result,list_result,sep='\\t')"
   ]
  },
  {
   "cell_type": "markdown",
   "metadata": {},
   "source": [
    "<h3>Selecting elements from an np array</h3>"
   ]
  },
  {
   "cell_type": "code",
   "execution_count": 46,
   "metadata": {},
   "outputs": [
    {
     "data": {
      "text/plain": [
       "array([[1, 0, 1, 0, 1, 0],\n",
       "       [1, 0, 1, 0, 1, 0],\n",
       "       [1, 0, 1, 0, 1, 0]])"
      ]
     },
     "execution_count": 46,
     "metadata": {},
     "output_type": "execute_result"
    }
   ],
   "source": [
    "x=[[0,1,2,3,4,5],[10,11,12,13,14,15],[20,21,22,23,24,25]]\n",
    "ax=np.array(x,float)\n",
    "np.where(ax%2==0,1,0)"
   ]
  },
  {
   "cell_type": "code",
   "execution_count": null,
   "metadata": {},
   "outputs": [],
   "source": [
    "\n",
    "#linalg, a linear algebra module\n",
    "#functions dealing with polynomials, differentials, etc\n"
   ]
  },
  {
   "cell_type": "code",
   "execution_count": null,
   "metadata": {},
   "outputs": [],
   "source": [
    "import scipy\n",
    "scipy.nanmean(x)"
   ]
  },
  {
   "cell_type": "markdown",
   "metadata": {},
   "source": [
    "<h3>Random number support in numpy</h3>"
   ]
  },
  {
   "cell_type": "code",
   "execution_count": 51,
   "metadata": {},
   "outputs": [
    {
     "data": {
      "text/plain": [
       "array([[ -2,  -2,   6,   2,   7,  -8,  -8,  -9,   1],\n",
       "       [ -8,   8,  -3,   2, -10,   9,  -9,   4,  -7],\n",
       "       [  6,   4,   9,  -5,   0,  -9,   3,  -6,   6],\n",
       "       [  2,   3,   5,   6,   2,  -5,   6,   7,   8],\n",
       "       [ -3,   5,  -5,  -8,   7,  -2,   1,   3,  -7],\n",
       "       [ -5,   4,   8,  -2,  -8,  -7,  -4,   0,  -1],\n",
       "       [ -4,   7,  -5,   6,   5,   5,   1,   8,   1],\n",
       "       [  7,   2,  -4,   8, -10, -10,   7,   0,  -7],\n",
       "       [  4,  -3, -10,   7,  -3,   8,   2,   4,  -9]])"
      ]
     },
     "execution_count": 51,
     "metadata": {},
     "output_type": "execute_result"
    }
   ],
   "source": [
    "#np.random.normal(size=10)\n",
    "#np.random.normal(size=(100,100))\n",
    "#np.random.exponential()\n",
    "#np.random.exponential(1.0,size=(6,3))\n",
    "np.random.randint(-10,10,size=(9,9))"
   ]
  },
  {
   "cell_type": "code",
   "execution_count": null,
   "metadata": {},
   "outputs": [],
   "source": []
  }
 ],
 "metadata": {
  "anaconda-cloud": {},
  "kernelspec": {
   "display_name": "Python 3",
   "language": "python",
   "name": "python3"
  },
  "language_info": {
   "codemirror_mode": {
    "name": "ipython",
    "version": 3
   },
   "file_extension": ".py",
   "mimetype": "text/x-python",
   "name": "python",
   "nbconvert_exporter": "python",
   "pygments_lexer": "ipython3",
   "version": "3.7.4"
  }
 },
 "nbformat": 4,
 "nbformat_minor": 1
}
