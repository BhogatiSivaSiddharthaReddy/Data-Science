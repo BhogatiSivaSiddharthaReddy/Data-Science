{
 "cells": [
  {
   "cell_type": "markdown",
   "metadata": {},
   "source": [
    "<h1>Data setup</h1>\n",
    "<h2>Use our function to read the data file</h2>"
   ]
  },
  {
   "cell_type": "code",
   "execution_count": 2,
   "metadata": {},
   "outputs": [],
   "source": [
    "def read_311_data(datafile): #EDA: Exploratory Data Analysis, Presentation\n",
    "    import pandas as pd\n",
    "    import numpy as np\n",
    "    \n",
    "    #Add the fix_zip function\n",
    "    def fix_zip(input_zip):\n",
    "        try:\n",
    "            input_zip = int(float(input_zip))\n",
    "        except:\n",
    "            try:\n",
    "                input_zip = int(input_zip.split('-')[0])\n",
    "            except:\n",
    "                return np.NaN\n",
    "        if input_zip < 10000 or input_zip > 19999:\n",
    "            return np.NaN\n",
    "        return str(input_zip)\n",
    "    \n",
    "    #Read the file\n",
    "    df = pd.read_csv(datafile)\n",
    "    df = df.drop(['Unique Key'], axis = 1)\n",
    "    \n",
    "    #fix the zip\n",
    "    df['Incident Zip'] = df['Incident Zip'].apply(fix_zip)\n",
    "    \n",
    "    #drop all rows that have any nans in them (note the easier syntax!)\n",
    "    \n",
    "    df = df.dropna(how='any')\n",
    "    \n",
    "    #get rid of unspecified boroughs\n",
    "    df = df[df['Borough'] != 'Unspecified']\n",
    "    \n",
    "    #Convert times to datetime and create a processing time column\n",
    "    \n",
    "    import datetime\n",
    "    df['Created Date'] = df['Created Date'].apply(lambda x:datetime.datetime.strptime(x,'%m/%d/%Y %I:%M:%S %p'))\n",
    "    df['Closed Date'] = df['Closed Date'].apply(lambda x:datetime.datetime.strptime(x,'%m/%d/%Y %I:%M:%S %p'))\n",
    "    df['processing_time'] =  df['Closed Date'] - df['Created Date']\n",
    "    \n",
    "    #Finally, get rid of negative processing times and return the final data frame\n",
    "    \n",
    "    df = df[df['processing_time']>=datetime.timedelta(0,0,0)]\n",
    "    \n",
    "    return df\n",
    "    "
   ]
  },
  {
   "cell_type": "code",
   "execution_count": 3,
   "metadata": {},
   "outputs": [
    {
     "name": "stderr",
     "output_type": "stream",
     "text": [
      "C:\\Users\\arjun\\AppData\\Local\\Continuum\\anaconda3\\lib\\site-packages\\ipykernel_launcher.py:2: DtypeWarning: Columns (4) have mixed types.Specify dtype option on import or set low_memory=False.\n",
      "  \n"
     ]
    }
   ],
   "source": [
    "datafile = \"nyc_311_data_subset.csv\"\n",
    "data = read_311_data(datafile)"
   ]
  },
  {
   "cell_type": "code",
   "execution_count": 3,
   "metadata": {},
   "outputs": [
    {
     "name": "stdout",
     "output_type": "stream",
     "text": [
      "<class 'pandas.core.frame.DataFrame'>\n",
      "Int64Index: 799323 entries, 10 to 971062\n",
      "Data columns (total 8 columns):\n",
      " #   Column           Non-Null Count   Dtype          \n",
      "---  ------           --------------   -----          \n",
      " 0   Created Date     799323 non-null  datetime64[ns] \n",
      " 1   Closed Date      799323 non-null  datetime64[ns] \n",
      " 2   Agency           799323 non-null  object         \n",
      " 3   Incident Zip     799323 non-null  object         \n",
      " 4   Borough          799323 non-null  object         \n",
      " 5   Latitude         799323 non-null  float64        \n",
      " 6   Longitude        799323 non-null  float64        \n",
      " 7   processing_time  799323 non-null  timedelta64[ns]\n",
      "dtypes: datetime64[ns](2), float64(2), object(3), timedelta64[ns](1)\n",
      "memory usage: 54.9+ MB\n"
     ]
    }
   ],
   "source": [
    "data.info()"
   ]
  },
  {
   "cell_type": "markdown",
   "metadata": {},
   "source": [
    "<h1>Plotting data on google maps</h1>\n",
    "<h2>gmplot library</h2>\n",
    "https://github.com/vgm64/gmplot"
   ]
  },
  {
   "cell_type": "code",
   "execution_count": null,
   "metadata": {},
   "outputs": [],
   "source": [
    "!pip install gmplot --upgrade"
   ]
  },
  {
   "cell_type": "markdown",
   "metadata": {},
   "source": [
    "<h3>Our data dataframe contains latitudes and longitudes for each complaint.</h3>\n",
    "<h3>We can draw a heatmap that will help us see the relative concentration of complaints using lats and lons</h3>\n",
    "\n"
   ]
  },
  {
   "cell_type": "markdown",
   "metadata": {},
   "source": [
    "<h3>Set up the map</h3>\n",
    "<h4>GoogleMapPlotter constructor</h4>\n",
    "<ul>\n",
    "<li>GoogleMapPlotter(center_lat, center_lng, zoom)\n",
    "<li>from_geocode(location_string,zoom)\n"
   ]
  },
  {
   "cell_type": "code",
   "execution_count": null,
   "metadata": {},
   "outputs": [],
   "source": [
    "\n",
    "import gmplot\n",
    "#gmap = gmplot.GoogleMapPlotter(40.7128, 74.0059, 8)\n",
    "\n",
    "\n",
    "gmap = gmplot.GoogleMapPlotter.from_geocode(\"New York\",10)\n"
   ]
  },
  {
   "cell_type": "markdown",
   "metadata": {},
   "source": [
    "<h3>Then generate the heatmap passing the two data series (latitude and longitude) to the function</h3>"
   ]
  },
  {
   "cell_type": "code",
   "execution_count": null,
   "metadata": {},
   "outputs": [],
   "source": [
    "#Then generate a heatmap using the latitudes and longitudes\n",
    "gmap.heatmap(data['Latitude'], data['Longitude'])"
   ]
  },
  {
   "cell_type": "markdown",
   "metadata": {},
   "source": [
    "<h3>Save the heatmap to an html file</h3>\n",
    "<h4>The html file can be viewed, printed, or included in another html page</h4>"
   ]
  },
  {
   "cell_type": "code",
   "execution_count": null,
   "metadata": {},
   "outputs": [],
   "source": [
    "gmap.draw('incidents3.html')"
   ]
  },
  {
   "cell_type": "markdown",
   "metadata": {},
   "source": [
    "<h1>Let's do some grouping operations</h1>"
   ]
  },
  {
   "cell_type": "code",
   "execution_count": null,
   "metadata": {},
   "outputs": [],
   "source": []
  },
  {
   "cell_type": "markdown",
   "metadata": {},
   "source": [
    "<h2>Incidents by Borough</h2>"
   ]
  },
  {
   "cell_type": "code",
   "execution_count": 4,
   "metadata": {},
   "outputs": [],
   "source": [
    "%matplotlib inline"
   ]
  },
  {
   "cell_type": "markdown",
   "metadata": {},
   "source": [
    "<h2>Group data by borough and plot a bar chart of the incident count</h2>"
   ]
  },
  {
   "cell_type": "code",
   "execution_count": 5,
   "metadata": {},
   "outputs": [
    {
     "data": {
      "text/plain": [
       "<matplotlib.axes._subplots.AxesSubplot at 0x24cdb33afc8>"
      ]
     },
     "execution_count": 5,
     "metadata": {},
     "output_type": "execute_result"
    },
    {
     "data": {
      "image/png": "[encoded data removed]",
      "text/plain": [
       "<Figure size 432x288 with 1 Axes>"
      ]
     },
     "metadata": {
      "needs_background": "light"
     },
     "output_type": "display_data"
    }
   ],
   "source": [
    "\n",
    "borough_group = data.groupby('Borough')\n",
    "borough_group.size().plot(kind='bar')\n",
    "#kind can be 'hist', 'scatter'\n",
    "#borough_group"
   ]
  },
  {
   "cell_type": "markdown",
   "metadata": {},
   "source": [
    "<h1>Incidents by Agency</h1>"
   ]
  },
  {
   "cell_type": "code",
   "execution_count": 6,
   "metadata": {
    "scrolled": true
   },
   "outputs": [
    {
     "data": {
      "text/plain": [
       "<matplotlib.axes._subplots.AxesSubplot at 0x24cda9e44c8>"
      ]
     },
     "execution_count": 6,
     "metadata": {},
     "output_type": "execute_result"
    },
    {
     "data": {
      "image/png": "[encoded data removed]",
      "text/plain": [
       "<Figure size 864x576 with 1 Axes>"
      ]
     },
     "metadata": {
      "needs_background": "light"
     },
     "output_type": "display_data"
    }
   ],
   "source": [
    "agency_group = data.groupby('Agency')#.count()\n",
    "agency_group.size().plot(kind='bar', figsize=(12,8))\n",
    "#agency_group"
   ]
  },
  {
   "cell_type": "markdown",
   "metadata": {},
   "source": [
    "<h2>Let's combine the two in a single graph</h2>\n"
   ]
  },
  {
   "cell_type": "code",
   "execution_count": 7,
   "metadata": {},
   "outputs": [
    {
     "data": {
      "text/plain": [
       "<matplotlib.axes._subplots.AxesSubplot at 0x24cdab849c8>"
      ]
     },
     "execution_count": 7,
     "metadata": {},
     "output_type": "execute_result"
    },
    {
     "data": {
      "image/png": "[encoded data removed]",
      "text/plain": [
       "<Figure size 432x288 with 1 Axes>"
      ]
     },
     "metadata": {
      "needs_background": "light"
     },
     "output_type": "display_data"
    }
   ],
   "source": [
    "\n",
    "agency_borough = data.groupby(['Agency','Borough'])\n",
    "agency_borough.size().plot(kind='bar')\n"
   ]
  },
  {
   "cell_type": "markdown",
   "metadata": {},
   "source": [
    "<h2>This is quite unreadable and pointless!</h2>"
   ]
  },
  {
   "cell_type": "markdown",
   "metadata": {},
   "source": [
    "<h3>We can unstack the groups so that we get borough by agency</h3>"
   ]
  },
  {
   "cell_type": "code",
   "execution_count": 8,
   "metadata": {},
   "outputs": [
    {
     "data": {
      "text/plain": [
       "<matplotlib.axes._subplots.AxesSubplot at 0x24cda899308>"
      ]
     },
     "execution_count": 8,
     "metadata": {},
     "output_type": "execute_result"
    },
    {
     "data": {
      "image/png": "[encoded data removed]",
      "text/plain": [
       "<Figure size 432x288 with 1 Axes>"
      ]
     },
     "metadata": {
      "needs_background": "light"
     },
     "output_type": "display_data"
    }
   ],
   "source": [
    "agency_borough.size().unstack().plot(kind='bar')"
   ]
  },
  {
   "cell_type": "markdown",
   "metadata": {},
   "source": [
    "<h3>Increase the size of the image and add a title</h3>"
   ]
  },
  {
   "cell_type": "code",
   "execution_count": 9,
   "metadata": {},
   "outputs": [
    {
     "data": {
      "text/plain": [
       "<matplotlib.axes._subplots.AxesSubplot at 0x24cda79ef08>"
      ]
     },
     "execution_count": 9,
     "metadata": {},
     "output_type": "execute_result"
    },
    {
     "data": {
      "image/png": "[encoded data removed]",
      "text/plain": [
       "<Figure size 1080x576 with 1 Axes>"
      ]
     },
     "metadata": {
      "needs_background": "light"
     },
     "output_type": "display_data"
    }
   ],
   "source": [
    "\n",
    "agency_borough = data.groupby(['Agency','Borough'])\n",
    "agency_borough.size().unstack().plot(kind='bar',title=\"Incidents in each Agency by Borough\",figsize=(15,8))\n"
   ]
  },
  {
   "cell_type": "code",
   "execution_count": 47,
   "metadata": {},
   "outputs": [
    {
     "data": {
      "text/plain": [
       "{('3-1-1', 'BRONX'): [50169, 53476, 79652, 83912, 139218, 255181, 289821, 291174, 299575, 337370, 547398, 693353, 703708, 825572, 838991, 853734, 938380], ('3-1-1', 'BROOKLYN'): [22649, 23922, 47628, 78599, 87189, 87317, 87572, 87747, 87902, 97168, 106327, 173239, 203046, 284358, 291936, 354721, 596732, 619728, 650864, 660099, 680684, 680773, 758763, 758891, 818020, 845309, 862241, 901221], ('3-1-1', 'MANHATTAN'): [87442, 87741, 87910, 90185, 91065, 96018, 141902, 166233, 169036, 218239, 257129, 370459, 397536, 397591, 482643, 667711, 756669, 791825, 836076, 840136, 901872, 903137, 968839], ('3-1-1', 'QUEENS'): [9882, 123194, 133264, 156171, 162120, 226854, 260394, 272446, 333974, 386316, 550679, 629130, 637403, 638898, 657673, 700935, 701059, 711800, 745373, 752389, 752820, 766379, 767130, 897198, 917899, 918132, 927600, 946348], ('3-1-1', 'STATEN ISLAND'): [3279, 114779, 223872, 482141, 548817, 903085], ('DCA', 'BRONX'): [1128, 1175, 1243, 1333, 1467, 1508, 1994, 2102, 4026, 6807, 6847, 6905, 7887, 11676, 12871, 12940, 12999, 13002, 13233, 13885, 14338, 14359, 14729, 15010, 15054, 15939, 16280, 16713, 18001, 20077, 20838, 20839, 21031, 21271, 21605, 30693, 41992, 44173, 44340, 53348, 53453, 53486, 53758, 53870, 53882, 54000, 54018, 54224, 54230, 54299, 54605, 55751, 55965, 60209, 68970, 68981, 69112, 69583, 74706, 74708, 74770, 74829, 74950, 74981, 75015, 75022, 76091, 77207, 77620, 77816, 78075, 79885, 80677, 82389, 82723, 82724, 82764, 84592, 85118, 85119, 85120, 85471, 85704, 86377, 86567, 87158, 88342, 88586, 90798, 91387, 91808, 92376, 93787, 93986, 98606, 98985, 98996, 99157, 99236, 99258, ...], ('DCA', 'BROOKLYN'): [1046, 1061, 1114, 1155, 1200, 1240, 1257, 1259, 1340, 1678, 1828, 2112, 2113, 2268, 2315, 6778, 6779, 6782, 6793, 6806, 11661, 11669, 11674, 11678, 11679, 12743, 12758, 12778, 12779, 12841, 12939, 13168, 14145, 14374, 14997, 15017, 15651, 16246, 16257, 16281, 16564, 18106, 18686, 20027, 20154, 20279, 20651, 20680, 20836, 20975, 21177, 21255, 21268, 21332, 21536, 21998, 28704, 30687, 38698, 41946, 42050, 42968, 42969, 44332, 46901, 53317, 53374, 53495, 53519, 53520, 53619, 53760, 53776, 53822, 54603, 55097, 55960, 56026, 56094, 56280, 56285, 60619, 67589, 68881, 68967, 68978, 68984, 74646, 74677, 74828, 74861, 74882, 74954, 75061, 75062, 75126, 75656, 76978, 77202, 77298, ...], ('DCA', 'MANHATTAN'): [10, 1112, 1129, 1161, 1192, 1334, 1337, 1829, 1946, 1960, 1990, 1998, 2108, 2316, 2437, 2439, 2485, 2865, 6780, 6783, 7888, 8141, 8172, 11664, 12740, 12741, 12761, 12870, 12884, 13000, 15000, 15009, 15653, 15966, 16088, 16578, 19516, 19665, 19702, 20209, 20272, 20410, 20835, 20840, 21032, 21059, 21149, 21212, 21549, 30662, 30683, 32510, 36373, 38528, 41918, 41926, 41945, 41969, 44257, 44278, 47163, 53414, 53460, 53513, 53514, 53569, 53571, 53617, 53642, 53660, 53731, 53732, 53752, 53771, 53867, 54022, 54539, 54598, 54804, 55699, 55966, 73567, 74656, 74823, 74931, 74960, 74986, 75013, 75357, 75833, 76090, 76205, 76977, 76979, 77434, 77625, 77688, 77879, 78317, 78881, ...], ('DCA', 'QUEENS'): [1130, 1174, 1332, 1335, 1518, 1671, 1680, 1947, 1958, 1997, 2145, 2310, 2312, 2423, 2732, 2765, 3496, 6781, 6784, 6792, 6849, 6940, 6962, 8186, 11670, 12701, 12739, 12744, 12837, 12839, 12840, 12872, 12873, 12904, 12976, 13375, 13434, 13661, 14375, 14379, 14743, 15018, 15527, 15929, 16255, 19961, 20216, 20281, 20422, 20448, 20449, 20451, 20646, 20864, 21213, 21348, 21411, 21629, 22852, 25279, 30436, 30661, 30667, 38681, 38769, 39022, 41249, 42038, 42265, 44123, 44253, 44258, 44274, 47094, 53068, 53087, 53275, 53313, 53375, 53501, 53512, 53517, 53656, 53759, 53930, 53952, 54597, 54865, 54875, 55745, 55945, 55961, 56086, 56245, 56281, 60235, 68792, 68812, 68818, 68971, ...], ('DCA', 'STATEN ISLAND'): [2484, 11673, 11677, 13653, 15315, 16416, 20820, 41948, 53509, 77206, 77734, 83656, 84904, 91863, 92586, 108954, 109284, 109572, 113595, 114882, 117637, 129822, 129823, 135556, 137268, 150862, 151238, 158781, 158802, 158950, 159607, 159869, 164476, 179453, 179621, 188779, 195286, 197392, 205164, 208045, 219617, 240897, 242794, 252212, 264762, 280306, 280622, 282131, 282765, 283016, 289765, 317244, 319770, 321800, 323332, 343108, 343497, 346047, 349828, 370958, 372882, 373686, 374628, 386574, 388337, 388882, 397330, 406342, 417656, 438556, 447447, 459890, 471968, 472234, 487112, 487835, 487908, 493653, 502300, 507801, 512502, 513388, 518216, 518217, 520210, 520225, 521168, 521788, 521837, 524336, 538438, 546937, 555386, 558089, 580055, 580056, 580235, 582755, 582950, 593801, ...], ('DEP', 'BRONX'): [1014, 1266, 1918, 4231, 4271, 4421, 4933, 5130, 5158, 5241, 5256, 5298, 5418, 5422, 5423, 5536, 5551, 5593, 5615, 5617, 5650, 5673, 5691, 5793, 5812, 5859, 5986, 6047, 6141, 6149, 6211, 6230, 6257, 6277, 6288, 6296, 6346, 6469, 6473, 6581, 6582, 6593, 6602, 6623, 6668, 6682, 6683, 6877, 7057, 7093, 7111, 7165, 7244, 7285, 7325, 7356, 7439, 7460, 7562, 7567, 7704, 7772, 7857, 7902, 8011, 8049, 8057, 8063, 8651, 8819, 8967, 8999, 9977, 11169, 11328, 11331, 11334, 11335, 11339, 11341, 11348, 11379, 11665, 11695, 12025, 12031, 12332, 12356, 12388, 12408, 12501, 12516, 12539, 12541, 12563, 12795, 13140, 13345, 13435, 13999, ...], ('DEP', 'BROOKLYN'): [30, 127, 174, 175, 248, 272, 291, 389, 626, 955, 958, 970, 1004, 1132, 1166, 1167, 1182, 1191, 1193, 1234, 1235, 1242, 1255, 2404, 2650, 2785, 4270, 4283, 4369, 4578, 4848, 5092, 5104, 5126, 5156, 5173, 5187, 5199, 5209, 5217, 5259, 5282, 5292, 5306, 5314, 5316, 5339, 5340, 5354, 5398, 5412, 5501, 5505, 5506, 5507, 5510, 5515, 5519, 5528, 5537, 5538, 5542, 5550, 5553, 5554, 5555, 5560, 5563, 5572, 5573, 5574, 5576, 5580, 5584, 5587, 5588, 5590, 5591, 5592, 5595, 5597, 5598, 5599, 5602, 5611, 5612, 5613, 5616, 5622, 5624, 5627, 5632, 5633, 5636, 5640, 5659, 5666, 5702, 5731, 5754, ...], ('DEP', 'MANHATTAN'): [42, 289, 908, 953, 954, 989, 1258, 1345, 1679, 1830, 2482, 4236, 4243, 4328, 4489, 4617, 4740, 4803, 4966, 5057, 5066, 5081, 5084, 5095, 5113, 5114, 5115, 5125, 5127, 5141, 5143, 5150, 5198, 5200, 5207, 5227, 5245, 5287, 5379, 5384, 5394, 5497, 5499, 5503, 5540, 5546, 5547, 5561, 5565, 5568, 5569, 5582, 5589, 5618, 5620, 5621, 5628, 5629, 5630, 5631, 5635, 5638, 5642, 5643, 5644, 5645, 5646, 5648, 5652, 5658, 5706, 5710, 5738, 5757, 5783, 5795, 5803, 5876, 5933, 5939, 5955, 5972, 5979, 5991, 5997, 6003, 6025, 6026, 6129, 6197, 6202, 6241, 6246, 6253, 6263, 6279, 6280, 6283, 6299, 6304, ...], ('DEP', 'QUEENS'): [87, 89, 176, 243, 250, 623, 662, 748, 821, 851, 973, 1003, 1139, 1143, 1190, 1194, 1267, 1449, 1757, 2032, 2567, 2652, 4225, 4318, 4329, 4374, 4480, 4542, 4560, 4658, 4702, 4950, 4951, 4957, 4973, 5016, 5078, 5110, 5175, 5177, 5208, 5218, 5244, 5246, 5247, 5258, 5261, 5321, 5329, 5337, 5380, 5502, 5516, 5517, 5518, 5522, 5524, 5529, 5530, 5534, 5541, 5552, 5562, 5571, 5579, 5585, 5586, 5596, 5604, 5608, 5610, 5619, 5625, 5626, 5634, 5639, 5641, 5649, 5651, 5653, 5695, 5701, 5745, 5833, 5841, 5843, 5878, 5922, 5935, 6018, 6078, 6128, 6159, 6163, 6164, 6169, 6199, 6200, 6204, 6208, ...], ('DEP', 'STATEN ISLAND'): [4304, 5531, 5532, 5533, 5539, 5557, 5559, 5564, 5581, 5605, 5726, 5734, 5746, 5839, 5990, 6155, 6266, 6267, 6286, 6404, 6643, 6732, 6824, 7173, 7305, 7314, 7353, 7364, 7377, 7523, 7577, 7578, 7580, 7725, 8884, 10584, 11105, 11229, 11299, 11313, 11315, 11320, 11336, 11340, 11345, 11349, 11351, 11354, 11365, 11383, 11423, 11712, 11889, 12275, 12433, 12441, 12595, 13066, 15004, 15498, 15861, 16151, 16200, 16261, 16389, 17089, 17852, 18521, 20286, 20996, 21706, 22103, 23591, 23749, 25999, 26753, 27785, 28529, 28743, 28952, 28976, 29054, 29063, 29089, 29093, 29146, 29152, 29157, 29165, 29171, 29189, 29278, 29293, 29338, 29360, 29404, 29409, 29934, 29955, 29963, ...], ('DFTA', 'BRONX'): [138834, 180168, 222804, 323382, 471691, 480950, 512850, 625041, 626878, 687192, 688923, 696519, 706508, 722745, 755221, 803751, 843424, 846260, 897293, 917740, 925361], ('DFTA', 'BROOKLYN'): [11213, 22842, 154444, 158398, 174729, 214362, 244776, 265875, 278463, 314072, 415335, 493577, 513251, 541277, 579917, 582163, 604491, 609315, 613350, 659856, 666499, 669391, 698737, 760219, 761848, 779394, 823236, 826015, 859612, 868874, 871979, 913615, 916736], ('DFTA', 'MANHATTAN'): [156149, 169924, 169925, 181202, 314199, 319399, 320212, 425648, 446915, 480602, 489554, 508302, 521563, 544496, 579739, 600244, 603042, 620963, 658749, 668444, 711183, 721214, 755957, 912358], ('DFTA', 'QUEENS'): [74299, 150090, 153050, 155744, 170611, 172380, 263705, 279523, 283939, 313755, 473527, 492327, 587454, 596971, 616370, 616585, 628907, 649278, 751838, 912147, 966913], ('DFTA', 'STATEN ISLAND'): [420679, 725962], ('DHS', 'BRONX'): [2654, 2989, 3242, 4034, 13755, 16798, 19640, 19756, 20759, 22360, 22368, 22724, 22730, 25222, 26573, 29602, 37393, 38884, 39714, 40596, 49782, 52767, 57166, 57173, 57258, 57540, 57788, 57789, 76269, 79299, 80276, 84203, 86606, 94832, 95584, 96750, 97581, 107757, 108059, 109210, 110644, 115000, 116147, 116343, 116346, 117353, 117455, 118290, 118560, 135650, 136632, 137358, 139630, 139969, 140081, 140451, 148118, 154565, 159573, 165139, 165722, 165725, 166574, 167513, 167516, 168536, 168541, 171787, 172537, 173470, 180272, 180709, 182048, 182569, 188967, 190271, 196591, 199591, 201039, 202095, 202372, 202385, 203348, 211011, 219008, 221532, 222376, 224398, 232481, 232515, 234506, 237121, 238839, 239744, 244733, 249339, 251304, 253886, 255250, 257917, ...], ('DHS', 'BROOKLYN'): [2095, 2950, 3209, 3292, 3633, 3901, 3926, 5377, 13379, 13759, 13815, 14601, 15109, 17388, 17641, 17911, 17927, 18143, 18428, 18685, 22141, 22351, 22352, 22710, 23545, 24815, 25172, 25278, 25314, 25489, 25706, 26388, 26527, 26677, 27219, 27522, 27653, 29908, 31004, 31316, 32414, 37391, 38759, 39431, 39715, 40315, 40651, 40748, 41056, 41127, 47518, 50837, 51478, 51683, 51694, 52454, 53662, 53668, 55213, 56424, 56456, 57260, 57264, 57274, 57517, 57978, 58332, 60368, 63558, 63702, 64908, 64922, 66319, 66654, 67545, 68974, 69199, 69417, 70219, 75626, 76263, 76264, 76268, 76791, 77941, 78673, 78729, 79194, 79539, 79816, 79960, 80268, 80476, 83934, 85107, 88463, 89905, 91124, 92223, 94259, ...], ('DHS', 'MANHATTAN'): [1270, 1272, 1454, 1455, 1456, 1632, 1634, 1758, 1766, 1769, 1770, 1927, 1938, 2089, 2090, 2094, 2251, 2406, 2407, 2410, 2415, 2416, 2420, 2432, 2572, 2581, 2582, 2621, 2623, 2659, 2733, 2738, 2741, 2751, 2757, 2763, 2768, 2771, 2772, 2786, 2854, 2860, 2869, 2877, 2891, 2905, 2927, 2936, 2947, 2956, 2970, 2973, 2985, 3019, 3022, 3040, 3071, 3094, 3098, 3112, 3113, 3158, 3159, 3205, 3213, 3215, 3294, 3314, 3343, 3345, 3354, 3364, 3365, 3375, 3383, 3395, 3400, 3407, 3443, 3488, 3526, 3530, 3531, 3533, 3542, 3579, 3590, 3615, 3652, 3756, 3766, 3769, 3773, 3776, 3788, 3824, 3890, 3891, 3896, 3928, ...], ('DHS', 'QUEENS'): [1635, 2804, 3161, 3391, 4036, 13490, 14491, 15697, 15812, 17459, 17567, 19260, 19736, 21874, 23116, 23312, 23541, 23680, 23983, 24618, 26284, 26356, 26685, 26892, 26981, 27620, 29721, 39933, 40658, 40989, 51638, 51959, 52272, 52428, 52455, 52605, 56451, 57172, 57545, 58254, 58290, 68343, 68969, 74735, 76764, 77357, 77768, 78027, 78605, 80440, 90211, 94070, 95192, 95193, 96028, 96439, 97195, 105493, 106384, 106405, 106409, 108034, 108035, 110328, 110655, 112408, 115888, 116324, 116664, 117198, 118006, 118555, 129655, 136399, 136435, 137238, 137672, 138210, 139331, 139562, 139631, 140040, 140546, 140996, 141017, 141344, 141982, 148068, 150978, 152223, 152852, 153347, 153875, 154294, 154691, 156221, 156237, 157026, 157054, 157974, ...], ('DHS', 'STATEN ISLAND'): [18786, 19542, 23117, 23981, 39494, 49925, 82803, 110904, 138536, 141489, 165134, 182575, 200739, 258402, 264090, 290811, 303066, 334697, 381033, 390263, 436888, 468173, 476434, 489519, 493217, 493347, 496822, 522053, 597689, 601499, 606323, 610187, 676957, 678435, 720381, 731855, 752631, 755785, 768280, 775562, 796157, 803093, 822239, 822755, 836094, 837810, 855561, 857059, 871927, 872081, 872615, 930927, 932863, 933340, 945600], ('DOB', 'BRONX'): [1094, 1793, 2637, 2840, 3251, 3253, 3463, 3666, 3667, 3668, 3677, 3878, 3884, 4087, 4090, 4092, 4424, 5011, 5149, 5308, 5509, 5733, 6063, 6463, 6647, 6770, 7067, 7379, 7394, 7403, 7421, 7429, 7430, 7438, 7443, 7463, 7465, 7471, 7501, 7502, 7555, 7643, 7689, 7698, 7735, 7825, 7895, 7968, 7970, 8161, 8719, 11043, 11311, 11429, 11457, 11605, 11755, 12892, 13102, 13297, 13748, 14103, 14251, 14261, 15353, 15359, 16992, 17002, 17448, 17733, 17748, 18010, 18017, 18282, 18294, 18319, 18593, 18889, 18915, 18926, 19232, 19358, 19410, 19497, 19760, 19977, 20032, 20033, 21745, 21794, 21803, 21899, 21902, 22061, 22155, 22206, 22299, 22303, 22380, 22436, ...], ('DOB', 'BROOKLYN'): [543, 585, 744, 745, 855, 998, 2638, 2639, 2640, 2642, 2644, 2645, 2843, 2844, 2845, 2846, 3056, 3057, 3058, 3250, 3254, 3255, 3256, 3259, 3464, 3465, 3466, 3467, 3470, 3669, 3670, 3678, 3681, 3875, 3876, 3879, 3881, 3882, 3885, 4091, 4289, 4314, 5170, 5262, 5431, 6006, 6224, 6414, 6470, 6615, 6632, 6637, 6684, 6761, 6825, 6938, 7053, 7205, 7216, 7235, 7242, 7275, 7337, 7338, 7339, 7354, 7359, 7370, 7386, 7400, 7401, 7402, 7404, 7406, 7431, 7444, 7459, 7461, 7469, 7481, 7486, 7508, 7519, 7520, 7543, 7545, 7546, 7560, 7708, 7721, 7726, 7734, 7736, 7749, 7786, 7872, 8031, 8163, 8184, 8310, ...], ('DOB', 'MANHATTAN'): [2411, 2651, 2848, 2850, 2851, 3064, 3067, 3260, 3265, 3266, 3473, 3474, 3475, 3479, 3480, 3679, 3680, 3685, 3686, 3887, 3888, 4088, 4089, 4096, 4097, 4377, 4977, 5075, 5350, 5523, 6002, 6402, 6496, 6621, 6624, 6627, 6688, 6720, 6762, 6879, 6969, 6980, 7084, 7136, 7296, 7340, 7369, 7371, 7462, 7503, 7504, 7530, 7539, 7556, 7561, 7584, 7707, 7850, 7855, 7942, 7955, 7999, 8052, 8086, 8115, 8228, 8614, 8644, 10042, 10392, 11034, 11071, 11078, 11392, 11594, 11598, 11614, 11711, 12662, 13067, 13166, 13201, 13214, 13376, 13778, 13946, 14262, 14355, 14394, 17280, 17718, 17742, 18009, 18241, 18259, 18268, 18325, 18326, 18570, 18881, ...], ('DOB', 'QUEENS'): [834, 902, 904, 1196, 1768, 2635, 2636, 2643, 2646, 2647, 2649, 2841, 2847, 2849, 3051, 3052, 3053, 3054, 3055, 3059, 3060, 3061, 3062, 3063, 3065, 3068, 3252, 3257, 3258, 3261, 3263, 3264, 3471, 3476, 3671, 3672, 3674, 3675, 3676, 3682, 3683, 3684, 3874, 3877, 3880, 3883, 4083, 4085, 4093, 4094, 4095, 4240, 5169, 5171, 5364, 5370, 5686, 6102, 6385, 6410, 6562, 6619, 6734, 6771, 7050, 7142, 7171, 7193, 7222, 7260, 7272, 7295, 7323, 7389, 7428, 7464, 7483, 7547, 7559, 7571, 7572, 7645, 7759, 7785, 7803, 7810, 7880, 8012, 8032, 8248, 8308, 9018, 10669, 11258, 11617, 12524, 12616, 12622, 12623, 12768, ...], ('DOB', 'STATEN ISLAND'): [2842, 3066, 3469, 3477, 3478, 3673, 3886, 4084, 6628, 6724, 7169, 7876, 8251, 11567, 12383, 16546, 17282, 17521, 18883, 19747, 22202, 22375, 22440, 22442, 22591, 22607, 23028, 23412, 23414, 23873, 25641, 26593, 27365, 29705, 29924, 30057, 30816, 32499, 32852, 37432, 39674, 41732, 41735, 41789, 42310, 43276, 43442, 44363, 46031, 46877, 47015, 47026, 47297, 47462, 47464, 49226, 50138, 51418, 52072, 52258, 52564, 54024, 54233, 54418, 56878, 57934, 58540, 59040, 60032, 60045, 60069, 60128, 63708, 64068, 64380, 65089, 66199, 66218, 66224, 66246, 66839, 67770, 67801, 68681, 69264, 71083, 74406, 74965, 75756, 75759, 76522, 77057, 78989, 78990, 79226, 79227, 79484, 79806, 79931, 80075, ...], ('DOE', 'BRONX'): [17354, 20872, 21609, 22475, 23311, 45680, 67563, 74651, 74652, 74683, 74756, 74779, 74920, 77983, 79205, 92873, 98635, 109339, 112439, 116037, 116590, 117078, 123166, 132270, 132834, 137461, 138530, 148694, 149049, 159449, 170745, 171883, 171888, 177915, 181835, 218567, 219414, 219642, 219683, 221497, 243715, 245084, 246951, 277340, 307929, 309716, 311206, 313390, 321204, 350571, 415159, 443521, 452957, 467998, 471853, 474309, 477875, 478863, 487303, 500462, 500801, 501573, 501861, 502124, 536894, 538265, 538970, 539047, 542703, 545999, 556534, 573818, 594514, 596751, 606069, 627801, 638387, 638465, 638627, 639448, 640562, 644295, 649897, 652654, 654041, 654652, 655808, 657289, 658341, 660251, 692159, 694271, 694923, 695190, 695224, 698698, 700663, 701959, 710197, 711413, ...], ('DOE', 'BROOKLYN'): [4997, 5363, 13685, 41650, 74845, 74980, 83721, 87970, 96839, 103102, 105676, 106297, 126563, 126931, 127176, 127262, 128096, 129958, 134185, 136878, 150106, 155594, 158607, 169078, 169198, 169513, 169712, 169839, 169922, 169955, 169960, 175978, 204310, 204837, 206841, 213691, 219639, 219783, 219899, 220233, 220632, 221025, 221516, 228988, 233416, 241764, 244257, 247487, 278747, 280273, 280659, 280870, 283518, 304504, 310633, 328761, 336395, 363403, 387625, 393074, 406264, 408182, 452755, 468962, 474584, 476367, 496419, 540408, 543309, 545060, 548915, 558223, 567991, 569947, 589506, 607164, 613498, 630149, 639595, 640674, 652857, 652964, 653085, 653901, 657495, 672272, 683036, 705232, 715446, 717564, 718510, 718753, 719024, 727088, 730666, 732112, 737715, 739176, 769369, 775189, ...], ('DOE', 'MANHATTAN'): [21601, 23421, 53150, 53510, 126948, 128184, 163617, 168785, 240158, 245886, 302068, 308433, 455754, 473725, 474329, 500184, 500818, 501862, 502077, 523550, 527536, 536785, 543887, 589687, 617929, 634005, 634404, 654355, 673594, 683170, 684980, 686829, 712431, 789123, 801706, 809058, 814767, 823629, 843948, 846927, 864617, 879274, 895830, 896356, 912043, 913543, 914113, 936729, 950717], ('DOE', 'QUEENS'): [20641, 22584, 28520, 30453, 31265, 67350, 74919, 79824, 81884, 97484, 97894, 99843, 142893, 147089, 150856, 153803, 159161, 160091, 175819, 177804, 196488, 203464, 206523, 206525, 217315, 221709, 228722, 228770, 238024, 249418, 257162, 264471, 267445, 304689, 320429, 320443, 368679, 385007, 386503, 408191, 416204, 419167, 449224, 449229, 449497, 450228, 451216, 453307, 474145, 477193, 480626, 480851, 496305, 498469, 500047, 500531, 500569, 501106, 505677, 505979, 507376, 507397, 508407, 527507, 543240, 543241, 543425, 543482, 543803, 595783, 612268, 629117, 638353, 638420, 640162, 654289, 655644, 659506, 660780, 670167, 681220, 682169, 695798, 697060, 710955, 714561, 714600, 749560, 750193, 755770, 768940, 770525, 773208, 773807, 776322, 797087, 797180, 804053, 811969, 812263, ...], ('DOE', 'STATEN ISLAND'): [49712, 206910, 339335, 472814, 794710, 823637, 887122, 897301, 918601, 920058, 928376, 937107, 956938], ('DOF', 'BRONX'): [11106, 22134, 47376, 53718, 72873, 72945, 80541, 95686, 96004, 97199, 97906, 98337, 111203, 126619, 129458, 139255, 141948, 148575, 151171, 166238, 172851, 173780, 174408, 176140, 178983, 181395, 205609, 221836, 225727, 232846, 253647, 253648, 256890, 279465, 280451, 326239, 326280, 329460, 331901, 342602, 345621, 387240, 389227, 399521, 402304, 403054, 404602, 408677, 430107, 455871, 460880, 467363, 470388, 472666, 473303, 477185, 478960, 482506, 482507, 484531, 485565, 490749, 492245, 494497, 495799, 502836, 502936, 506103, 507184, 509976, 519169, 521345, 522318, 523508, 524081, 542918, 546395, 549052, 558322, 561366, 563112, 567655, 595867, 597545, 597886, 598893, 601883, 602538, 602751, 603752, 605986, 611190, 611900, 617655, 627492, 627623, 633476, 634416, 643397, 643403, ...], ('DOF', 'BROOKLYN'): [2124, 19968, 22714, 35471, 46789, 53716, 54242, 54249, 54549, 71831, 75621, 79990, 84253, 85466, 89732, 95570, 98983, 109302, 111023, 111502, 116838, 128787, 136469, 137573, 139633, 148510, 155404, 158569, 164151, 165151, 166292, 168768, 180126, 184553, 185483, 212281, 213849, 243474, 243526, 253426, 254293, 265063, 278400, 278442, 311038, 312731, 314020, 322576, 325388, 326017, 326659, 337957, 337958, 337962, 346059, 354202, 391218, 395760, 397625, 398193, 398504, 403063, 408676, 412839, 416291, 420192, 421229, 450109, 451696, 452405, 453636, 453649, 458791, 462430, 482386, 484039, 490864, 493537, 495970, 496576, 505691, 506934, 524046, 531862, 545369, 546177, 556521, 557743, 558318, 569948, 581512, 582220, 586724, 587338, 587339, 597182, 599308, 600896, 602074, 603327, ...], ('DOF', 'MANHATTAN'): [2816, 10130, 11091, 11177, 20454, 23363, 54255, 77586, 77815, 78496, 80092, 90752, 98393, 99066, 100437, 108666, 108799, 109591, 117290, 126625, 126831, 135825, 152349, 157397, 166261, 171881, 176857, 194225, 196398, 197753, 197938, 205235, 213013, 221378, 222706, 225519, 239755, 243527, 244056, 252174, 252910, 254370, 254992, 256582, 256609, 264526, 278665, 282714, 300524, 301042, 312540, 326544, 327519, 331069, 335254, 345013, 374990, 389313, 390938, 401559, 402879, 416304, 421187, 429629, 460720, 460879, 461322, 461454, 461652, 476805, 477853, 478620, 478961, 483234, 484802, 486348, 486846, 487330, 487375, 522706, 523730, 523898, 525563, 532262, 538566, 544140, 556520, 557979, 562215, 563318, 587315, 589883, 597457, 598041, 602123, 602530, 607043, 622325, 626802, 629422, ...], ('DOF', 'QUEENS'): [3940, 10414, 30385, 48451, 72730, 74862, 88555, 90753, 91194, 95765, 98528, 98876, 107467, 108800, 110915, 116548, 125870, 126549, 135547, 139372, 156470, 157059, 180719, 181393, 186121, 196397, 238093, 244373, 246090, 246893, 251931, 252608, 257226, 277654, 282200, 313430, 314448, 396377, 410848, 418011, 453692, 458182, 460943, 461317, 461476, 462447, 476453, 477899, 479005, 482572, 491994, 492881, 493094, 506094, 519852, 522314, 526050, 551417, 557268, 580122, 587704, 597067, 597163, 602081, 617530, 620830, 625028, 627565, 634508, 634509, 634566, 641839, 643201, 643400, 652333, 652910, 658868, 661930, 674401, 675015, 679960, 680387, 690591, 694270, 716972, 718583, 730475, 732486, 745869, 769166, 790445, 799766, 800516, 803434, 820032, 823956, 825152, 831308, 853578, 875183, ...], ('DOF', 'STATEN ISLAND'): [95189, 108756, 138265, 278686, 402158, 461534, 532662, 763400, 842357, 844247], ('DOHMH', 'BRONX'): [1477, 1640, 2270, 3599, 4162, 6749, 6786, 7083, 7113, 7228, 7495, 7801, 8693, 9563, 10447, 10645, 10743, 10773, 11619, 11690, 11775, 11801, 12821, 13106, 13301, 13337, 13922, 14132, 14353, 14516, 14663, 15002, 15212, 15392, 15647, 15855, 15983, 16763, 16858, 17167, 17247, 17411, 17463, 18546, 18894, 19236, 20387, 20388, 20397, 20402, 20471, 20589, 20674, 20774, 20833, 21068, 21145, 21244, 21383, 21498, 21547, 21584, 21940, 22028, 22090, 22091, 22320, 22477, 22499, 22843, 22983, 23443, 23681, 23973, 24124, 24170, 24566, 24694, 24886, 26446, 27344, 27957, 28594, 29352, 30018, 30030, 30243, 32300, 32965, 34182, 35618, 36477, 37433, 38341, 38354, 38696, 38909, 38979, 39492, 39549, ...], ('DOHMH', 'BROOKLYN'): [1503, 2026, 2307, 2688, 2821, 3648, 5276, 7023, 7134, 7835, 7974, 8121, 8312, 8649, 8904, 9005, 9401, 9505, 10396, 10544, 10617, 10691, 10776, 11102, 11206, 11278, 11289, 11465, 12350, 13295, 13598, 14393, 14563, 14662, 14844, 14857, 14884, 14942, 14947, 15034, 15113, 15211, 15244, 15646, 15947, 16197, 16260, 16497, 16666, 16678, 16761, 16819, 16994, 16997, 17077, 17213, 17306, 17419, 18495, 18704, 18854, 18916, 19098, 19447, 19612, 19691, 19714, 19759, 19894, 20273, 20464, 20472, 20588, 20663, 20773, 20961, 20966, 20974, 21000, 21026, 21058, 21081, 21093, 21142, 21144, 21151, 21153, 21154, 21157, 21313, 21314, 21315, 21488, 21492, 21497, 21499, 21950, 21975, 22216, 22284, ...], ('DOHMH', 'MANHATTAN'): [1269, 1790, 2091, 2119, 2278, 2787, 3282, 3485, 3605, 3964, 4110, 6205, 7246, 7274, 7837, 8065, 8137, 8575, 8813, 8918, 9012, 9598, 9795, 9904, 10118, 10137, 10537, 10546, 10598, 10764, 10766, 10783, 11234, 11308, 11600, 12353, 12998, 13393, 13448, 13486, 13528, 13714, 13853, 14032, 14804, 14859, 15197, 15326, 15678, 15988, 16464, 16602, 16681, 16957, 17060, 17160, 17220, 17438, 17499, 17756, 18494, 18628, 18706, 18707, 19004, 19009, 19154, 19194, 19241, 19245, 19388, 19448, 19458, 19517, 19518, 19620, 19690, 19713, 19967, 20130, 20142, 20424, 20484, 20643, 20729, 20852, 21152, 21156, 21158, 21241, 21310, 21347, 21526, 21527, 21619, 21660, 21683, 21802, 21956, 22205, ...], ('DOHMH', 'QUEENS'): [1134, 1321, 2120, 2625, 3135, 3284, 3957, 5919, 6795, 6850, 7161, 8099, 8122, 8397, 8647, 8792, 9800, 9801, 9878, 9952, 10412, 10535, 11036, 11108, 11773, 12347, 12349, 12961, 13513, 13638, 14882, 15033, 15084, 15151, 15238, 15743, 15751, 15801, 15821, 16353, 16436, 16611, 16756, 16762, 18530, 18956, 19629, 19758, 19971, 20271, 20323, 20403, 20432, 20934, 20956, 21087, 21155, 21306, 21342, 21821, 21961, 22215, 22330, 22446, 22938, 22990, 23554, 24301, 24506, 24619, 24693, 24783, 24881, 26428, 28588, 31109, 31153, 31199, 31241, 31372, 31378, 32265, 32266, 32358, 32461, 32521, 32578, 32580, 33366, 35780, 36181, 36265, 36738, 36958, 38089, 38347, 38665, 38685, 38686, 38695, ...], ('DOHMH', 'STATEN ISLAND'): [2653, 3757, 7348, 7873, 14544, 14994, 15528, 15657, 16024, 16318, 17387, 17730, 18560, 19130, 19855, 20357, 20519, 20769, 20856, 21139, 21714, 21957, 23599, 30028, 30445, 30859, 31635, 31712, 32596, 38651, 38773, 39384, 39761, 47013, 47050, 53689, 53927, 54601, 60383, 69224, 69340, 69730, 70595, 72481, 72829, 75039, 75699, 76995, 77090, 77556, 77597, 81592, 82531, 82722, 82779, 83172, 84139, 85524, 85526, 85774, 85920, 87155, 87677, 88033, 89634, 91152, 92111, 92591, 92778, 92893, 93317, 93576, 94025, 96551, 100030, 112580, 112754, 113179, 113360, 113631, 113907, 118999, 119549, 119553, 120179, 122859, 127254, 134225, 136152, 136318, 137129, 137566, 139762, 139980, 143224, 148203, 148869, 149752, 149953, 151734, ...], ('DOITT', 'BRONX'): [87574, 121858, 217936, 291212, 519861, 657362, 901345], ('DOITT', 'BROOKLYN'): [7516, 83286, 280479, 285745, 344061, 392740, 487825, 519945, 520455, 703735, 719364, 798716, 900589, 901582, 903799, 904222, 904681, 905097], ('DOITT', 'MANHATTAN'): [11689, 19969, 25207, 52756, 56946, 67103, 72763, 72856, 92274, 94858, 99947, 126265, 131761, 148729, 150263, 151208, 153620, 157602, 180362, 181114, 182566, 211060, 211965, 213355, 216596, 221127, 268351, 279609, 303114, 335923, 340310, 342595, 352093, 353037, 388593, 389908, 390108, 425003, 465286, 485563, 488857, 505058, 506087, 514165, 539326, 588070, 604273, 626688, 644522, 651995, 653992, 654828, 655141, 655902, 664956, 674950, 686417, 687480, 690298, 690431, 692992, 694010, 699018, 700804, 701748, 757364, 776636, 781475, 790536, 798927, 800833, 831634, 859448, 860138, 869422, 869455, 885588, 899931, 900756, 901113, 901176, 912944, 913954, 926146, 950475, 950976, 951248, 952669, 953913, 957877, 967847], ('DOITT', 'QUEENS'): [70, 84312, 85061, 101536, 269228, 282191, 455631, 455762, 460068, 508410, 630290, 638419, 652895, 696624, 776339, 779855, 900639, 968320], ('DOT', 'BRONX'): [62, 73, 162, 170, 180, 278, 323, 398, 690, 698, 699, 703, 732, 1000, 1043, 1062, 1126, 1163, 1260, 1284, 1401, 1475, 1628, 1706, 1791, 1959, 1973, 2104, 2405, 2424, 2634, 2663, 2837, 2839, 2884, 3045, 3049, 3455, 3872, 4455, 4533, 4567, 4595, 4935, 4936, 4963, 4982, 4990, 4995, 4996, 4999, 5090, 5147, 5183, 5212, 5235, 5236, 5311, 5426, 5862, 5879, 5891, 5899, 5914, 5916, 5917, 5923, 5924, 5943, 5949, 5983, 5994, 6005, 6096, 6097, 6119, 6145, 6157, 6464, 6652, 6666, 6670, 6675, 6777, 6789, 6816, 6831, 6832, 6869, 6870, 6885, 6950, 6952, 6987, 7490, 7540, 7551, 7611, 7620, 7632, ...], ('DOT', 'BROOKLYN'): [21, 22, 23, 25, 26, 32, 33, 34, 40, 47, 54, 55, 57, 58, 60, 64, 69, 72, 74, 75, 77, 78, 80, 92, 94, 110, 111, 113, 117, 134, 141, 144, 146, 150, 156, 160, 194, 195, 205, 207, 224, 226, 237, 254, 268, 274, 281, 288, 308, 313, 345, 358, 386, 428, 491, 547, 559, 562, 568, 569, 637, 644, 679, 683, 685, 689, 700, 707, 731, 753, 773, 803, 833, 843, 846, 847, 848, 852, 866, 871, 872, 893, 919, 936, 944, 961, 967, 981, 985, 986, 987, 988, 995, 997, 999, 1008, 1009, 1011, 1017, 1018, ...], ('DOT', 'MANHATTAN'): [38, 39, 41, 59, 79, 115, 116, 138, 142, 145, 181, 193, 206, 218, 225, 235, 238, 244, 273, 307, 347, 374, 377, 378, 379, 399, 409, 418, 427, 519, 643, 705, 735, 755, 764, 785, 786, 800, 913, 957, 964, 1052, 1053, 1056, 1088, 1102, 1148, 1150, 1219, 1237, 1256, 1265, 1402, 1403, 1459, 1460, 1472, 1473, 1724, 1891, 1917, 1923, 1957, 2115, 2267, 2273, 2277, 2361, 2445, 2488, 2631, 2633, 2995, 3029, 3046, 3048, 3050, 3105, 3166, 3248, 3290, 3300, 3394, 3441, 3462, 3501, 3561, 3664, 3734, 3742, 3833, 3953, 3988, 4047, 4074, 4252, 4504, 4591, 4728, 4729, ...], ('DOT', 'QUEENS'): [17, 20, 24, 35, 43, 56, 63, 93, 97, 112, 135, 139, 155, 158, 159, 161, 173, 197, 230, 240, 269, 311, 372, 373, 384, 395, 416, 584, 729, 763, 784, 844, 845, 867, 897, 898, 918, 943, 962, 965, 977, 994, 1005, 1012, 1023, 1027, 1029, 1030, 1032, 1038, 1042, 1065, 1066, 1068, 1069, 1085, 1086, 1101, 1104, 1109, 1131, 1146, 1154, 1164, 1198, 1201, 1202, 1214, 1215, 1216, 1217, 1222, 1253, 1254, 1286, 1289, 1297, 1302, 1404, 1406, 1407, 1408, 1464, 1574, 1586, 1644, 1710, 1723, 1784, 1785, 1869, 1953, 1955, 2011, 2051, 2087, 2118, 2163, 2165, 2166, ...], ('DOT', 'STATEN ISLAND'): [315, 842, 1006, 1015, 1067, 1195, 1220, 1474, 1570, 1572, 1573, 1787, 1888, 2207, 2340, 2430, 2513, 2591, 3458, 3460, 3705, 3761, 4064, 4952, 5010, 5351, 5406, 5900, 5971, 6000, 6027, 6116, 6152, 6309, 6344, 6345, 6417, 6462, 6484, 6626, 6748, 6760, 6764, 6871, 6928, 6944, 7009, 7069, 7254, 7399, 7575, 7618, 7619, 7638, 7653, 7654, 7670, 7671, 7672, 7703, 7769, 7797, 7979, 8542, 8616, 9402, 10171, 11198, 11300, 11442, 11460, 11462, 11475, 11500, 11512, 11518, 11527, 11610, 12133, 12691, 12982, 13452, 13877, 13883, 14017, 14160, 14227, 14334, 14350, 14554, 14609, 14723, 14998, 15268, 15279, 15296, 15501, 15952, 16303, 16680, ...], ('DPR', 'BRONX'): [874, 1271, 2680, 2808, 3117, 3404, 3655, 3665, 4063, 4185, 4608, 5048, 5062, 12472, 14759, 15701, 16166, 17640, 17693, 17695, 17972, 18204, 21075, 21679, 21721, 21987, 22226, 22460, 23189, 23299, 23630, 23701, 24095, 24111, 24656, 24948, 25177, 26727, 26779, 27288, 27374, 28896, 30164, 31692, 41113, 46209, 46516, 46591, 46916, 46996, 47473, 47477, 47479, 47485, 48642, 51088, 54540, 55151, 57351, 57812, 62336, 62962, 63964, 66213, 69523, 70315, 72568, 75325, 78359, 78696, 78942, 79089, 79564, 79578, 79944, 79945, 80112, 80124, 80510, 81398, 82457, 82885, 82984, 83647, 83920, 84040, 84042, 84077, 84450, 84621, 84667, 84809, 84874, 84985, 85362, 86642, 87750, 87951, 88494, 88569, ...], ('DPR', 'BROOKLYN'): [198, 247, 672, 739, 776, 963, 1080, 1099, 1135, 1185, 1188, 1213, 1261, 1476, 1514, 1762, 1899, 2236, 2306, 2674, 2678, 2701, 2800, 2890, 2964, 2965, 2971, 3017, 3134, 3157, 3187, 3220, 3301, 3348, 3371, 3390, 3442, 3551, 3559, 3711, 3851, 3955, 4014, 4067, 4099, 4124, 4551, 4556, 4679, 4937, 5012, 5044, 6534, 10161, 11190, 11607, 11985, 12017, 13104, 13107, 13239, 13456, 14096, 14981, 15302, 17079, 17202, 17408, 17418, 17681, 17878, 17995, 18173, 18303, 18356, 19695, 19992, 20821, 20891, 21358, 21504, 21578, 22120, 22221, 22232, 22458, 22482, 23175, 23829, 24058, 27076, 27588, 30041, 36303, 36444, 37443, 38500, 38726, 39752, 39858, ...], ('DPR', 'MANHATTAN'): [2660, 2716, 2778, 2912, 2987, 3350, 3453, 3481, 3912, 3950, 4655, 4896, 4948, 7114, 8210, 12657, 14151, 15411, 17222, 17893, 17954, 18063, 18174, 18195, 18302, 19041, 20268, 21539, 22235, 22315, 23314, 23691, 25225, 25288, 25630, 25784, 25820, 26253, 27346, 27600, 29474, 32833, 33459, 33850, 34532, 35011, 35269, 39781, 39932, 40319, 40905, 43725, 45066, 45683, 45712, 46223, 46297, 46772, 47272, 48013, 48897, 51251, 52114, 52305, 52655, 53315, 55152, 55395, 56303, 56547, 57144, 57883, 58204, 61460, 61889, 62535, 63054, 63307, 63381, 63824, 64301, 64303, 64323, 64574, 64587, 68835, 69275, 72247, 73656, 75480, 75896, 77020, 78355, 79975, 80096, 80101, 83001, 83650, 83652, 83948, ...], ('DPR', 'QUEENS'): [554, 992, 1124, 1133, 1140, 1227, 1341, 1674, 1952, 1967, 2320, 2395, 2396, 2561, 2790, 2820, 2861, 2924, 3001, 3073, 3243, 3418, 3434, 3451, 3553, 3558, 3649, 3732, 3781, 3865, 3870, 3906, 3924, 3970, 3980, 4046, 4189, 4215, 4413, 4603, 5018, 5091, 5328, 5677, 6052, 6342, 7778, 10352, 11202, 11839, 11997, 12032, 12867, 13650, 13754, 14009, 14034, 14213, 14422, 14492, 14518, 14697, 14704, 14748, 14761, 14763, 14822, 15344, 15559, 15684, 15745, 15787, 16308, 16326, 16633, 17028, 17669, 17727, 18535, 19239, 19415, 19432, 19534, 19824, 19926, 20162, 20218, 20251, 20502, 20539, 20665, 20890, 21431, 21535, 21720, 21737, 21778, 21960, 22052, 22314, ...], ('DPR', 'STATEN ISLAND'): [1074, 1115, 1121, 1141, 1184, 1210, 1224, 1226, 1228, 1230, 1244, 1520, 1609, 1664, 1747, 1810, 1907, 1914, 1926, 1989, 2271, 4295, 5025, 5407, 7085, 7116, 7124, 7590, 8689, 13289, 13658, 14742, 15933, 16045, 16305, 18688, 20486, 20638, 20998, 21056, 21204, 21429, 21607, 21697, 21703, 21718, 22717, 23406, 24222, 24659, 34543, 36640, 36881, 36921, 37002, 42278, 45820, 45845, 45847, 46236, 46488, 46523, 47600, 51452, 51470, 51705, 52185, 53775, 54190, 54678, 54743, 54848, 58200, 63823, 66940, 69790, 71382, 72749, 72791, 72804, 72941, 73267, 73546, 74601, 75018, 76953, 78180, 78699, 78733, 78922, 79101, 79321, 79631, 79878, 79963, 80087, 80287, 80382, 81874, 82837, ...], ('DSNY', 'BRONX'): [734, 761, 767, 802, 827, 915, 933, 968, 980, 1002, 1107, 1137, 1142, 3461, 3516, 4235, 4237, 4278, 4293, 4335, 4349, 4384, 4392, 4470, 4484, 4509, 4510, 4527, 4530, 4562, 4570, 4577, 4588, 4660, 4741, 4994, 5014, 5182, 5229, 5496, 5514, 5520, 5525, 5527, 5544, 5558, 5577, 5578, 5594, 5637, 5752, 5996, 6440, 7089, 7128, 7223, 7341, 7351, 7411, 7456, 7474, 7537, 7741, 7812, 7858, 7869, 7957, 7993, 8168, 8209, 8249, 8291, 8382, 8408, 8409, 8414, 8431, 8526, 8550, 8652, 8671, 8698, 8876, 8903, 9000, 9048, 9057, 9104, 9337, 9397, 10455, 11013, 11137, 11209, 11403, 11627, 11641, 11654, 11714, 11734, ...], ('DSNY', 'BROOKLYN'): [12, 19, 50, 61, 76, 85, 96, 104, 126, 128, 165, 177, 184, 185, 200, 203, 208, 211, 214, 215, 219, 232, 253, 263, 264, 270, 275, 276, 283, 294, 304, 322, 330, 336, 337, 343, 346, 351, 353, 355, 356, 363, 365, 381, 390, 397, 402, 404, 415, 417, 420, 429, 435, 441, 442, 448, 458, 459, 461, 480, 481, 483, 490, 497, 506, 512, 516, 517, 527, 531, 535, 538, 539, 549, 555, 556, 563, 565, 566, 567, 570, 571, 572, 577, 581, 595, 597, 606, 615, 619, 621, 640, 650, 652, 653, 654, 658, 660, 666, 669, ...], ('DSNY', 'MANHATTAN'): [18, 36, 37, 136, 137, 140, 157, 171, 183, 189, 209, 252, 256, 257, 285, 295, 302, 314, 317, 333, 334, 339, 340, 341, 361, 376, 385, 391, 394, 407, 410, 411, 419, 423, 449, 468, 469, 470, 487, 488, 503, 521, 541, 582, 583, 657, 670, 756, 760, 814, 870, 888, 891, 905, 932, 934, 978, 3611, 4242, 4333, 4431, 4476, 4495, 4516, 4537, 4600, 4865, 5047, 5071, 5176, 5362, 5376, 7019, 7040, 7063, 7123, 7132, 7158, 7168, 7232, 7238, 7251, 7265, 7267, 7281, 7282, 7291, 7333, 7343, 7344, 7362, 7373, 7414, 7416, 7423, 7424, 7450, 7478, 7491, 7493, ...], ('DSNY', 'QUEENS'): [16, 86, 105, 114, 149, 182, 186, 190, 191, 192, 201, 204, 217, 223, 231, 234, 259, 262, 267, 301, 303, 332, 335, 338, 342, 357, 366, 368, 375, 380, 383, 392, 396, 405, 406, 408, 413, 421, 430, 434, 456, 479, 482, 489, 496, 498, 502, 507, 522, 546, 590, 591, 605, 608, 620, 622, 625, 651, 668, 671, 675, 697, 716, 717, 733, 736, 751, 759, 777, 778, 780, 794, 795, 806, 809, 815, 819, 839, 865, 926, 951, 956, 979, 990, 1021, 1031, 1152, 1197, 1617, 2150, 3459, 3537, 3736, 4077, 4086, 4250, 4255, 4275, 4298, 4300, ...], ('DSNY', 'STATEN ISLAND'): [261, 321, 328, 344, 369, 382, 387, 388, 401, 446, 457, 501, 511, 523, 594, 609, 630, 639, 645, 659, 725, 749, 750, 758, 801, 804, 820, 877, 896, 937, 939, 975, 1001, 1123, 1171, 4453, 4475, 4486, 4545, 4561, 4572, 4587, 4611, 4615, 5140, 5189, 5391, 5498, 5504, 5656, 5892, 6654, 6660, 6678, 7072, 7073, 7077, 7107, 7126, 7127, 7139, 7144, 7145, 7151, 7152, 7155, 7166, 7188, 7195, 7198, 7221, 7231, 7257, 7269, 7270, 7331, 7457, 7475, 7515, 7532, 7570, 7574, 7579, 7589, 7594, 7595, 7631, 7673, 7700, 7710, 7743, 7744, 7763, 7792, 7796, 7805, 7807, 7820, 7824, 7827, ...], ('EDC', 'BRONX'): [672595], ('EDC', 'BROOKLYN'): [1954, 107383, 136393, 136655, 154868, 172810, 211332, 226398, 256253, 331013, 332305, 332589, 332877, 333481, 369042, 396137, 453037, 491705, 492993, 494035, 495268, 593663, 603122, 604357, 605766, 605830, 606450, 606451, 628041, 671943, 672202, 672216, 672219, 672233, 672420, 672512, 672527, 672628, 672638, 672644, 672647, 672692, 672693, 672768, 672837, 672838, 672840, 672848, 672849, 672856, 672874, 672893, 672933, 673018, 818512, 830795, 962331, 963231, 963712, 967086, 967126, 968353], ('EDC', 'MANHATTAN'): [3554, 25885, 27135, 181982, 183005, 183314, 211942, 211971, 221683, 221930, 224165, 255237, 271492, 274857, 299593, 308139, 308200, 309025, 333718, 395894, 398221, 399368, 494714, 533498, 533646, 568486, 605767, 638676, 672069, 672144, 672346, 672570, 672581, 672676, 672781, 672912, 961923, 962376, 962804, 968360, 968731], ('EDC', 'QUEENS'): [26766, 107123, 181676, 213735, 253902, 254178, 255130, 333719, 567582, 569171, 604639, 672511, 672780, 672843, 961919], ('EDC', 'STATEN ISLAND'): [181637, 309139, 309495, 333755], ('FDNY', 'BRONX'): [17894, 23971, 68119, 72725, 123490, 131275, 211349, 213067, 245841, 256151, 264525, 272404, 327001, 327015, 460658, 482734, 524625, 525011, 525584, 525585, 555394, 586677, 623134, 669554, 685087, 700638, 711079, 714853, 761003, 796022, 807728, 810498, 830174, 830310, 839675, 846925, 858159, 903182, 917642], ('FDNY', 'BROOKLYN'): [2626, 2693, 2879, 6526, 20755, 22387, 22721, 23968, 24321, 42670, 45796, 46465, 79004, 83704, 85161, 86337, 94797, 95125, 99077, 106385, 106958, 113614, 114029, 126406, 126825, 126920, 138651, 140034, 141479, 141755, 141801, 143149, 155313, 156574, 165770, 167973, 172975, 182583, 183019, 202079, 202557, 204444, 204662, 204899, 211298, 212188, 222788, 255491, 271790, 279829, 282509, 304531, 312594, 312857, 333036, 352242, 366878, 368267, 387173, 415512, 460374, 467734, 468956, 476446, 478238, 479662, 487250, 491707, 493187, 493220, 493759, 494031, 494053, 495339, 502597, 503115, 506625, 508747, 509019, 512734, 524807, 532267, 544909, 545800, 546060, 568909, 569379, 574640, 587172, 587684, 588510, 604485, 629123, 629131, 659565, 668503, 691453, 694922, 703206, 724271, ...], ('FDNY', 'MANHATTAN'): [1440, 2605, 2689, 2696, 2898, 2935, 2948, 3188, 3269, 3406, 3437, 3627, 3650, 3740, 3835, 3837, 3857, 3951, 4105, 4193, 4448, 5508, 7409, 12624, 17207, 18055, 18368, 18936, 19103, 20396, 21668, 21872, 22151, 22326, 22346, 22355, 22376, 22693, 22698, 22720, 23082, 23090, 23100, 23126, 23521, 23555, 23951, 23993, 24008, 24328, 24386, 24421, 25289, 29111, 29124, 29282, 39451, 45440, 45735, 45799, 46097, 46444, 46468, 46483, 46785, 47063, 47385, 47390, 47648, 47891, 48420, 48695, 54459, 56885, 68118, 71438, 71559, 76024, 76805, 78085, 78660, 78764, 78765, 78788, 79181, 79414, 79422, 79434, 80226, 80370, 80479, 80483, 82063, 82093, 82094, 85753, 87299, 92410, 94828, 94859, ...], ('FDNY', 'QUEENS'): [6460, 18382, 21865, 22321, 22348, 23505, 29131, 46121, 78929, 79362, 79767, 84392, 94829, 95533, 118338, 126039, 128630, 133725, 138528, 138837, 140065, 141192, 141200, 143133, 165398, 166457, 182405, 183510, 193900, 210994, 211875, 212726, 222662, 251111, 254733, 254836, 259695, 263952, 264171, 272004, 273267, 273639, 274199, 274292, 280788, 313249, 325112, 352197, 353082, 372460, 384877, 384944, 390492, 395033, 397565, 451678, 451687, 453458, 460036, 468662, 472519, 480107, 490616, 492088, 493758, 494481, 494589, 508717, 509553, 518817, 518819, 519570, 525258, 539581, 539590, 547199, 548884, 556468, 567981, 568109, 568908, 570171, 572792, 586920, 601359, 604533, 607443, 607967, 613213, 617597, 639048, 646945, 647654, 648797, 658681, 668219, 668742, 669287, 672892, 673905, ...], ('FDNY', 'STATEN ISLAND'): [140182, 193348, 387713, 692827, 693640, 719602, 720594, 894373], ('HPD', 'BRONX'): [14, 27, 31, 45, 51, 52, 53, 65, 67, 68, 81, 82, 90, 91, 98, 101, 102, 103, 107, 108, 109, 118, 119, 121, 122, 130, 131, 132, 147, 148, 152, 153, 154, 163, 164, 166, 167, 168, 169, 188, 213, 216, 222, 227, 236, 239, 241, 246, 249, 265, 271, 277, 282, 284, 286, 287, 290, 292, 293, 299, 300, 309, 318, 319, 326, 327, 329, 331, 349, 352, 359, 360, 371, 393, 403, 414, 422, 426, 431, 432, 439, 440, 443, 445, 450, 451, 454, 460, 464, 466, 467, 472, 473, 474, 477, 478, 484, 485, 486, 495, ...], ('HPD', 'BROOKLYN'): [66, 120, 123, 124, 129, 178, 187, 196, 199, 210, 220, 221, 229, 233, 298, 305, 310, 320, 324, 325, 354, 364, 367, 424, 425, 433, 436, 437, 438, 444, 453, 455, 462, 463, 465, 475, 476, 492, 494, 505, 508, 513, 518, 520, 524, 525, 526, 534, 537, 540, 542, 544, 551, 552, 573, 578, 587, 589, 598, 602, 603, 616, 618, 627, 631, 636, 649, 663, 667, 691, 740, 741, 769, 771, 772, 788, 790, 807, 813, 825, 830, 882, 884, 885, 899, 921, 940, 941, 942, 948, 959, 969, 982, 1022, 1156, 3737, 3812, 4080, 4246, 4276, ...], ('HPD', 'MANHATTAN'): [13, 29, 71, 99, 100, 125, 172, 202, 228, 255, 266, 280, 312, 350, 412, 452, 493, 530, 533, 545, 564, 575, 601, 614, 628, 647, 665, 712, 743, 752, 789, 791, 810, 812, 831, 832, 849, 850, 881, 903, 927, 945, 983, 984, 1082, 1221, 4264, 4358, 4399, 4400, 4401, 4426, 4465, 4524, 4541, 4625, 4626, 4628, 4630, 4636, 4641, 4643, 4647, 4661, 4677, 4681, 4684, 4685, 4687, 4690, 4691, 4697, 4704, 4705, 4711, 4715, 4719, 4720, 4723, 4726, 4730, 4734, 4735, 4738, 4750, 4752, 4759, 4760, 4766, 4786, 4789, 4794, 4797, 4799, 4801, 4805, 4806, 4809, 4810, 4813, ...], ('HPD', 'QUEENS'): [11, 15, 44, 46, 133, 212, 586, 588, 592, 593, 596, 604, 607, 638, 742, 1108, 1165, 4312, 4619, 4620, 4644, 4653, 4654, 4664, 4666, 4667, 4669, 4670, 4671, 4683, 4689, 4694, 4698, 4733, 4743, 4800, 4807, 4825, 4827, 4850, 4856, 4858, 4887, 4894, 4901, 4902, 4919, 4939, 4941, 4955, 4956, 4958, 4965, 4967, 5022, 5133, 5136, 5234, 5662, 5663, 5684, 5694, 5705, 5712, 5742, 5762, 5764, 5765, 5777, 5804, 5815, 5819, 5821, 5823, 5829, 5834, 5836, 5868, 5874, 5886, 5889, 5903, 5910, 5945, 5967, 5984, 5989, 6014, 6035, 6038, 6044, 6046, 6062, 6074, 6175, 6177, 6225, 6234, 6262, 6330, ...], ('HPD', 'STATEN ISLAND'): [4638, 4776, 4812, 7816, 8946, 9044, 9076, 9205, 9262, 9300, 9356, 9547, 9549, 9590, 9599, 9730, 9836, 10192, 10680, 11066, 11153, 11172, 11224, 11280, 11962, 12815, 13064, 13137, 13139, 13200, 13421, 13459, 13463, 13468, 13546, 13549, 13686, 13770, 13801, 13813, 13869, 13930, 13982, 13995, 14020, 14031, 14044, 14062, 14201, 14252, 14257, 14260, 14263, 14358, 14633, 14725, 14790, 15900, 16013, 16310, 16479, 17145, 17618, 18520, 18598, 18821, 18895, 18905, 19057, 19285, 19356, 21100, 24653, 24846, 25322, 25338, 25720, 26040, 26077, 26098, 27200, 27743, 28038, 28099, 28153, 28159, 28213, 28276, 28872, 29388, 30218, 30315, 30316, 30403, 30592, 30856, 30888, 31971, 31992, 32098, ...], ('NYPD', 'BRONX'): [1020, 1207, 1231, 1250, 1283, 1318, 1328, 1350, 1354, 1355, 1356, 1360, 1374, 1376, 1378, 1379, 1380, 1381, 1389, 1390, 1391, 1394, 1398, 1427, 1428, 1430, 1431, 1432, 1435, 1442, 1445, 1446, 1482, 1484, 1486, 1513, 1516, 1522, 1530, 1533, 1549, 1550, 1554, 1557, 1559, 1563, 1568, 1603, 1616, 1641, 1667, 1686, 1690, 1700, 1712, 1732, 1741, 1750, 1753, 1779, 1802, 1805, 1818, 1838, 1839, 1852, 1853, 1857, 1862, 1872, 1876, 1882, 1897, 1921, 1928, 1931, 1933, 1949, 1965, 1976, 1977, 1982, 1984, 1985, 1987, 1991, 2003, 2016, 2036, 2038, 2041, 2043, 2060, 2061, 2062, 2064, 2065, 2078, 2079, 2099, ...], ('NYPD', 'BROOKLYN'): [1103, 1117, 1118, 1279, 1280, 1281, 1290, 1304, 1305, 1309, 1310, 1311, 1312, 1342, 1344, 1347, 1351, 1352, 1357, 1367, 1368, 1371, 1382, 1383, 1385, 1386, 1387, 1395, 1396, 1397, 1411, 1413, 1415, 1416, 1418, 1419, 1421, 1425, 1429, 1433, 1436, 1457, 1470, 1485, 1497, 1510, 1512, 1519, 1526, 1538, 1541, 1544, 1545, 1551, 1565, 1569, 1571, 1576, 1579, 1582, 1583, 1585, 1588, 1596, 1598, 1600, 1606, 1607, 1614, 1626, 1647, 1650, 1656, 1658, 1665, 1675, 1676, 1684, 1688, 1693, 1694, 1696, 1703, 1704, 1711, 1713, 1716, 1722, 1725, 1733, 1736, 1739, 1742, 1745, 1748, 1780, 1794, 1796, 1797, 1799, ...], ('NYPD', 'MANHATTAN'): [1019, 1116, 1187, 1287, 1343, 1346, 1349, 1358, 1362, 1363, 1365, 1369, 1370, 1377, 1393, 1412, 1414, 1420, 1447, 1461, 1505, 1527, 1529, 1536, 1543, 1552, 1553, 1555, 1556, 1561, 1562, 1566, 1567, 1577, 1578, 1591, 1594, 1595, 1601, 1608, 1611, 1615, 1622, 1673, 1683, 1685, 1687, 1689, 1697, 1698, 1699, 1708, 1709, 1715, 1717, 1718, 1719, 1721, 1726, 1727, 1728, 1735, 1746, 1749, 1754, 1776, 1777, 1816, 1819, 1823, 1832, 1840, 1843, 1845, 1851, 1858, 1859, 1861, 1863, 1866, 1870, 1871, 1878, 1885, 1893, 1894, 1900, 1916, 1920, 1941, 1945, 1950, 1961, 1983, 2001, 2004, 2005, 2007, 2008, 2009, ...], ('NYPD', 'QUEENS'): [242, 1138, 1229, 1232, 1251, 1273, 1282, 1295, 1303, 1307, 1308, 1313, 1314, 1315, 1316, 1317, 1320, 1339, 1348, 1353, 1359, 1361, 1364, 1366, 1372, 1373, 1375, 1384, 1392, 1399, 1409, 1417, 1423, 1424, 1434, 1437, 1441, 1443, 1444, 1448, 1458, 1468, 1469, 1483, 1487, 1488, 1489, 1490, 1491, 1492, 1493, 1495, 1496, 1498, 1515, 1524, 1525, 1528, 1531, 1532, 1534, 1535, 1537, 1542, 1546, 1547, 1558, 1560, 1564, 1575, 1580, 1581, 1584, 1590, 1592, 1593, 1597, 1599, 1602, 1605, 1610, 1612, 1639, 1648, 1649, 1651, 1652, 1659, 1660, 1661, 1681, 1691, 1692, 1695, 1705, 1734, 1737, 1738, 1740, 1743, ...], ('NYPD', 'STATEN ISLAND'): [1288, 1294, 1306, 1400, 1422, 1426, 1521, 1539, 1540, 1548, 1589, 1604, 1613, 1624, 1636, 1653, 1657, 1701, 1702, 1714, 1731, 1756, 1822, 1834, 1846, 1860, 1864, 1865, 1903, 1919, 1970, 1992, 2042, 2068, 2080, 2081, 2083, 2111, 2135, 2142, 2170, 2209, 2240, 2334, 2403, 2421, 2450, 2463, 2476, 2487, 2493, 2507, 2516, 2549, 2627, 2756, 2908, 2911, 3078, 3104, 3410, 3422, 3445, 3487, 3580, 3630, 3715, 3717, 3750, 3780, 3783, 3855, 3894, 3911, 4008, 4045, 4165, 4274, 6759, 6809, 7033, 9659, 9678, 9765, 9932, 10246, 10305, 10333, 10336, 10360, 10463, 10485, 10498, 10523, 10527, 10533, 10540, 10634, 10644, 10710, ...], ('TLC', 'BRONX'): [5049, 8579, 19190, 20182, 26567, 36873, 53137, 57620, 68831, 74761, 76769, 82351, 82785, 83240, 83717, 84767, 88743, 92400, 92853, 92902, 94836, 99252, 99549, 99724, 100211, 105833, 118643, 119960, 125851, 129475, 129905, 130596, 135424, 135559, 135735, 137755, 147145, 151450, 154011, 156135, 156142, 158627, 160374, 160570, 162502, 163351, 164308, 165473, 169508, 169750, 171795, 173291, 177472, 178089, 181386, 185301, 196340, 197908, 203958, 213320, 214104, 215700, 215718, 219200, 225510, 226493, 229293, 235327, 240686, 243859, 252209, 254554, 256990, 268432, 270644, 271365, 281799, 302651, 303193, 303323, 313258, 316752, 322110, 337884, 337887, 337964, 341462, 341827, 341828, 343256, 345128, 364726, 365616, 365726, 366730, 369687, 370503, 374055, 375577, 375781, ...], ('TLC', 'BROOKLYN'): [1299, 1654, 1773, 4241, 5003, 5297, 11023, 14315, 14537, 15142, 15655, 16623, 16636, 17338, 17510, 19507, 20063, 20487, 20650, 20714, 20873, 20883, 20893, 20899, 21071, 21083, 21176, 21261, 21398, 21405, 21588, 21598, 21622, 22671, 25274, 28323, 29550, 34699, 40154, 42706, 43668, 43816, 46800, 47940, 48559, 52015, 52045, 52748, 52822, 53055, 53146, 53148, 53357, 54093, 54376, 54684, 54989, 55656, 55831, 57081, 57628, 57872, 68579, 68874, 69436, 69568, 70637, 72354, 72938, 73040, 74733, 74786, 74809, 74863, 74870, 75099, 75282, 75420, 75421, 75505, 75652, 75805, 75832, 76057, 76085, 76116, 77040, 77709, 77711, 77963, 78051, 78194, 78363, 79096, 80088, 80828, 82375, 82536, 82890, 83087, ...], ('TLC', 'MANHATTAN'): [1035, 1072, 1073, 1077, 1078, 1105, 1153, 1319, 1451, 1494, 1764, 1774, 1803, 1807, 1884, 1924, 1980, 2093, 2164, 2283, 2299, 2300, 2301, 2446, 2454, 2470, 2762, 2885, 3093, 3154, 3324, 3482, 3782, 3935, 4703, 5038, 5393, 5416, 6153, 6382, 7184, 7286, 7397, 7868, 7952, 7975, 8092, 8182, 8577, 8582, 8648, 8794, 8992, 9180, 9520, 9655, 10067, 10325, 10549, 10922, 12577, 13220, 14404, 14410, 14534, 15116, 15155, 15201, 15393, 15636, 15713, 15790, 15794, 15946, 15993, 16068, 16150, 16612, 16817, 16829, 16905, 17234, 17582, 17691, 17818, 17976, 18264, 18465, 18680, 20168, 20194, 20217, 20490, 20503, 20510, 20517, 20708, 20766, 20793, 20884, ...], ('TLC', 'QUEENS'): [991, 993, 1499, 1655, 1763, 1772, 1775, 1781, 3629, 4230, 4763, 6291, 7181, 9394, 10284, 11162, 11204, 12987, 13329, 13388, 14509, 14718, 14741, 15278, 15569, 16080, 16186, 16284, 16324, 17224, 17870, 19630, 20653, 21413, 22371, 23975, 26694, 29822, 38064, 40582, 46194, 46681, 49835, 53040, 53479, 53483, 53864, 54259, 57865, 59407, 63932, 70671, 72939, 73266, 74556, 74663, 74668, 74784, 74990, 75328, 75364, 75807, 76332, 77129, 77495, 77854, 78535, 79869, 81122, 82526, 82548, 82880, 83261, 83291, 84030, 84393, 84685, 84706, 84856, 84900, 85023, 85029, 85139, 85192, 86080, 87248, 89413, 89766, 89772, 90282, 91116, 91181, 91394, 91577, 91752, 92149, 92265, 92327, 92385, 92446, ...], ('TLC', 'STATEN ISLAND'): [6303, 21146, 67152, 77504, 92328, 125914, 126067, 171330, 202063, 210748, 285488, 352753, 358588, 388867, 470229, 473424, 505675, 537185, 545022, 573965, 626417, 687565, 693083, 695909, 723819, 758883, 779879, 796392, 880868, 898427, 910550, 913335, 923680, 930113]}"
      ]
     },
     "execution_count": 47,
     "metadata": {},
     "output_type": "execute_result"
    }
   ],
   "source": [
    "agency_borough.groups"
   ]
  },
  {
   "cell_type": "markdown",
   "metadata": {},
   "source": [
    "<h1>Digression: The pandas groupby function</h1>"
   ]
  },
  {
   "cell_type": "markdown",
   "metadata": {},
   "source": [
    "<h4>You can use functions to group data</h4>"
   ]
  },
  {
   "cell_type": "code",
   "execution_count": 31,
   "metadata": {},
   "outputs": [],
   "source": [
    "import pandas as pd\n",
    "writers = pd.DataFrame({'Author':['George Orwell','John Steinbeck',\n",
    "                                  'Pearl Buck','Agatha Christie'],\n",
    "                        'Country':['UK','USA','USA','UK'],\n",
    "                        'Gender':['M','M','F','F'],\n",
    "                        'Age':[46,66,80,85]})\n",
    "                        \n"
   ]
  },
  {
   "cell_type": "code",
   "execution_count": 32,
   "metadata": {},
   "outputs": [
    {
     "data": {
      "text/html": [
       "<div>\n",
       "<style scoped>\n",
       "    .dataframe tbody tr th:only-of-type {\n",
       "        vertical-align: middle;\n",
       "    }\n",
       "\n",
       "    .dataframe tbody tr th {\n",
       "        vertical-align: top;\n",
       "    }\n",
       "\n",
       "    .dataframe thead th {\n",
       "        text-align: right;\n",
       "    }\n",
       "</style>\n",
       "<table border=\"1\" class=\"dataframe\">\n",
       "  <thead>\n",
       "    <tr style=\"text-align: right;\">\n",
       "      <th></th>\n",
       "      <th>Author</th>\n",
       "      <th>Country</th>\n",
       "      <th>Gender</th>\n",
       "      <th>Age</th>\n",
       "    </tr>\n",
       "  </thead>\n",
       "  <tbody>\n",
       "    <tr>\n",
       "      <th>0</th>\n",
       "      <td>George Orwell</td>\n",
       "      <td>UK</td>\n",
       "      <td>M</td>\n",
       "      <td>46</td>\n",
       "    </tr>\n",
       "    <tr>\n",
       "      <th>1</th>\n",
       "      <td>John Steinbeck</td>\n",
       "      <td>USA</td>\n",
       "      <td>M</td>\n",
       "      <td>66</td>\n",
       "    </tr>\n",
       "    <tr>\n",
       "      <th>2</th>\n",
       "      <td>Pearl Buck</td>\n",
       "      <td>USA</td>\n",
       "      <td>F</td>\n",
       "      <td>80</td>\n",
       "    </tr>\n",
       "    <tr>\n",
       "      <th>3</th>\n",
       "      <td>Agatha Christie</td>\n",
       "      <td>UK</td>\n",
       "      <td>F</td>\n",
       "      <td>85</td>\n",
       "    </tr>\n",
       "  </tbody>\n",
       "</table>\n",
       "</div>"
      ],
      "text/plain": [
       "            Author Country Gender  Age\n",
       "0    George Orwell      UK      M   46\n",
       "1   John Steinbeck     USA      M   66\n",
       "2       Pearl Buck     USA      F   80\n",
       "3  Agatha Christie      UK      F   85"
      ]
     },
     "execution_count": 32,
     "metadata": {},
     "output_type": "execute_result"
    }
   ],
   "source": [
    "writers"
   ]
  },
  {
   "cell_type": "markdown",
   "metadata": {},
   "source": [
    "<h4>Group by country</h4>"
   ]
  },
  {
   "cell_type": "code",
   "execution_count": 43,
   "metadata": {},
   "outputs": [
    {
     "data": {
      "text/html": [
       "<div>\n",
       "<style scoped>\n",
       "    .dataframe tbody tr th:only-of-type {\n",
       "        vertical-align: middle;\n",
       "    }\n",
       "\n",
       "    .dataframe tbody tr th {\n",
       "        vertical-align: top;\n",
       "    }\n",
       "\n",
       "    .dataframe thead th {\n",
       "        text-align: right;\n",
       "    }\n",
       "</style>\n",
       "<table border=\"1\" class=\"dataframe\">\n",
       "  <thead>\n",
       "    <tr style=\"text-align: right;\">\n",
       "      <th></th>\n",
       "      <th>Author</th>\n",
       "      <th>Country</th>\n",
       "      <th>Gender</th>\n",
       "      <th>Age</th>\n",
       "    </tr>\n",
       "    <tr>\n",
       "      <th>Country</th>\n",
       "      <th></th>\n",
       "      <th></th>\n",
       "      <th></th>\n",
       "      <th></th>\n",
       "    </tr>\n",
       "  </thead>\n",
       "  <tbody>\n",
       "    <tr>\n",
       "      <th>UK</th>\n",
       "      <td>George OrwellAgatha Christie</td>\n",
       "      <td>UKUK</td>\n",
       "      <td>MF</td>\n",
       "      <td>131</td>\n",
       "    </tr>\n",
       "    <tr>\n",
       "      <th>USA</th>\n",
       "      <td>John SteinbeckPearl Buck</td>\n",
       "      <td>USAUSA</td>\n",
       "      <td>MF</td>\n",
       "      <td>146</td>\n",
       "    </tr>\n",
       "  </tbody>\n",
       "</table>\n",
       "</div>"
      ],
      "text/plain": [
       "                               Author Country Gender  Age\n",
       "Country                                                  \n",
       "UK       George OrwellAgatha Christie    UKUK     MF  131\n",
       "USA          John SteinbeckPearl Buck  USAUSA     MF  146"
      ]
     },
     "execution_count": 43,
     "metadata": {},
     "output_type": "execute_result"
    }
   ],
   "source": [
    "grouped = writers.groupby('Country')\n",
    "\n",
    "#grouped.first()\n",
    "#grouped.last()\n",
    "#grouped.sum()\n",
    "#grouped.mean()\n",
    "grouped.apply(sum)"
   ]
  },
  {
   "cell_type": "code",
   "execution_count": 44,
   "metadata": {},
   "outputs": [
    {
     "data": {
      "text/plain": [
       "{'UK': [0, 3], 'USA': [1, 2]}"
      ]
     },
     "execution_count": 44,
     "metadata": {},
     "output_type": "execute_result"
    }
   ],
   "source": [
    "grouped.groups"
   ]
  },
  {
   "cell_type": "markdown",
   "metadata": {},
   "source": [
    "<h4>Group by multiple columns</h4>"
   ]
  },
  {
   "cell_type": "code",
   "execution_count": 45,
   "metadata": {},
   "outputs": [
    {
     "data": {
      "text/plain": [
       "{('UK', 'F'): [3], ('UK', 'M'): [0], ('USA', 'F'): [2], ('USA', 'M'): [1]}"
      ]
     },
     "execution_count": 45,
     "metadata": {},
     "output_type": "execute_result"
    }
   ],
   "source": [
    "grouped = writers.groupby(['Country','Gender'])\n",
    "grouped.groups"
   ]
  },
  {
   "cell_type": "markdown",
   "metadata": {},
   "source": [
    "<h4>Group by age groups</h4>"
   ]
  },
  {
   "cell_type": "code",
   "execution_count": 48,
   "metadata": {},
   "outputs": [],
   "source": [
    "def age_groups(df,index,col):\n",
    "    print(index,col)\n",
    "    if df[col].iloc[index] < 30:\n",
    "        return 'Young'\n",
    "    if df[col].iloc[index] < 60:\n",
    "        return 'Middle'\n",
    "    else:\n",
    "        return 'Old'"
   ]
  },
  {
   "cell_type": "code",
   "execution_count": 49,
   "metadata": {},
   "outputs": [
    {
     "data": {
      "text/plain": [
       "46"
      ]
     },
     "execution_count": 49,
     "metadata": {},
     "output_type": "execute_result"
    }
   ],
   "source": [
    "writers['Age'].iloc[0]"
   ]
  },
  {
   "cell_type": "code",
   "execution_count": 50,
   "metadata": {},
   "outputs": [
    {
     "name": "stdout",
     "output_type": "stream",
     "text": [
      "0 Age\n",
      "1 Age\n",
      "2 Age\n",
      "3 Age\n"
     ]
    },
    {
     "data": {
      "text/plain": [
       "{'Middle': [0], 'Old': [1, 2, 3]}"
      ]
     },
     "execution_count": 50,
     "metadata": {},
     "output_type": "execute_result"
    }
   ],
   "source": [
    "grouped = writers.groupby(lambda x: age_groups(writers,x,'Age'))\n",
    "grouped.groups"
   ]
  },
  {
   "cell_type": "markdown",
   "metadata": {},
   "source": [
    "<h2>Grouping by the values in a column</h2>\n",
    "<h3>For example, grouping the data by values in a column that are greater than or less than zero</h3>"
   ]
  },
  {
   "cell_type": "code",
   "execution_count": 53,
   "metadata": {},
   "outputs": [
    {
     "data": {
      "text/html": [
       "<div>\n",
       "<style scoped>\n",
       "    .dataframe tbody tr th:only-of-type {\n",
       "        vertical-align: middle;\n",
       "    }\n",
       "\n",
       "    .dataframe tbody tr th {\n",
       "        vertical-align: top;\n",
       "    }\n",
       "\n",
       "    .dataframe thead th {\n",
       "        text-align: right;\n",
       "    }\n",
       "</style>\n",
       "<table border=\"1\" class=\"dataframe\">\n",
       "  <thead>\n",
       "    <tr style=\"text-align: right;\">\n",
       "      <th></th>\n",
       "      <th>a</th>\n",
       "      <th>b</th>\n",
       "      <th>c</th>\n",
       "      <th>d</th>\n",
       "      <th>e</th>\n",
       "    </tr>\n",
       "  </thead>\n",
       "  <tbody>\n",
       "    <tr>\n",
       "      <th>Joe</th>\n",
       "      <td>-1.586273</td>\n",
       "      <td>-0.172298</td>\n",
       "      <td>-0.465486</td>\n",
       "      <td>0.105829</td>\n",
       "      <td>0.204000</td>\n",
       "    </tr>\n",
       "    <tr>\n",
       "      <th>Steve</th>\n",
       "      <td>-0.711402</td>\n",
       "      <td>1.680220</td>\n",
       "      <td>0.080986</td>\n",
       "      <td>0.133823</td>\n",
       "      <td>-0.126522</td>\n",
       "    </tr>\n",
       "    <tr>\n",
       "      <th>Wes</th>\n",
       "      <td>0.838191</td>\n",
       "      <td>0.320905</td>\n",
       "      <td>1.284523</td>\n",
       "      <td>-0.155711</td>\n",
       "      <td>0.821298</td>\n",
       "    </tr>\n",
       "    <tr>\n",
       "      <th>Jim</th>\n",
       "      <td>-1.795774</td>\n",
       "      <td>-0.172578</td>\n",
       "      <td>-1.569371</td>\n",
       "      <td>-0.133722</td>\n",
       "      <td>-0.139873</td>\n",
       "    </tr>\n",
       "    <tr>\n",
       "      <th>Travis</th>\n",
       "      <td>0.011140</td>\n",
       "      <td>-1.437825</td>\n",
       "      <td>1.093910</td>\n",
       "      <td>-1.500327</td>\n",
       "      <td>-1.783957</td>\n",
       "    </tr>\n",
       "  </tbody>\n",
       "</table>\n",
       "</div>"
      ],
      "text/plain": [
       "               a         b         c         d         e\n",
       "Joe    -1.586273 -0.172298 -0.465486  0.105829  0.204000\n",
       "Steve  -0.711402  1.680220  0.080986  0.133823 -0.126522\n",
       "Wes     0.838191  0.320905  1.284523 -0.155711  0.821298\n",
       "Jim    -1.795774 -0.172578 -1.569371 -0.133722 -0.139873\n",
       "Travis  0.011140 -1.437825  1.093910 -1.500327 -1.783957"
      ]
     },
     "execution_count": 53,
     "metadata": {},
     "output_type": "execute_result"
    }
   ],
   "source": [
    "import numpy as np\n",
    "people = pd.DataFrame(np.random.randn(5, 5), columns=['a', 'b', 'c', 'd', 'e'], index=['Joe', 'Steve', 'Wes', 'Jim', 'Travis'])\n",
    "people"
   ]
  },
  {
   "cell_type": "markdown",
   "metadata": {},
   "source": [
    "<h3>Write a function that takes three arguments - a dataframe, an index, and a column name and returns the grouping for that row</h3>"
   ]
  },
  {
   "cell_type": "code",
   "execution_count": 54,
   "metadata": {},
   "outputs": [],
   "source": [
    "def GroupColFunc(df, ind, col):\n",
    "    if df[col].loc[ind] > 0:\n",
    "        return 'Group1'\n",
    "    else:\n",
    "        return 'Group2'"
   ]
  },
  {
   "cell_type": "code",
   "execution_count": 55,
   "metadata": {},
   "outputs": [
    {
     "data": {
      "text/plain": [
       "{'Group1': ['Wes', 'Travis'], 'Group2': ['Joe', 'Steve', 'Jim']}"
      ]
     },
     "execution_count": 55,
     "metadata": {},
     "output_type": "execute_result"
    }
   ],
   "source": [
    "people.groupby(lambda x: GroupColFunc(people, x, 'a')).groups"
   ]
  },
  {
   "cell_type": "markdown",
   "metadata": {},
   "source": [
    "<h2>Now we can compute stats on these groups</h2>"
   ]
  },
  {
   "cell_type": "code",
   "execution_count": 56,
   "metadata": {},
   "outputs": [
    {
     "name": "stdout",
     "output_type": "stream",
     "text": [
      "               a         b         c         d         e\n",
      "Group1  0.424665 -0.558460  1.189217 -0.828019 -0.481329\n",
      "Group2 -1.364483  0.445114 -0.651290  0.035310 -0.020799\n",
      "               a         b         c         d         e\n",
      "Group1  0.584813  1.243610  0.134784  0.950787  1.842194\n",
      "Group2  0.575203  1.069633  0.840721  0.147053  0.194796\n"
     ]
    }
   ],
   "source": [
    "print(people.groupby(lambda x: GroupColFunc(people, x, 'a')).mean())\n",
    "print(people.groupby(lambda x: GroupColFunc(people, x, 'a')).std())"
   ]
  },
  {
   "cell_type": "markdown",
   "metadata": {},
   "source": [
    "<h1>Incidents by time</h1>\n",
    "<p>We know the creation date of each incident so we can build a bar graph of number of incidents by month\n",
    "<p>Not particularly useful with a few months data but if we had all data from 2010, we could use this sort of\n",
    "analysis to eyeball trends and seasonality\n",
    "<p>We're going to need to do some data manipulation for this"
   ]
  },
  {
   "cell_type": "markdown",
   "metadata": {},
   "source": [
    "<h3>We'll start by creating a new date field yyyymm"
   ]
  },
  {
   "cell_type": "code",
   "execution_count": 4,
   "metadata": {},
   "outputs": [],
   "source": [
    "import datetime\n",
    "data['yyyymm'] = data['Created Date'].apply(lambda x:datetime.datetime.strftime(x,'%Y%m'))"
   ]
  },
  {
   "cell_type": "code",
   "execution_count": 5,
   "metadata": {},
   "outputs": [
    {
     "data": {
      "text/plain": [
       "10        201609\n",
       "11        201609\n",
       "12        201609\n",
       "13        201609\n",
       "14        201609\n",
       "           ...  \n",
       "971058    201609\n",
       "971059    201609\n",
       "971060    201609\n",
       "971061    201609\n",
       "971062    201609\n",
       "Name: yyyymm, Length: 799323, dtype: object"
      ]
     },
     "execution_count": 5,
     "metadata": {},
     "output_type": "execute_result"
    }
   ],
   "source": [
    "data['yyyymm']"
   ]
  },
  {
   "cell_type": "code",
   "execution_count": 7,
   "metadata": {},
   "outputs": [],
   "source": [
    "%matplotlib inline"
   ]
  },
  {
   "cell_type": "code",
   "execution_count": 8,
   "metadata": {},
   "outputs": [
    {
     "data": {
      "text/plain": [
       "<matplotlib.axes._subplots.AxesSubplot at 0x1983b39b188>"
      ]
     },
     "execution_count": 8,
     "metadata": {},
     "output_type": "execute_result"
    },
    {
     "data": {
      "image/png": "[encoded data removed]",
      "text/plain": [
       "<Figure size 1080x432 with 1 Axes>"
      ]
     },
     "metadata": {
      "needs_background": "light"
     },
     "output_type": "display_data"
    }
   ],
   "source": [
    "date_agency = data.groupby(['yyyymm','Agency'])\n",
    "date_agency.size().unstack().plot(kind='bar',figsize=(15,6))"
   ]
  },
  {
   "cell_type": "markdown",
   "metadata": {},
   "source": [
    "<h1>Examining agencies</h1>"
   ]
  },
  {
   "cell_type": "markdown",
   "metadata": {},
   "source": [
    "<h2>We'll look at the frequency by agency and report the top 5 values</h2>"
   ]
  },
  {
   "cell_type": "code",
   "execution_count": 9,
   "metadata": {},
   "outputs": [
    {
     "data": {
      "text/plain": [
       "Agency\n",
       "NYPD     273683\n",
       "HPD      244815\n",
       "DOT       66178\n",
       "DSNY      63321\n",
       "DEP       60346\n",
       "DOB       34821\n",
       "DHS       15083\n",
       "DOHMH     14188\n",
       "DPR       10830\n",
       "TLC        7129\n",
       "DCA        5760\n",
       "FDNY       1676\n",
       "DOF         579\n",
       "DOE         454\n",
       "DOITT       134\n",
       "EDC         123\n",
       "3-1-1       102\n",
       "DFTA        101\n",
       "dtype: int64"
      ]
     },
     "execution_count": 9,
     "metadata": {},
     "output_type": "execute_result"
    }
   ],
   "source": [
    "data.groupby('Agency').size().sort_values(ascending=False)"
   ]
  },
  {
   "cell_type": "code",
   "execution_count": 13,
   "metadata": {},
   "outputs": [
    {
     "data": {
      "text/plain": [
       "<matplotlib.axes._subplots.AxesSubplot at 0x1983bd91f48>"
      ]
     },
     "execution_count": 13,
     "metadata": {},
     "output_type": "execute_result"
    },
    {
     "data": {
      "image/png": "[encoded data removed]",
      "text/plain": [
       "<Figure size 1440x288 with 1 Axes>"
      ]
     },
     "metadata": {
      "needs_background": "light"
     },
     "output_type": "display_data"
    }
   ],
   "source": [
    "data.groupby('Agency').size().sort_values(ascending=False).plot(kind='barh', figsize=(20,4))"
   ]
  },
  {
   "cell_type": "markdown",
   "metadata": {},
   "source": [
    "<h3>We can drill down into complaints by Agency by borough</h3>"
   ]
  },
  {
   "cell_type": "code",
   "execution_count": 11,
   "metadata": {},
   "outputs": [],
   "source": [
    "agency_borough = data.groupby(['Agency', 'Borough']).size().unstack()"
   ]
  },
  {
   "cell_type": "code",
   "execution_count": 12,
   "metadata": {},
   "outputs": [
    {
     "data": {
      "text/html": [
       "<div>\n",
       "<style scoped>\n",
       "    .dataframe tbody tr th:only-of-type {\n",
       "        vertical-align: middle;\n",
       "    }\n",
       "\n",
       "    .dataframe tbody tr th {\n",
       "        vertical-align: top;\n",
       "    }\n",
       "\n",
       "    .dataframe thead th {\n",
       "        text-align: right;\n",
       "    }\n",
       "</style>\n",
       "<table border=\"1\" class=\"dataframe\">\n",
       "  <thead>\n",
       "    <tr style=\"text-align: right;\">\n",
       "      <th>Borough</th>\n",
       "      <th>BRONX</th>\n",
       "      <th>BROOKLYN</th>\n",
       "      <th>MANHATTAN</th>\n",
       "      <th>QUEENS</th>\n",
       "      <th>STATEN ISLAND</th>\n",
       "    </tr>\n",
       "    <tr>\n",
       "      <th>Agency</th>\n",
       "      <th></th>\n",
       "      <th></th>\n",
       "      <th></th>\n",
       "      <th></th>\n",
       "      <th></th>\n",
       "    </tr>\n",
       "  </thead>\n",
       "  <tbody>\n",
       "    <tr>\n",
       "      <th>3-1-1</th>\n",
       "      <td>17.0</td>\n",
       "      <td>28.0</td>\n",
       "      <td>23.0</td>\n",
       "      <td>28.0</td>\n",
       "      <td>6.0</td>\n",
       "    </tr>\n",
       "    <tr>\n",
       "      <th>DCA</th>\n",
       "      <td>958.0</td>\n",
       "      <td>1532.0</td>\n",
       "      <td>1529.0</td>\n",
       "      <td>1547.0</td>\n",
       "      <td>194.0</td>\n",
       "    </tr>\n",
       "    <tr>\n",
       "      <th>DEP</th>\n",
       "      <td>5837.0</td>\n",
       "      <td>17917.0</td>\n",
       "      <td>17315.0</td>\n",
       "      <td>15216.0</td>\n",
       "      <td>4061.0</td>\n",
       "    </tr>\n",
       "    <tr>\n",
       "      <th>DFTA</th>\n",
       "      <td>21.0</td>\n",
       "      <td>33.0</td>\n",
       "      <td>24.0</td>\n",
       "      <td>21.0</td>\n",
       "      <td>2.0</td>\n",
       "    </tr>\n",
       "    <tr>\n",
       "      <th>DHS</th>\n",
       "      <td>397.0</td>\n",
       "      <td>1130.0</td>\n",
       "      <td>12767.0</td>\n",
       "      <td>734.0</td>\n",
       "      <td>55.0</td>\n",
       "    </tr>\n",
       "    <tr>\n",
       "      <th>DOB</th>\n",
       "      <td>5160.0</td>\n",
       "      <td>10993.0</td>\n",
       "      <td>6507.0</td>\n",
       "      <td>10567.0</td>\n",
       "      <td>1594.0</td>\n",
       "    </tr>\n",
       "    <tr>\n",
       "      <th>DOE</th>\n",
       "      <td>129.0</td>\n",
       "      <td>127.0</td>\n",
       "      <td>49.0</td>\n",
       "      <td>136.0</td>\n",
       "      <td>13.0</td>\n",
       "    </tr>\n",
       "    <tr>\n",
       "      <th>DOF</th>\n",
       "      <td>143.0</td>\n",
       "      <td>161.0</td>\n",
       "      <td>153.0</td>\n",
       "      <td>112.0</td>\n",
       "      <td>10.0</td>\n",
       "    </tr>\n",
       "    <tr>\n",
       "      <th>DOHMH</th>\n",
       "      <td>2406.0</td>\n",
       "      <td>4481.0</td>\n",
       "      <td>3759.0</td>\n",
       "      <td>2814.0</td>\n",
       "      <td>728.0</td>\n",
       "    </tr>\n",
       "    <tr>\n",
       "      <th>DOITT</th>\n",
       "      <td>7.0</td>\n",
       "      <td>18.0</td>\n",
       "      <td>91.0</td>\n",
       "      <td>18.0</td>\n",
       "      <td>NaN</td>\n",
       "    </tr>\n",
       "    <tr>\n",
       "      <th>DOT</th>\n",
       "      <td>8682.0</td>\n",
       "      <td>19176.0</td>\n",
       "      <td>9673.0</td>\n",
       "      <td>22096.0</td>\n",
       "      <td>6551.0</td>\n",
       "    </tr>\n",
       "    <tr>\n",
       "      <th>DPR</th>\n",
       "      <td>1416.0</td>\n",
       "      <td>2929.0</td>\n",
       "      <td>1103.0</td>\n",
       "      <td>3897.0</td>\n",
       "      <td>1485.0</td>\n",
       "    </tr>\n",
       "    <tr>\n",
       "      <th>DSNY</th>\n",
       "      <td>6406.0</td>\n",
       "      <td>22208.0</td>\n",
       "      <td>6079.0</td>\n",
       "      <td>18125.0</td>\n",
       "      <td>10503.0</td>\n",
       "    </tr>\n",
       "    <tr>\n",
       "      <th>EDC</th>\n",
       "      <td>1.0</td>\n",
       "      <td>62.0</td>\n",
       "      <td>41.0</td>\n",
       "      <td>15.0</td>\n",
       "      <td>4.0</td>\n",
       "    </tr>\n",
       "    <tr>\n",
       "      <th>FDNY</th>\n",
       "      <td>39.0</td>\n",
       "      <td>127.0</td>\n",
       "      <td>1344.0</td>\n",
       "      <td>158.0</td>\n",
       "      <td>8.0</td>\n",
       "    </tr>\n",
       "    <tr>\n",
       "      <th>HPD</th>\n",
       "      <td>77774.0</td>\n",
       "      <td>81382.0</td>\n",
       "      <td>51017.0</td>\n",
       "      <td>31080.0</td>\n",
       "      <td>3562.0</td>\n",
       "    </tr>\n",
       "    <tr>\n",
       "      <th>NYPD</th>\n",
       "      <td>48837.0</td>\n",
       "      <td>88973.0</td>\n",
       "      <td>55841.0</td>\n",
       "      <td>69931.0</td>\n",
       "      <td>10101.0</td>\n",
       "    </tr>\n",
       "    <tr>\n",
       "      <th>TLC</th>\n",
       "      <td>318.0</td>\n",
       "      <td>1238.0</td>\n",
       "      <td>4393.0</td>\n",
       "      <td>1146.0</td>\n",
       "      <td>34.0</td>\n",
       "    </tr>\n",
       "  </tbody>\n",
       "</table>\n",
       "</div>"
      ],
      "text/plain": [
       "Borough    BRONX  BROOKLYN  MANHATTAN   QUEENS  STATEN ISLAND\n",
       "Agency                                                       \n",
       "3-1-1       17.0      28.0       23.0     28.0            6.0\n",
       "DCA        958.0    1532.0     1529.0   1547.0          194.0\n",
       "DEP       5837.0   17917.0    17315.0  15216.0         4061.0\n",
       "DFTA        21.0      33.0       24.0     21.0            2.0\n",
       "DHS        397.0    1130.0    12767.0    734.0           55.0\n",
       "DOB       5160.0   10993.0     6507.0  10567.0         1594.0\n",
       "DOE        129.0     127.0       49.0    136.0           13.0\n",
       "DOF        143.0     161.0      153.0    112.0           10.0\n",
       "DOHMH     2406.0    4481.0     3759.0   2814.0          728.0\n",
       "DOITT        7.0      18.0       91.0     18.0            NaN\n",
       "DOT       8682.0   19176.0     9673.0  22096.0         6551.0\n",
       "DPR       1416.0    2929.0     1103.0   3897.0         1485.0\n",
       "DSNY      6406.0   22208.0     6079.0  18125.0        10503.0\n",
       "EDC          1.0      62.0       41.0     15.0            4.0\n",
       "FDNY        39.0     127.0     1344.0    158.0            8.0\n",
       "HPD      77774.0   81382.0    51017.0  31080.0         3562.0\n",
       "NYPD     48837.0   88973.0    55841.0  69931.0        10101.0\n",
       "TLC        318.0    1238.0     4393.0   1146.0           34.0"
      ]
     },
     "execution_count": 12,
     "metadata": {},
     "output_type": "execute_result"
    }
   ],
   "source": [
    "agency_borough"
   ]
  },
  {
   "cell_type": "markdown",
   "metadata": {},
   "source": [
    "<h3>We can create 'top 5 Agency' subplots subplots for each borough</h3>"
   ]
  },
  {
   "cell_type": "code",
   "execution_count": 16,
   "metadata": {},
   "outputs": [
    {
     "data": {
      "image/png": "[encoded data removed]",
      "text/plain": [
       "<Figure size 864x864 with 6 Axes>"
      ]
     },
     "metadata": {
      "needs_background": "light"
     },
     "output_type": "display_data"
    }
   ],
   "source": [
    "#We'll arrange the subplots in two rows and three columns. \n",
    "#Since we have only 5 boroughs, one plot will be blank\n",
    "COL_NUM = 2\n",
    "ROW_NUM = 3\n",
    "import matplotlib.pyplot as plt\n",
    "fig, axes = plt.subplots(ROW_NUM, COL_NUM, figsize=(12,12))\n",
    "\n",
    "for i, (label, col) in enumerate(agency_borough.iteritems()): \n",
    "    ax = axes[int(i/COL_NUM), i%COL_NUM]\n",
    "    col = col.sort_values(ascending=False)[:5] \n",
    "    col.plot(kind='barh', ax=ax)\n",
    "    ax.set_title(label)\n",
    "\n",
    "plt.tight_layout() "
   ]
  },
  {
   "cell_type": "code",
   "execution_count": 20,
   "metadata": {},
   "outputs": [
    {
     "name": "stdout",
     "output_type": "stream",
     "text": [
      "0 BRONX Agency\n",
      "3-1-1       17.0\n",
      "DCA        958.0\n",
      "DEP       5837.0\n",
      "DFTA        21.0\n",
      "DHS        397.0\n",
      "DOB       5160.0\n",
      "DOE        129.0\n",
      "DOF        143.0\n",
      "DOHMH     2406.0\n",
      "DOITT        7.0\n",
      "DOT       8682.0\n",
      "DPR       1416.0\n",
      "DSNY      6406.0\n",
      "EDC          1.0\n",
      "FDNY        39.0\n",
      "HPD      77774.0\n",
      "NYPD     48837.0\n",
      "TLC        318.0\n",
      "Name: BRONX, dtype: float64\n",
      "1 BROOKLYN Agency\n",
      "3-1-1       28.0\n",
      "DCA       1532.0\n",
      "DEP      17917.0\n",
      "DFTA        33.0\n",
      "DHS       1130.0\n",
      "DOB      10993.0\n",
      "DOE        127.0\n",
      "DOF        161.0\n",
      "DOHMH     4481.0\n",
      "DOITT       18.0\n",
      "DOT      19176.0\n",
      "DPR       2929.0\n",
      "DSNY     22208.0\n",
      "EDC         62.0\n",
      "FDNY       127.0\n",
      "HPD      81382.0\n",
      "NYPD     88973.0\n",
      "TLC       1238.0\n",
      "Name: BROOKLYN, dtype: float64\n",
      "2 MANHATTAN Agency\n",
      "3-1-1       23.0\n",
      "DCA       1529.0\n",
      "DEP      17315.0\n",
      "DFTA        24.0\n",
      "DHS      12767.0\n",
      "DOB       6507.0\n",
      "DOE         49.0\n",
      "DOF        153.0\n",
      "DOHMH     3759.0\n",
      "DOITT       91.0\n",
      "DOT       9673.0\n",
      "DPR       1103.0\n",
      "DSNY      6079.0\n",
      "EDC         41.0\n",
      "FDNY      1344.0\n",
      "HPD      51017.0\n",
      "NYPD     55841.0\n",
      "TLC       4393.0\n",
      "Name: MANHATTAN, dtype: float64\n",
      "3 QUEENS Agency\n",
      "3-1-1       28.0\n",
      "DCA       1547.0\n",
      "DEP      15216.0\n",
      "DFTA        21.0\n",
      "DHS        734.0\n",
      "DOB      10567.0\n",
      "DOE        136.0\n",
      "DOF        112.0\n",
      "DOHMH     2814.0\n",
      "DOITT       18.0\n",
      "DOT      22096.0\n",
      "DPR       3897.0\n",
      "DSNY     18125.0\n",
      "EDC         15.0\n",
      "FDNY       158.0\n",
      "HPD      31080.0\n",
      "NYPD     69931.0\n",
      "TLC       1146.0\n",
      "Name: QUEENS, dtype: float64\n",
      "4 STATEN ISLAND Agency\n",
      "3-1-1        6.0\n",
      "DCA        194.0\n",
      "DEP       4061.0\n",
      "DFTA         2.0\n",
      "DHS         55.0\n",
      "DOB       1594.0\n",
      "DOE         13.0\n",
      "DOF         10.0\n",
      "DOHMH      728.0\n",
      "DOITT        NaN\n",
      "DOT       6551.0\n",
      "DPR       1485.0\n",
      "DSNY     10503.0\n",
      "EDC          4.0\n",
      "FDNY         8.0\n",
      "HPD       3562.0\n",
      "NYPD     10101.0\n",
      "TLC         34.0\n",
      "Name: STATEN ISLAND, dtype: float64\n"
     ]
    }
   ],
   "source": [
    "for i, (label, col) in enumerate(agency_borough.iteritems()): \n",
    "    print(i,label,col)"
   ]
  },
  {
   "cell_type": "markdown",
   "metadata": {},
   "source": [
    "<h1>Processing time</h1>\n",
    "<h2>We can compute simple statistics on processing time</h2>"
   ]
  },
  {
   "cell_type": "code",
   "execution_count": 17,
   "metadata": {},
   "outputs": [],
   "source": [
    "grouped = data[['processing_time','Borough']].groupby('Borough')"
   ]
  },
  {
   "cell_type": "code",
   "execution_count": 18,
   "metadata": {},
   "outputs": [
    {
     "data": {
      "text/html": [
       "<div>\n",
       "<style scoped>\n",
       "    .dataframe tbody tr th:only-of-type {\n",
       "        vertical-align: middle;\n",
       "    }\n",
       "\n",
       "    .dataframe tbody tr th {\n",
       "        vertical-align: top;\n",
       "    }\n",
       "\n",
       "    .dataframe thead tr th {\n",
       "        text-align: left;\n",
       "    }\n",
       "\n",
       "    .dataframe thead tr:last-of-type th {\n",
       "        text-align: right;\n",
       "    }\n",
       "</style>\n",
       "<table border=\"1\" class=\"dataframe\">\n",
       "  <thead>\n",
       "    <tr>\n",
       "      <th></th>\n",
       "      <th colspan=\"8\" halign=\"left\">processing_time</th>\n",
       "    </tr>\n",
       "    <tr>\n",
       "      <th></th>\n",
       "      <th>count</th>\n",
       "      <th>mean</th>\n",
       "      <th>std</th>\n",
       "      <th>min</th>\n",
       "      <th>25%</th>\n",
       "      <th>50%</th>\n",
       "      <th>75%</th>\n",
       "      <th>max</th>\n",
       "    </tr>\n",
       "    <tr>\n",
       "      <th>Borough</th>\n",
       "      <th></th>\n",
       "      <th></th>\n",
       "      <th></th>\n",
       "      <th></th>\n",
       "      <th></th>\n",
       "      <th></th>\n",
       "      <th></th>\n",
       "      <th></th>\n",
       "    </tr>\n",
       "  </thead>\n",
       "  <tbody>\n",
       "    <tr>\n",
       "      <th>BRONX</th>\n",
       "      <td>158548</td>\n",
       "      <td>5 days 11:22:39.529133133</td>\n",
       "      <td>10 days 19:29:45.763262275</td>\n",
       "      <td>0 days</td>\n",
       "      <td>0 days 05:48:38.250000</td>\n",
       "      <td>1 days 21:27:00</td>\n",
       "      <td>5 days 19:48:12.750000</td>\n",
       "      <td>145 days 00:23:57</td>\n",
       "    </tr>\n",
       "    <tr>\n",
       "      <th>BROOKLYN</th>\n",
       "      <td>252515</td>\n",
       "      <td>5 days 01:22:08.762913094</td>\n",
       "      <td>11 days 20:44:39.914032332</td>\n",
       "      <td>0 days</td>\n",
       "      <td>0 days 02:33:20.500000</td>\n",
       "      <td>0 days 20:19:00</td>\n",
       "      <td>4 days 05:20:01</td>\n",
       "      <td>146 days 17:26:50</td>\n",
       "    </tr>\n",
       "    <tr>\n",
       "      <th>MANHATTAN</th>\n",
       "      <td>171708</td>\n",
       "      <td>5 days 07:43:58.957480140</td>\n",
       "      <td>12 days 01:57:03.858305020</td>\n",
       "      <td>0 days</td>\n",
       "      <td>0 days 02:03:43</td>\n",
       "      <td>0 days 22:13:02.500000</td>\n",
       "      <td>4 days 11:06:08.500000</td>\n",
       "      <td>139 days 22:41:59</td>\n",
       "    </tr>\n",
       "    <tr>\n",
       "      <th>QUEENS</th>\n",
       "      <td>177641</td>\n",
       "      <td>4 days 22:17:46.753142574</td>\n",
       "      <td>13 days 02:00:32.516708357</td>\n",
       "      <td>0 days</td>\n",
       "      <td>0 days 02:07:59</td>\n",
       "      <td>0 days 10:15:11</td>\n",
       "      <td>3 days 20:47:00</td>\n",
       "      <td>148 days 13:10:54</td>\n",
       "    </tr>\n",
       "    <tr>\n",
       "      <th>STATEN ISLAND</th>\n",
       "      <td>38911</td>\n",
       "      <td>5 days 00:57:16.541826218</td>\n",
       "      <td>12 days 00:18:49.372858600</td>\n",
       "      <td>0 days</td>\n",
       "      <td>0 days 02:54:00</td>\n",
       "      <td>0 days 22:11:06</td>\n",
       "      <td>4 days 15:24:28</td>\n",
       "      <td>139 days 22:06:35</td>\n",
       "    </tr>\n",
       "  </tbody>\n",
       "</table>\n",
       "</div>"
      ],
      "text/plain": [
       "              processing_time                            \\\n",
       "                        count                      mean   \n",
       "Borough                                                   \n",
       "BRONX                  158548 5 days 11:22:39.529133133   \n",
       "BROOKLYN               252515 5 days 01:22:08.762913094   \n",
       "MANHATTAN              171708 5 days 07:43:58.957480140   \n",
       "QUEENS                 177641 4 days 22:17:46.753142574   \n",
       "STATEN ISLAND           38911 5 days 00:57:16.541826218   \n",
       "\n",
       "                                                                        \\\n",
       "                                     std    min                    25%   \n",
       "Borough                                                                  \n",
       "BRONX         10 days 19:29:45.763262275 0 days 0 days 05:48:38.250000   \n",
       "BROOKLYN      11 days 20:44:39.914032332 0 days 0 days 02:33:20.500000   \n",
       "MANHATTAN     12 days 01:57:03.858305020 0 days        0 days 02:03:43   \n",
       "QUEENS        13 days 02:00:32.516708357 0 days        0 days 02:07:59   \n",
       "STATEN ISLAND 12 days 00:18:49.372858600 0 days        0 days 02:54:00   \n",
       "\n",
       "                                                                               \n",
       "                                 50%                    75%               max  \n",
       "Borough                                                                        \n",
       "BRONX                1 days 21:27:00 5 days 19:48:12.750000 145 days 00:23:57  \n",
       "BROOKLYN             0 days 20:19:00        4 days 05:20:01 146 days 17:26:50  \n",
       "MANHATTAN     0 days 22:13:02.500000 4 days 11:06:08.500000 139 days 22:41:59  \n",
       "QUEENS               0 days 10:15:11        3 days 20:47:00 148 days 13:10:54  \n",
       "STATEN ISLAND        0 days 22:11:06        4 days 15:24:28 139 days 22:06:35  "
      ]
     },
     "execution_count": 18,
     "metadata": {},
     "output_type": "execute_result"
    }
   ],
   "source": [
    "grouped.describe()"
   ]
  },
  {
   "cell_type": "markdown",
   "metadata": {},
   "source": [
    "<h3>But it is easier to convert the timedelta processing_time into floats for calculation purposes</h3>"
   ]
  },
  {
   "cell_type": "code",
   "execution_count": 19,
   "metadata": {},
   "outputs": [],
   "source": [
    "import numpy as np\n",
    "#The time it takes to process. Cleaned up\n",
    "data['float_time'] =data['processing_time'].apply(lambda x:x/np.timedelta64(1, 'D'))"
   ]
  },
  {
   "cell_type": "code",
   "execution_count": 20,
   "metadata": {},
   "outputs": [
    {
     "data": {
      "text/html": [
       "<div>\n",
       "<style scoped>\n",
       "    .dataframe tbody tr th:only-of-type {\n",
       "        vertical-align: middle;\n",
       "    }\n",
       "\n",
       "    .dataframe tbody tr th {\n",
       "        vertical-align: top;\n",
       "    }\n",
       "\n",
       "    .dataframe thead th {\n",
       "        text-align: right;\n",
       "    }\n",
       "</style>\n",
       "<table border=\"1\" class=\"dataframe\">\n",
       "  <thead>\n",
       "    <tr style=\"text-align: right;\">\n",
       "      <th></th>\n",
       "      <th>Created Date</th>\n",
       "      <th>Closed Date</th>\n",
       "      <th>Agency</th>\n",
       "      <th>Incident Zip</th>\n",
       "      <th>Borough</th>\n",
       "      <th>Latitude</th>\n",
       "      <th>Longitude</th>\n",
       "      <th>processing_time</th>\n",
       "      <th>yyyymm</th>\n",
       "      <th>float_time</th>\n",
       "    </tr>\n",
       "  </thead>\n",
       "  <tbody>\n",
       "    <tr>\n",
       "      <th>10</th>\n",
       "      <td>2016-09-01 00:33:42</td>\n",
       "      <td>2016-09-16 01:06:56</td>\n",
       "      <td>DCA</td>\n",
       "      <td>10001</td>\n",
       "      <td>MANHATTAN</td>\n",
       "      <td>40.744790</td>\n",
       "      <td>-73.988834</td>\n",
       "      <td>15 days 00:33:14</td>\n",
       "      <td>201609</td>\n",
       "      <td>15.023079</td>\n",
       "    </tr>\n",
       "    <tr>\n",
       "      <th>11</th>\n",
       "      <td>2016-09-01 20:16:24</td>\n",
       "      <td>2016-09-10 18:08:25</td>\n",
       "      <td>HPD</td>\n",
       "      <td>11691</td>\n",
       "      <td>QUEENS</td>\n",
       "      <td>40.600554</td>\n",
       "      <td>-73.750704</td>\n",
       "      <td>8 days 21:52:01</td>\n",
       "      <td>201609</td>\n",
       "      <td>8.911123</td>\n",
       "    </tr>\n",
       "    <tr>\n",
       "      <th>12</th>\n",
       "      <td>2016-09-01 12:17:00</td>\n",
       "      <td>2016-09-07 12:00:00</td>\n",
       "      <td>DSNY</td>\n",
       "      <td>11211</td>\n",
       "      <td>BROOKLYN</td>\n",
       "      <td>40.704925</td>\n",
       "      <td>-73.962007</td>\n",
       "      <td>5 days 23:43:00</td>\n",
       "      <td>201609</td>\n",
       "      <td>5.988194</td>\n",
       "    </tr>\n",
       "    <tr>\n",
       "      <th>13</th>\n",
       "      <td>2016-09-01 12:10:22</td>\n",
       "      <td>2016-09-10 14:23:44</td>\n",
       "      <td>HPD</td>\n",
       "      <td>10027</td>\n",
       "      <td>MANHATTAN</td>\n",
       "      <td>40.812322</td>\n",
       "      <td>-73.955338</td>\n",
       "      <td>9 days 02:13:22</td>\n",
       "      <td>201609</td>\n",
       "      <td>9.092616</td>\n",
       "    </tr>\n",
       "    <tr>\n",
       "      <th>14</th>\n",
       "      <td>2016-09-01 12:32:32</td>\n",
       "      <td>2016-09-11 02:03:37</td>\n",
       "      <td>HPD</td>\n",
       "      <td>10452</td>\n",
       "      <td>BRONX</td>\n",
       "      <td>40.839529</td>\n",
       "      <td>-73.922534</td>\n",
       "      <td>9 days 13:31:05</td>\n",
       "      <td>201609</td>\n",
       "      <td>9.563252</td>\n",
       "    </tr>\n",
       "    <tr>\n",
       "      <th>...</th>\n",
       "      <td>...</td>\n",
       "      <td>...</td>\n",
       "      <td>...</td>\n",
       "      <td>...</td>\n",
       "      <td>...</td>\n",
       "      <td>...</td>\n",
       "      <td>...</td>\n",
       "      <td>...</td>\n",
       "      <td>...</td>\n",
       "      <td>...</td>\n",
       "    </tr>\n",
       "    <tr>\n",
       "      <th>971058</th>\n",
       "      <td>2016-09-20 15:02:25</td>\n",
       "      <td>2016-09-24 09:33:13</td>\n",
       "      <td>HPD</td>\n",
       "      <td>10469</td>\n",
       "      <td>BRONX</td>\n",
       "      <td>40.877527</td>\n",
       "      <td>-73.847712</td>\n",
       "      <td>3 days 18:30:48</td>\n",
       "      <td>201609</td>\n",
       "      <td>3.771389</td>\n",
       "    </tr>\n",
       "    <tr>\n",
       "      <th>971059</th>\n",
       "      <td>2016-09-20 11:36:47</td>\n",
       "      <td>2016-10-21 20:02:42</td>\n",
       "      <td>HPD</td>\n",
       "      <td>10029</td>\n",
       "      <td>MANHATTAN</td>\n",
       "      <td>40.791709</td>\n",
       "      <td>-73.937064</td>\n",
       "      <td>31 days 08:25:55</td>\n",
       "      <td>201609</td>\n",
       "      <td>31.351331</td>\n",
       "    </tr>\n",
       "    <tr>\n",
       "      <th>971060</th>\n",
       "      <td>2016-09-20 16:41:40</td>\n",
       "      <td>2016-09-24 09:41:28</td>\n",
       "      <td>HPD</td>\n",
       "      <td>10460</td>\n",
       "      <td>BRONX</td>\n",
       "      <td>40.833706</td>\n",
       "      <td>-73.895943</td>\n",
       "      <td>3 days 16:59:48</td>\n",
       "      <td>201609</td>\n",
       "      <td>3.708194</td>\n",
       "    </tr>\n",
       "    <tr>\n",
       "      <th>971061</th>\n",
       "      <td>2016-09-20 11:36:46</td>\n",
       "      <td>2016-10-21 20:02:41</td>\n",
       "      <td>HPD</td>\n",
       "      <td>10029</td>\n",
       "      <td>MANHATTAN</td>\n",
       "      <td>40.791709</td>\n",
       "      <td>-73.937064</td>\n",
       "      <td>31 days 08:25:55</td>\n",
       "      <td>201609</td>\n",
       "      <td>31.351331</td>\n",
       "    </tr>\n",
       "    <tr>\n",
       "      <th>971062</th>\n",
       "      <td>2016-09-20 13:41:33</td>\n",
       "      <td>2016-10-11 02:04:05</td>\n",
       "      <td>HPD</td>\n",
       "      <td>11432</td>\n",
       "      <td>QUEENS</td>\n",
       "      <td>40.711279</td>\n",
       "      <td>-73.788951</td>\n",
       "      <td>20 days 12:22:32</td>\n",
       "      <td>201609</td>\n",
       "      <td>20.515648</td>\n",
       "    </tr>\n",
       "  </tbody>\n",
       "</table>\n",
       "<p>799323 rows × 10 columns</p>\n",
       "</div>"
      ],
      "text/plain": [
       "              Created Date         Closed Date Agency Incident Zip    Borough  \\\n",
       "10     2016-09-01 00:33:42 2016-09-16 01:06:56    DCA        10001  MANHATTAN   \n",
       "11     2016-09-01 20:16:24 2016-09-10 18:08:25    HPD        11691     QUEENS   \n",
       "12     2016-09-01 12:17:00 2016-09-07 12:00:00   DSNY        11211   BROOKLYN   \n",
       "13     2016-09-01 12:10:22 2016-09-10 14:23:44    HPD        10027  MANHATTAN   \n",
       "14     2016-09-01 12:32:32 2016-09-11 02:03:37    HPD        10452      BRONX   \n",
       "...                    ...                 ...    ...          ...        ...   \n",
       "971058 2016-09-20 15:02:25 2016-09-24 09:33:13    HPD        10469      BRONX   \n",
       "971059 2016-09-20 11:36:47 2016-10-21 20:02:42    HPD        10029  MANHATTAN   \n",
       "971060 2016-09-20 16:41:40 2016-09-24 09:41:28    HPD        10460      BRONX   \n",
       "971061 2016-09-20 11:36:46 2016-10-21 20:02:41    HPD        10029  MANHATTAN   \n",
       "971062 2016-09-20 13:41:33 2016-10-11 02:04:05    HPD        11432     QUEENS   \n",
       "\n",
       "         Latitude  Longitude  processing_time  yyyymm  float_time  \n",
       "10      40.744790 -73.988834 15 days 00:33:14  201609   15.023079  \n",
       "11      40.600554 -73.750704  8 days 21:52:01  201609    8.911123  \n",
       "12      40.704925 -73.962007  5 days 23:43:00  201609    5.988194  \n",
       "13      40.812322 -73.955338  9 days 02:13:22  201609    9.092616  \n",
       "14      40.839529 -73.922534  9 days 13:31:05  201609    9.563252  \n",
       "...           ...        ...              ...     ...         ...  \n",
       "971058  40.877527 -73.847712  3 days 18:30:48  201609    3.771389  \n",
       "971059  40.791709 -73.937064 31 days 08:25:55  201609   31.351331  \n",
       "971060  40.833706 -73.895943  3 days 16:59:48  201609    3.708194  \n",
       "971061  40.791709 -73.937064 31 days 08:25:55  201609   31.351331  \n",
       "971062  40.711279 -73.788951 20 days 12:22:32  201609   20.515648  \n",
       "\n",
       "[799323 rows x 10 columns]"
      ]
     },
     "execution_count": 20,
     "metadata": {},
     "output_type": "execute_result"
    }
   ],
   "source": [
    "data"
   ]
  },
  {
   "cell_type": "markdown",
   "metadata": {},
   "source": [
    "<h2>Now we can compute stats easily</h2>"
   ]
  },
  {
   "cell_type": "code",
   "execution_count": 21,
   "metadata": {},
   "outputs": [
    {
     "data": {
      "text/html": [
       "<div>\n",
       "<style scoped>\n",
       "    .dataframe tbody tr th:only-of-type {\n",
       "        vertical-align: middle;\n",
       "    }\n",
       "\n",
       "    .dataframe tbody tr th {\n",
       "        vertical-align: top;\n",
       "    }\n",
       "\n",
       "    .dataframe thead th {\n",
       "        text-align: right;\n",
       "    }\n",
       "</style>\n",
       "<table border=\"1\" class=\"dataframe\">\n",
       "  <thead>\n",
       "    <tr style=\"text-align: right;\">\n",
       "      <th></th>\n",
       "      <th>float_time</th>\n",
       "    </tr>\n",
       "    <tr>\n",
       "      <th>Agency</th>\n",
       "      <th></th>\n",
       "    </tr>\n",
       "  </thead>\n",
       "  <tbody>\n",
       "    <tr>\n",
       "      <th>EDC</th>\n",
       "      <td>49.604041</td>\n",
       "    </tr>\n",
       "    <tr>\n",
       "      <th>FDNY</th>\n",
       "      <td>32.995208</td>\n",
       "    </tr>\n",
       "    <tr>\n",
       "      <th>DPR</th>\n",
       "      <td>24.395774</td>\n",
       "    </tr>\n",
       "    <tr>\n",
       "      <th>TLC</th>\n",
       "      <td>24.196724</td>\n",
       "    </tr>\n",
       "    <tr>\n",
       "      <th>DOITT</th>\n",
       "      <td>18.300134</td>\n",
       "    </tr>\n",
       "    <tr>\n",
       "      <th>DOHMH</th>\n",
       "      <td>15.897552</td>\n",
       "    </tr>\n",
       "    <tr>\n",
       "      <th>DOB</th>\n",
       "      <td>12.345634</td>\n",
       "    </tr>\n",
       "    <tr>\n",
       "      <th>DOE</th>\n",
       "      <td>11.360792</td>\n",
       "    </tr>\n",
       "    <tr>\n",
       "      <th>DCA</th>\n",
       "      <td>9.254590</td>\n",
       "    </tr>\n",
       "    <tr>\n",
       "      <th>HPD</th>\n",
       "      <td>8.799452</td>\n",
       "    </tr>\n",
       "    <tr>\n",
       "      <th>DFTA</th>\n",
       "      <td>8.465869</td>\n",
       "    </tr>\n",
       "    <tr>\n",
       "      <th>DOT</th>\n",
       "      <td>4.447129</td>\n",
       "    </tr>\n",
       "    <tr>\n",
       "      <th>DEP</th>\n",
       "      <td>3.520583</td>\n",
       "    </tr>\n",
       "    <tr>\n",
       "      <th>DSNY</th>\n",
       "      <td>3.052327</td>\n",
       "    </tr>\n",
       "    <tr>\n",
       "      <th>DOF</th>\n",
       "      <td>2.728715</td>\n",
       "    </tr>\n",
       "    <tr>\n",
       "      <th>DHS</th>\n",
       "      <td>0.207951</td>\n",
       "    </tr>\n",
       "    <tr>\n",
       "      <th>NYPD</th>\n",
       "      <td>0.205126</td>\n",
       "    </tr>\n",
       "    <tr>\n",
       "      <th>3-1-1</th>\n",
       "      <td>0.016513</td>\n",
       "    </tr>\n",
       "  </tbody>\n",
       "</table>\n",
       "</div>"
      ],
      "text/plain": [
       "        float_time\n",
       "Agency            \n",
       "EDC      49.604041\n",
       "FDNY     32.995208\n",
       "DPR      24.395774\n",
       "TLC      24.196724\n",
       "DOITT    18.300134\n",
       "DOHMH    15.897552\n",
       "DOB      12.345634\n",
       "DOE      11.360792\n",
       "DCA       9.254590\n",
       "HPD       8.799452\n",
       "DFTA      8.465869\n",
       "DOT       4.447129\n",
       "DEP       3.520583\n",
       "DSNY      3.052327\n",
       "DOF       2.728715\n",
       "DHS       0.207951\n",
       "NYPD      0.205126\n",
       "3-1-1     0.016513"
      ]
     },
     "execution_count": 21,
     "metadata": {},
     "output_type": "execute_result"
    }
   ],
   "source": [
    "grouped = data[['float_time','Agency']].groupby('Agency')\n",
    "grouped.mean().sort_values('float_time',ascending=False)"
   ]
  },
  {
   "cell_type": "code",
   "execution_count": 22,
   "metadata": {},
   "outputs": [
    {
     "data": {
      "text/plain": [
       "<matplotlib.axes._subplots.AxesSubplot at 0x1983e32ce48>"
      ]
     },
     "execution_count": 22,
     "metadata": {},
     "output_type": "execute_result"
    },
    {
     "data": {
      "image/png": "[encoded data removed]",
      "text/plain": [
       "<Figure size 432x288 with 1 Axes>"
      ]
     },
     "metadata": {
      "needs_background": "light"
     },
     "output_type": "display_data"
    }
   ],
   "source": [
    "data['float_time'].hist(bins=50)"
   ]
  },
  {
   "cell_type": "markdown",
   "metadata": {
    "collapsed": true
   },
   "source": [
    "<h1>Other useful visualization libraries</h1>\n",
    "<h2>seaborn: https://seaborn.pydata.org/</h2>\n",
    "<h2>bokeh: http://bokeh.pydata.org/en/latest/</h2>\n",
    "<h2>plotly: https://plot.ly/</h2>\n"
   ]
  },
  {
   "cell_type": "code",
   "execution_count": null,
   "metadata": {},
   "outputs": [],
   "source": []
  }
 ],
 "metadata": {
  "anaconda-cloud": {},
  "kernelspec": {
   "display_name": "Python 3 (ipykernel)",
   "language": "python",
   "name": "python3"
  },
  "language_info": {
   "codemirror_mode": {
    "name": "ipython",
    "version": 3
   },
   "file_extension": ".py",
   "mimetype": "text/x-python",
   "name": "python",
   "nbconvert_exporter": "python",
   "pygments_lexer": "ipython3",
   "version": "3.9.7"
  }
 },
 "nbformat": 4,
 "nbformat_minor": 1
}
